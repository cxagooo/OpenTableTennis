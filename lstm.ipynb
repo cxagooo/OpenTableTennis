{
 "cells": [
  {
   "cell_type": "code",
   "id": "initial_id",
   "metadata": {
    "collapsed": true,
    "ExecuteTime": {
     "end_time": "2024-08-12T17:50:50.451036Z",
     "start_time": "2024-08-12T17:50:50.411142Z"
    }
   },
   "source": [
    "from utils import list_change\n",
    "import pandas as pd\n",
    "import numpy as np\n",
    "import glob\n",
    "from keras import Sequential\n",
    "from keras.layers import LSTM, Dense\n",
    "import copy\n",
    "import matplotlib.pyplot as plt\n",
    "from utils import split_dataset, restore_changes\n",
    "import os\n",
    "import tensorflow as tf\n",
    "import cv2"
   ],
   "outputs": [],
   "execution_count": 14
  },
  {
   "metadata": {
    "ExecuteTime": {
     "end_time": "2024-08-12T17:50:50.493Z",
     "start_time": "2024-08-12T17:50:50.452444Z"
    }
   },
   "cell_type": "code",
   "source": [
    "import tensorflow as tf\n",
    "tf.config.list_physical_devices('GPU')\n",
    "# print(tf.__version__)\n",
    "# tf.test.is_gpu_available()"
   ],
   "id": "e9057abda0c345da",
   "outputs": [
    {
     "data": {
      "text/plain": [
       "[PhysicalDevice(name='/physical_device:GPU:0', device_type='GPU')]"
      ]
     },
     "execution_count": 15,
     "metadata": {},
     "output_type": "execute_result"
    }
   ],
   "execution_count": 15
  },
  {
   "metadata": {
    "ExecuteTime": {
     "end_time": "2024-08-12T17:50:50.534592Z",
     "start_time": "2024-08-12T17:50:50.494637Z"
    }
   },
   "cell_type": "code",
   "source": [
    "# def formating(X, Y):\n",
    "#     x_test = []\n",
    "#     y_test = []\n",
    "#     for x, y in zip(X, Y):\n",
    "#         x_test+=x[0].tolist()\n",
    "#         y_test+=y[0].tolist()\n",
    "#     return np.array(x_test), np.array(y_test)\n",
    "def formating(X, Y):\n",
    "    x_test = []\n",
    "    y_test = []\n",
    "    for x, y in zip(X, Y):\n",
    "        x_test+=x.tolist()\n",
    "        y_test+=y.tolist()\n",
    "    return np.array(x_test), np.array(y_test)"
   ],
   "id": "bce098d3ec0568d5",
   "outputs": [],
   "execution_count": 16
  },
  {
   "metadata": {
    "ExecuteTime": {
     "end_time": "2024-08-12T17:50:50.821536Z",
     "start_time": "2024-08-12T17:50:50.536248Z"
    }
   },
   "cell_type": "code",
   "source": [
    "files = glob.glob('CutFrame_Output/output*/use2.txt')\n",
    "data = [list_change(f) for f in files]"
   ],
   "id": "6c8250dc0da61856",
   "outputs": [],
   "execution_count": 17
  },
  {
   "metadata": {
    "ExecuteTime": {
     "end_time": "2024-08-12T17:50:52.301570Z",
     "start_time": "2024-08-12T17:50:50.823184Z"
    }
   },
   "cell_type": "code",
   "source": [
    "data=[]\n",
    "for _dir in glob.glob('CutFrame_Output/output*/'):\n",
    "    data.append([list_change(f) for f in glob.glob(_dir+'use*.txt')])\n",
    "data = np.array(data)"
   ],
   "id": "7a4461165a4aeb7e",
   "outputs": [],
   "execution_count": 18
  },
  {
   "metadata": {
    "ExecuteTime": {
     "end_time": "2024-08-12T17:50:52.341597Z",
     "start_time": "2024-08-12T17:50:52.302761Z"
    }
   },
   "cell_type": "code",
   "source": "len(data)",
   "id": "4cc58cc8d4db5d91",
   "outputs": [
    {
     "data": {
      "text/plain": [
       "81"
      ]
     },
     "execution_count": 19,
     "metadata": {},
     "output_type": "execute_result"
    }
   ],
   "execution_count": 19
  },
  {
   "metadata": {
    "ExecuteTime": {
     "end_time": "2024-08-12T17:50:52.381566Z",
     "start_time": "2024-08-12T17:50:52.343340Z"
    }
   },
   "cell_type": "code",
   "source": "data[0]",
   "id": "8fa4297456a5a0a1",
   "outputs": [
    {
     "data": {
      "text/plain": [
       "array([[[  25., -353.],\n",
       "        [  87., -388.],\n",
       "        [ 162., -464.]],\n",
       "\n",
       "       [[  -5., -352.],\n",
       "        [ -64., -345.],\n",
       "        [ 116., -441.]],\n",
       "\n",
       "       [[  23., -335.],\n",
       "        [ -46., -315.],\n",
       "        [  62., -425.]],\n",
       "\n",
       "       [[  19., -334.],\n",
       "        [ -27., -300.],\n",
       "        [  70., -409.]],\n",
       "\n",
       "       [[  -6., -326.],\n",
       "        [-102., -307.],\n",
       "        [ 113., -433.]],\n",
       "\n",
       "       [[ 114., -370.],\n",
       "        [ 172., -452.],\n",
       "        [ 170., -468.]],\n",
       "\n",
       "       [[ 114., -370.],\n",
       "        [ 172., -452.],\n",
       "        [ 170., -468.]]])"
      ]
     },
     "execution_count": 20,
     "metadata": {},
     "output_type": "execute_result"
    }
   ],
   "execution_count": 20
  },
  {
   "metadata": {
    "ExecuteTime": {
     "end_time": "2024-08-12T17:50:52.422128Z",
     "start_time": "2024-08-12T17:50:52.382903Z"
    }
   },
   "cell_type": "code",
   "source": [
    "# dataf = [pd.DataFrame(i,copy=True) for i in data]\n",
    "# dataf"
   ],
   "id": "2686e00ad07fbed5",
   "outputs": [],
   "execution_count": 21
  },
  {
   "metadata": {
    "ExecuteTime": {
     "end_time": "2024-08-12T17:50:52.463251Z",
     "start_time": "2024-08-12T17:50:52.423452Z"
    }
   },
   "cell_type": "code",
   "source": [
    "X = copy.deepcopy(data)\n",
    "Y = copy.deepcopy(data)\n",
    "X = np.delete(X, -1, axis=1)\n",
    "Y = np.delete(Y, 0, axis=1)"
   ],
   "id": "48a14b34f0bcce4e",
   "outputs": [],
   "execution_count": 22
  },
  {
   "metadata": {
    "ExecuteTime": {
     "end_time": "2024-08-12T17:50:52.504941Z",
     "start_time": "2024-08-12T17:50:52.464662Z"
    }
   },
   "cell_type": "code",
   "source": "Y.shape",
   "id": "e3797aa57d0a0ce4",
   "outputs": [
    {
     "data": {
      "text/plain": [
       "(81, 6, 3, 2)"
      ]
     },
     "execution_count": 23,
     "metadata": {},
     "output_type": "execute_result"
    }
   ],
   "execution_count": 23
  },
  {
   "metadata": {
    "ExecuteTime": {
     "end_time": "2024-08-12T17:50:52.546135Z",
     "start_time": "2024-08-12T17:50:52.506428Z"
    }
   },
   "cell_type": "code",
   "source": [
    "X, X_val, X_test, Y, Y_val, Y_test = split_dataset(X, Y)\n",
    "X_test, Y_test = formating(X_test, Y_test)"
   ],
   "id": "11665f27f2761c42",
   "outputs": [],
   "execution_count": 24
  },
  {
   "metadata": {
    "ExecuteTime": {
     "end_time": "2024-08-12T17:50:52.587353Z",
     "start_time": "2024-08-12T17:50:52.547323Z"
    }
   },
   "cell_type": "code",
   "source": "X_test.shape",
   "id": "fefab769524e0b16",
   "outputs": [
    {
     "data": {
      "text/plain": [
       "(48, 3, 2)"
      ]
     },
     "execution_count": 25,
     "metadata": {},
     "output_type": "execute_result"
    }
   ],
   "execution_count": 25
  },
  {
   "metadata": {
    "ExecuteTime": {
     "end_time": "2024-08-12T18:35:27.023886Z",
     "start_time": "2024-08-12T17:50:52.589326Z"
    }
   },
   "cell_type": "code",
   "source": [
    "l=[]\n",
    "l0=[]\n",
    "model = Sequential()\n",
    "model.add(LSTM(50, activation='relu', return_sequences=True, input_shape=(X.shape[2], X.shape[3])))\n",
    "model.add(Dense(2))\n",
    "model.compile(optimizer='adam', loss='mse')\n",
    "# history = model.fit(X, Y, epochs=100, batch_size=72, validation_data=(X, Y), verbose=1, shuffle=False)\n",
    "minimum_loss = float('inf')\n",
    "for epoch in range(200):\n",
    "    for x, y in zip(X, Y):\n",
    "        loss = model.train_on_batch(x, y)\n",
    "        l.append(loss)\n",
    "    l0.append(model.evaluate(X_test, Y_test))\n",
    "    if l0[-1] < minimum_loss:\n",
    "            minimum_loss = l0[-1]\n",
    "            model.save('best.h5')"
   ],
   "id": "ebf95cc71b8aa522",
   "outputs": [
    {
     "name": "stdout",
     "output_type": "stream",
     "text": [
      "WARNING:tensorflow:Layer lstm_1 will not use cuDNN kernels since it doesn't meet the criteria. It will use a generic GPU kernel as fallback when running on GPU.\n",
      "2/2 [==============================] - 1s 161ms/step - loss: 25200.9297\n",
      "2/2 [==============================] - 0s 131ms/step - loss: 10676.6924\n",
      "2/2 [==============================] - 0s 157ms/step - loss: 4798.1821\n",
      "2/2 [==============================] - 0s 162ms/step - loss: 2036.3500\n",
      "2/2 [==============================] - 0s 5ms/step - loss: 1214.9496\n",
      "2/2 [==============================] - 0s 42ms/step - loss: 908.6489\n",
      "2/2 [==============================] - 0s 118ms/step - loss: 1000.5703\n",
      "2/2 [==============================] - 0s 117ms/step - loss: 898.9446\n",
      "2/2 [==============================] - 0s 158ms/step - loss: 1082.8888\n",
      "2/2 [==============================] - 0s 156ms/step - loss: 823.9605\n",
      "2/2 [==============================] - 0s 157ms/step - loss: 762.9743\n",
      "2/2 [==============================] - 0s 116ms/step - loss: 746.6774\n",
      "2/2 [==============================] - 0s 122ms/step - loss: 715.5617\n",
      "2/2 [==============================] - 0s 157ms/step - loss: 634.9128\n",
      "2/2 [==============================] - 0s 157ms/step - loss: 800.3120\n",
      "2/2 [==============================] - 0s 84ms/step - loss: 636.6302\n",
      "2/2 [==============================] - 0s 156ms/step - loss: 619.6723\n",
      "2/2 [==============================] - 0s 159ms/step - loss: 649.2836\n",
      "2/2 [==============================] - 0s 158ms/step - loss: 612.1057\n",
      "2/2 [==============================] - 0s 156ms/step - loss: 636.9221\n",
      "2/2 [==============================] - 0s 43ms/step - loss: 607.8265\n",
      "2/2 [==============================] - 0s 159ms/step - loss: 628.5954\n",
      "2/2 [==============================] - 0s 162ms/step - loss: 619.6144\n",
      "2/2 [==============================] - 0s 158ms/step - loss: 625.5475\n",
      "2/2 [==============================] - 0s 156ms/step - loss: 635.7849\n",
      "2/2 [==============================] - 0s 161ms/step - loss: 626.4449\n",
      "2/2 [==============================] - 0s 158ms/step - loss: 636.3115\n",
      "2/2 [==============================] - 0s 158ms/step - loss: 641.0092\n",
      "2/2 [==============================] - 0s 157ms/step - loss: 607.4692\n",
      "2/2 [==============================] - 0s 119ms/step - loss: 598.3876\n",
      "2/2 [==============================] - 0s 157ms/step - loss: 582.5840\n",
      "2/2 [==============================] - 0s 166ms/step - loss: 762.5148\n",
      "2/2 [==============================] - 0s 161ms/step - loss: 701.2912\n",
      "2/2 [==============================] - 0s 157ms/step - loss: 655.2950\n",
      "2/2 [==============================] - 0s 173ms/step - loss: 619.3060\n",
      "2/2 [==============================] - 0s 42ms/step - loss: 607.2261\n",
      "2/2 [==============================] - 0s 157ms/step - loss: 590.6857\n",
      "2/2 [==============================] - 0s 159ms/step - loss: 575.2343\n",
      "2/2 [==============================] - 0s 119ms/step - loss: 629.0220\n",
      "2/2 [==============================] - 0s 159ms/step - loss: 606.5994\n",
      "2/2 [==============================] - 0s 83ms/step - loss: 586.0795\n",
      "2/2 [==============================] - 0s 120ms/step - loss: 594.4430\n",
      "2/2 [==============================] - 0s 159ms/step - loss: 581.1393\n",
      "2/2 [==============================] - 0s 118ms/step - loss: 609.4283\n",
      "2/2 [==============================] - 0s 158ms/step - loss: 579.3696\n",
      "2/2 [==============================] - 0s 164ms/step - loss: 586.9037\n",
      "2/2 [==============================] - 0s 116ms/step - loss: 580.5208\n",
      "2/2 [==============================] - 0s 122ms/step - loss: 555.4501\n",
      "2/2 [==============================] - 0s 157ms/step - loss: 662.7173\n",
      "2/2 [==============================] - 0s 160ms/step - loss: 598.2717\n",
      "2/2 [==============================] - 0s 161ms/step - loss: 557.6772\n",
      "2/2 [==============================] - 0s 158ms/step - loss: 567.3093\n",
      "2/2 [==============================] - 0s 158ms/step - loss: 624.5526\n",
      "2/2 [==============================] - 0s 159ms/step - loss: 587.5078\n",
      "2/2 [==============================] - 0s 158ms/step - loss: 541.4435\n",
      "2/2 [==============================] - 0s 5ms/step - loss: 546.7646\n",
      "2/2 [==============================] - 0s 158ms/step - loss: 622.1828\n",
      "2/2 [==============================] - 0s 160ms/step - loss: 562.8009\n",
      "2/2 [==============================] - 0s 120ms/step - loss: 663.3818\n",
      "2/2 [==============================] - 0s 120ms/step - loss: 518.1583\n",
      "2/2 [==============================] - 0s 162ms/step - loss: 608.9105\n",
      "2/2 [==============================] - 0s 160ms/step - loss: 526.1918\n",
      "2/2 [==============================] - 0s 143ms/step - loss: 648.6961\n",
      "2/2 [==============================] - 0s 4ms/step - loss: 569.8437\n",
      "2/2 [==============================] - 0s 162ms/step - loss: 536.9933\n",
      "2/2 [==============================] - 0s 160ms/step - loss: 569.4388\n",
      "2/2 [==============================] - 0s 155ms/step - loss: 515.3838\n",
      "2/2 [==============================] - 0s 160ms/step - loss: 671.4029\n",
      "2/2 [==============================] - 0s 162ms/step - loss: 556.2840\n",
      "2/2 [==============================] - 0s 82ms/step - loss: 588.3543\n",
      "2/2 [==============================] - 0s 159ms/step - loss: 520.3583\n",
      "2/2 [==============================] - 0s 120ms/step - loss: 572.1512\n",
      "2/2 [==============================] - 0s 159ms/step - loss: 522.1730\n",
      "2/2 [==============================] - 0s 126ms/step - loss: 786.9849\n",
      "2/2 [==============================] - 0s 159ms/step - loss: 496.4772\n",
      "2/2 [==============================] - 0s 164ms/step - loss: 577.4993\n",
      "2/2 [==============================] - 0s 9ms/step - loss: 528.5195\n",
      "2/2 [==============================] - 0s 161ms/step - loss: 483.9729\n",
      "2/2 [==============================] - 0s 166ms/step - loss: 519.9602\n",
      "2/2 [==============================] - 0s 43ms/step - loss: 540.4991\n",
      "2/2 [==============================] - 0s 159ms/step - loss: 754.7310\n",
      "2/2 [==============================] - 0s 159ms/step - loss: 504.8823\n",
      "2/2 [==============================] - 0s 137ms/step - loss: 573.9200\n",
      "2/2 [==============================] - 0s 77ms/step - loss: 518.1483\n",
      "2/2 [==============================] - 0s 120ms/step - loss: 526.4847\n",
      "2/2 [==============================] - 0s 172ms/step - loss: 529.9006\n",
      "2/2 [==============================] - 0s 72ms/step - loss: 527.7684\n",
      "2/2 [==============================] - 0s 160ms/step - loss: 541.1934\n",
      "2/2 [==============================] - 0s 161ms/step - loss: 563.3603\n",
      "2/2 [==============================] - 0s 42ms/step - loss: 754.5452\n",
      "2/2 [==============================] - 0s 123ms/step - loss: 599.6857\n",
      "2/2 [==============================] - 0s 153ms/step - loss: 526.5695\n",
      "2/2 [==============================] - 0s 160ms/step - loss: 636.8203\n",
      "2/2 [==============================] - 0s 4ms/step - loss: 591.8990\n",
      "2/2 [==============================] - 0s 133ms/step - loss: 650.6745\n",
      "2/2 [==============================] - 0s 161ms/step - loss: 518.0923\n",
      "2/2 [==============================] - 0s 42ms/step - loss: 519.9001\n",
      "2/2 [==============================] - 0s 159ms/step - loss: 557.8773\n",
      "2/2 [==============================] - 0s 121ms/step - loss: 563.8528\n",
      "2/2 [==============================] - 0s 162ms/step - loss: 534.9868\n",
      "2/2 [==============================] - 0s 161ms/step - loss: 556.3950\n",
      "2/2 [==============================] - 0s 123ms/step - loss: 555.6516\n",
      "2/2 [==============================] - 0s 160ms/step - loss: 542.7474\n",
      "2/2 [==============================] - 0s 162ms/step - loss: 478.2095\n",
      "2/2 [==============================] - 0s 160ms/step - loss: 529.5753\n",
      "2/2 [==============================] - 0s 161ms/step - loss: 522.4085\n",
      "2/2 [==============================] - 0s 162ms/step - loss: 522.0287\n",
      "2/2 [==============================] - 0s 43ms/step - loss: 608.2734\n",
      "2/2 [==============================] - 0s 161ms/step - loss: 473.8160\n",
      "2/2 [==============================] - 0s 162ms/step - loss: 743.5751\n",
      "2/2 [==============================] - 0s 161ms/step - loss: 518.9325\n",
      "2/2 [==============================] - 0s 160ms/step - loss: 508.3210\n",
      "2/2 [==============================] - 0s 160ms/step - loss: 538.6066\n",
      "2/2 [==============================] - 0s 161ms/step - loss: 527.6129\n",
      "2/2 [==============================] - 0s 164ms/step - loss: 518.3862\n",
      "2/2 [==============================] - 0s 161ms/step - loss: 540.7376\n",
      "2/2 [==============================] - 0s 122ms/step - loss: 543.8975\n",
      "2/2 [==============================] - 0s 161ms/step - loss: 584.8642\n",
      "2/2 [==============================] - 0s 122ms/step - loss: 581.2606\n",
      "2/2 [==============================] - 0s 162ms/step - loss: 630.3761\n",
      "2/2 [==============================] - 0s 131ms/step - loss: 564.6003\n",
      "2/2 [==============================] - 0s 162ms/step - loss: 571.6124\n",
      "2/2 [==============================] - 0s 5ms/step - loss: 536.0409\n",
      "2/2 [==============================] - 0s 162ms/step - loss: 635.9658\n",
      "2/2 [==============================] - 0s 122ms/step - loss: 594.1259\n",
      "2/2 [==============================] - 0s 163ms/step - loss: 482.3636\n",
      "2/2 [==============================] - 0s 122ms/step - loss: 421.6634\n",
      "2/2 [==============================] - 0s 161ms/step - loss: 511.5574\n",
      "2/2 [==============================] - 0s 121ms/step - loss: 508.4312\n",
      "2/2 [==============================] - 0s 161ms/step - loss: 418.2849\n",
      "2/2 [==============================] - 0s 162ms/step - loss: 557.2088\n",
      "2/2 [==============================] - 0s 173ms/step - loss: 595.9424\n",
      "2/2 [==============================] - 0s 122ms/step - loss: 503.8309\n",
      "2/2 [==============================] - 0s 161ms/step - loss: 505.7646\n",
      "2/2 [==============================] - 0s 43ms/step - loss: 473.9167\n",
      "2/2 [==============================] - 0s 42ms/step - loss: 490.4125\n",
      "2/2 [==============================] - 0s 161ms/step - loss: 534.8784\n",
      "2/2 [==============================] - 0s 162ms/step - loss: 545.2125\n",
      "2/2 [==============================] - 0s 122ms/step - loss: 662.2552\n",
      "2/2 [==============================] - 0s 162ms/step - loss: 528.7794\n",
      "2/2 [==============================] - 0s 163ms/step - loss: 487.4350\n",
      "2/2 [==============================] - 0s 122ms/step - loss: 474.4065\n",
      "2/2 [==============================] - 0s 162ms/step - loss: 493.5808\n",
      "2/2 [==============================] - 0s 164ms/step - loss: 473.6010\n",
      "2/2 [==============================] - 0s 123ms/step - loss: 476.7293\n",
      "2/2 [==============================] - 0s 163ms/step - loss: 478.2386\n",
      "2/2 [==============================] - 0s 147ms/step - loss: 466.7992\n",
      "2/2 [==============================] - 0s 123ms/step - loss: 468.3600\n",
      "2/2 [==============================] - 0s 154ms/step - loss: 473.0062\n",
      "2/2 [==============================] - 0s 42ms/step - loss: 484.2348\n",
      "2/2 [==============================] - 0s 72ms/step - loss: 467.4069\n",
      "2/2 [==============================] - 0s 162ms/step - loss: 474.8594\n",
      "2/2 [==============================] - 0s 165ms/step - loss: 449.0807\n",
      "2/2 [==============================] - 0s 189ms/step - loss: 473.6694\n",
      "2/2 [==============================] - 0s 175ms/step - loss: 469.1649\n",
      "2/2 [==============================] - 0s 160ms/step - loss: 469.1071\n",
      "2/2 [==============================] - 0s 163ms/step - loss: 537.7903\n",
      "2/2 [==============================] - 0s 126ms/step - loss: 503.7517\n",
      "2/2 [==============================] - 0s 162ms/step - loss: 605.1107\n",
      "2/2 [==============================] - 0s 166ms/step - loss: 561.2551\n",
      "2/2 [==============================] - 0s 124ms/step - loss: 563.6401\n",
      "2/2 [==============================] - 0s 101ms/step - loss: 434.5443\n",
      "2/2 [==============================] - 0s 165ms/step - loss: 482.9455\n",
      "2/2 [==============================] - 0s 165ms/step - loss: 482.5735\n",
      "2/2 [==============================] - 0s 162ms/step - loss: 471.0271\n",
      "2/2 [==============================] - 0s 165ms/step - loss: 506.8121\n",
      "2/2 [==============================] - 0s 157ms/step - loss: 469.1149\n",
      "2/2 [==============================] - 0s 163ms/step - loss: 501.1865\n",
      "2/2 [==============================] - 0s 81ms/step - loss: 465.4672\n",
      "2/2 [==============================] - 0s 124ms/step - loss: 487.0476\n",
      "2/2 [==============================] - 0s 162ms/step - loss: 526.9346\n",
      "2/2 [==============================] - 0s 84ms/step - loss: 484.8120\n",
      "2/2 [==============================] - 0s 164ms/step - loss: 587.8174\n",
      "2/2 [==============================] - 0s 163ms/step - loss: 650.5117\n",
      "2/2 [==============================] - 0s 84ms/step - loss: 552.8673\n",
      "2/2 [==============================] - 0s 164ms/step - loss: 772.3929\n",
      "2/2 [==============================] - 0s 164ms/step - loss: 612.6465\n",
      "2/2 [==============================] - 0s 172ms/step - loss: 569.2731\n",
      "2/2 [==============================] - 0s 124ms/step - loss: 452.4534\n",
      "2/2 [==============================] - 0s 164ms/step - loss: 517.9623\n",
      "2/2 [==============================] - 0s 163ms/step - loss: 506.8187\n",
      "2/2 [==============================] - 0s 163ms/step - loss: 485.9097\n",
      "2/2 [==============================] - 0s 82ms/step - loss: 515.6100\n",
      "2/2 [==============================] - 0s 125ms/step - loss: 503.7043\n",
      "2/2 [==============================] - 0s 145ms/step - loss: 502.4896\n",
      "2/2 [==============================] - 0s 42ms/step - loss: 502.3128\n",
      "2/2 [==============================] - 0s 126ms/step - loss: 469.8368\n",
      "2/2 [==============================] - 0s 165ms/step - loss: 516.3069\n",
      "2/2 [==============================] - 0s 169ms/step - loss: 473.5300\n",
      "2/2 [==============================] - 0s 10ms/step - loss: 498.9977\n",
      "2/2 [==============================] - 0s 162ms/step - loss: 502.3774\n",
      "2/2 [==============================] - 0s 152ms/step - loss: 499.4966\n",
      "2/2 [==============================] - 0s 41ms/step - loss: 481.5791\n",
      "2/2 [==============================] - 0s 170ms/step - loss: 491.4135\n",
      "2/2 [==============================] - 0s 164ms/step - loss: 1100.1277\n",
      "2/2 [==============================] - 0s 202ms/step - loss: 469.4476\n",
      "2/2 [==============================] - 0s 172ms/step - loss: 474.9839\n",
      "2/2 [==============================] - 0s 82ms/step - loss: 516.7026\n",
      "2/2 [==============================] - 0s 117ms/step - loss: 466.0010\n",
      "2/2 [==============================] - 0s 165ms/step - loss: 498.4590\n"
     ]
    }
   ],
   "execution_count": 26
  },
  {
   "metadata": {
    "ExecuteTime": {
     "end_time": "2024-08-12T18:35:27.143812Z",
     "start_time": "2024-08-12T18:35:27.025515Z"
    }
   },
   "cell_type": "code",
   "source": [
    "plt.plot(l)\n",
    "plt.plot(l0)\n",
    "plt.show()"
   ],
   "id": "c8ec153d414107ba",
   "outputs": [
    {
     "data": {
      "text/plain": [
       "<Figure size 640x480 with 1 Axes>"
      ],
      "image/png": "[encoded data removed]"
     },
     "metadata": {},
     "output_type": "display_data"
    }
   ],
   "execution_count": 27
  },
  {
   "metadata": {
    "ExecuteTime": {
     "end_time": "2024-08-12T18:35:27.223816Z",
     "start_time": "2024-08-12T18:35:27.145188Z"
    }
   },
   "cell_type": "code",
   "source": "plt.plot(l0)",
   "id": "384bd6e228563e24",
   "outputs": [
    {
     "data": {
      "text/plain": [
       "[<matplotlib.lines.Line2D at 0x7f76c05d4e50>]"
      ]
     },
     "execution_count": 28,
     "metadata": {},
     "output_type": "execute_result"
    },
    {
     "data": {
      "text/plain": [
       "<Figure size 640x480 with 1 Axes>"
      ],
      "image/png": "[encoded data removed]"
     },
     "metadata": {},
     "output_type": "display_data"
    }
   ],
   "execution_count": 28
  },
  {
   "metadata": {
    "ExecuteTime": {
     "end_time": "2024-08-12T18:35:27.263769Z",
     "start_time": "2024-08-12T18:35:27.225166Z"
    }
   },
   "cell_type": "code",
   "source": "print(f'best epoch: {min(l0)}',f'best batch: {min(l)}')",
   "id": "fca41b35f19cd3e4",
   "outputs": [
    {
     "name": "stdout",
     "output_type": "stream",
     "text": [
      "best epoch: 418.284912109375 best batch: 3.023247003555298\n"
     ]
    }
   ],
   "execution_count": 29
  },
  {
   "metadata": {
    "ExecuteTime": {
     "end_time": "2024-08-12T18:35:27.303766Z",
     "start_time": "2024-08-12T18:35:27.265349Z"
    }
   },
   "cell_type": "code",
   "source": "l0[-1]",
   "id": "8e4fa70e4e58353a",
   "outputs": [
    {
     "data": {
      "text/plain": [
       "498.458984375"
      ]
     },
     "execution_count": 30,
     "metadata": {},
     "output_type": "execute_result"
    }
   ],
   "execution_count": 30
  },
  {
   "metadata": {
    "ExecuteTime": {
     "end_time": "2024-08-12T18:35:27.343788Z",
     "start_time": "2024-08-12T18:35:27.305343Z"
    }
   },
   "cell_type": "code",
   "source": "model.save('last.h5')",
   "id": "c668eb7fb71a0de",
   "outputs": [],
   "execution_count": 31
  },
  {
   "metadata": {
    "ExecuteTime": {
     "end_time": "2024-08-12T18:35:27.383839Z",
     "start_time": "2024-08-12T18:35:27.345327Z"
    }
   },
   "cell_type": "code",
   "source": "data[0]",
   "id": "5895a488c2f24299",
   "outputs": [
    {
     "data": {
      "text/plain": [
       "array([[[  25., -353.],\n",
       "        [  87., -388.],\n",
       "        [ 162., -464.]],\n",
       "\n",
       "       [[  -5., -352.],\n",
       "        [ -64., -345.],\n",
       "        [ 116., -441.]],\n",
       "\n",
       "       [[  23., -335.],\n",
       "        [ -46., -315.],\n",
       "        [  62., -425.]],\n",
       "\n",
       "       [[  19., -334.],\n",
       "        [ -27., -300.],\n",
       "        [  70., -409.]],\n",
       "\n",
       "       [[  -6., -326.],\n",
       "        [-102., -307.],\n",
       "        [ 113., -433.]],\n",
       "\n",
       "       [[ 114., -370.],\n",
       "        [ 172., -452.],\n",
       "        [ 170., -468.]],\n",
       "\n",
       "       [[ 114., -370.],\n",
       "        [ 172., -452.],\n",
       "        [ 170., -468.]]])"
      ]
     },
     "execution_count": 32,
     "metadata": {},
     "output_type": "execute_result"
    }
   ],
   "execution_count": 32
  },
  {
   "metadata": {
    "ExecuteTime": {
     "end_time": "2024-08-12T18:44:49.414326Z",
     "start_time": "2024-08-12T18:44:49.371799Z"
    }
   },
   "cell_type": "code",
   "source": "restore_changes(data[0],0,None)",
   "id": "e0597680252fdb29",
   "outputs": [
    {
     "data": {
      "text/plain": [
       "[[[265.0, 556.0], [327.0, 521.0], [402.0, 445.0]],\n",
       " [[236.0, 558.0], [177.0, 565.0], [357.0, 469.0]],\n",
       " [[270.0, 576.0], [201.0, 596.0], [309.0, 486.0]],\n",
       " [[266.0, 581.0], [220.0, 615.0], [317.0, 506.0]],\n",
       " [[242.0, 593.0], [146.0, 612.0], [361.0, 486.0]],\n",
       " [[362.0, 550.0], [420.0, 468.0], [418.0, 452.0]],\n",
       " [[362.0, 550.0], [420.0, 468.0], [418.0, 452.0]]]"
      ]
     },
     "execution_count": 34,
     "metadata": {},
     "output_type": "execute_result"
    }
   ],
   "execution_count": 34
  },
  {
   "metadata": {},
   "cell_type": "code",
   "source": [
    "# import cv2\n",
    "# img=cv2.imread('CutFrame_Output/output0/frame_0.png')\n",
    "# from utils import process_data\n",
    "# import re\n",
    "# from utils import list_change\n",
    "# \n",
    "# data = process_data(r'CutFrame_Output/output0/use0.txt')\n",
    "# data1 = list_change(r'CutFrame_Output/output0/use0.txt')\n",
    "# print(data)\n",
    "# print(data1)\n",
    "# for p in data:\n",
    "#     # print((p[0], p[1]))\n",
    "#     cv2.circle(img, (int(p[0]), int(p[1])), 3, (0, 255, 0), -1)\n",
    "# \n",
    "# for p in data1:\n",
    "#     # print((p[0], p[1]))\n",
    "#     cv2.circle(img, (int(p[0]), int(p[1])), 3, (0, 0, 255), -1)\n",
    "# \n",
    "# cv2.imwrite('output.png', img)"
   ],
   "id": "e1403453b1ac7ffd",
   "outputs": [],
   "execution_count": null
  },
  {
   "metadata": {},
   "cell_type": "code",
   "source": "# restore_changes(data[0],0)",
   "id": "71a96b6705140f20",
   "outputs": [],
   "execution_count": null
  },
  {
   "metadata": {
    "ExecuteTime": {
     "end_time": "2024-08-12T18:50:57.006623Z",
     "start_time": "2024-08-12T18:50:55.778093Z"
    }
   },
   "cell_type": "code",
   "source": [
    "model = tf.keras.models.load_model('last.h5')\n",
    "a= model.predict(data[0]).tolist()"
   ],
   "id": "35ed8c3b2c6808a1",
   "outputs": [
    {
     "name": "stdout",
     "output_type": "stream",
     "text": [
      "WARNING:tensorflow:Layer lstm_1 will not use cuDNN kernels since it doesn't meet the criteria. It will use a generic GPU kernel as fallback when running on GPU.\n",
      "1/1 [==============================] - 0s 316ms/step\n"
     ]
    }
   ],
   "execution_count": 45
  },
  {
   "metadata": {
    "ExecuteTime": {
     "end_time": "2024-08-12T18:49:31.966697Z",
     "start_time": "2024-08-12T18:49:31.923085Z"
    }
   },
   "cell_type": "code",
   "source": "a[0]",
   "id": "2e06408174cead2",
   "outputs": [
    {
     "data": {
      "text/plain": [
       "[[21.103517532348633, -350.386962890625],\n",
       " [72.66068267822266, -392.014892578125],\n",
       " [136.18894958496094, -477.59002685546875]]"
      ]
     },
     "execution_count": 40,
     "metadata": {},
     "output_type": "execute_result"
    }
   ],
   "execution_count": 40
  },
  {
   "metadata": {
    "ExecuteTime": {
     "end_time": "2024-08-12T18:50:03.069242Z",
     "start_time": "2024-08-12T18:50:03.025579Z"
    }
   },
   "cell_type": "code",
   "source": "data[0]",
   "id": "d771a8a086a8af73",
   "outputs": [
    {
     "data": {
      "text/plain": [
       "array([[[  25., -353.],\n",
       "        [  87., -388.],\n",
       "        [ 162., -464.]],\n",
       "\n",
       "       [[  -5., -352.],\n",
       "        [ -64., -345.],\n",
       "        [ 116., -441.]],\n",
       "\n",
       "       [[  23., -335.],\n",
       "        [ -46., -315.],\n",
       "        [  62., -425.]],\n",
       "\n",
       "       [[  19., -334.],\n",
       "        [ -27., -300.],\n",
       "        [  70., -409.]],\n",
       "\n",
       "       [[  -6., -326.],\n",
       "        [-102., -307.],\n",
       "        [ 113., -433.]],\n",
       "\n",
       "       [[ 114., -370.],\n",
       "        [ 172., -452.],\n",
       "        [ 170., -468.]],\n",
       "\n",
       "       [[ 114., -370.],\n",
       "        [ 172., -452.],\n",
       "        [ 170., -468.]]])"
      ]
     },
     "execution_count": 42,
     "metadata": {},
     "output_type": "execute_result"
    }
   ],
   "execution_count": 42
  },
  {
   "metadata": {
    "ExecuteTime": {
     "end_time": "2024-08-12T18:51:10.134612Z",
     "start_time": "2024-08-12T18:51:09.790079Z"
    }
   },
   "cell_type": "code",
   "source": [
    "points = restore_changes(a,0,None)\n",
    "# points = ['pass']+points\n",
    "# del(points[-1])\n",
    "for n,f in enumerate(points):\n",
    "    # if n==0:\n",
    "    #     continue\n",
    "    img = cv2.imread(f'./CutFrame_Output/output0/frame_{n}.png')\n",
    "    for p in f:\n",
    "        # print((p[0], p[1]))\n",
    "        cv2.circle(img, (int(p[0]), int(p[1])), 3, (0, 255, 0), -1)\n",
    "    cv2.imwrite(f'outputs/output{n}.png', img)"
   ],
   "id": "f28e0383904f9cf0",
   "outputs": [],
   "execution_count": 46
  }
 ],
 "metadata": {
  "kernelspec": {
   "display_name": "Python 3",
   "language": "python",
   "name": "python3"
  },
  "language_info": {
   "codemirror_mode": {
    "name": "ipython",
    "version": 2
   },
   "file_extension": ".py",
   "mimetype": "text/x-python",
   "name": "python",
   "nbconvert_exporter": "python",
   "pygments_lexer": "ipython2",
   "version": "2.7.6"
  }
 },
 "nbformat": 4,
 "nbformat_minor": 5
}
