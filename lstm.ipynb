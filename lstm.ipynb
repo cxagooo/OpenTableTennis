{
 "cells": [
  {
   "cell_type": "code",
   "id": "initial_id",
   "metadata": {
    "collapsed": true,
    "ExecuteTime": {
     "end_time": "2024-08-12T11:09:25.771525Z",
     "start_time": "2024-08-12T11:09:23.641961Z"
    }
   },
   "source": [
    "from utils import list_change\n",
    "import pandas as pd\n",
    "import numpy as np\n",
    "import glob\n",
    "from keras import Sequential\n",
    "from keras.layers import LSTM, Dense\n",
    "import copy\n",
    "import matplotlib.pyplot as plt\n",
    "from utils import split_dataset, restore_changes\n",
    "import os\n",
    "import tensorflow as tf\n",
    "import cv2"
   ],
   "outputs": [
    {
     "name": "stderr",
     "output_type": "stream",
     "text": [
      "2024-08-12 04:09:24.424780: I tensorflow/core/util/port.cc:113] oneDNN custom operations are on. You may see slightly different numerical results due to floating-point round-off errors from different computation orders. To turn them off, set the environment variable `TF_ENABLE_ONEDNN_OPTS=0`.\n",
      "2024-08-12 04:09:24.451214: E external/local_xla/xla/stream_executor/cuda/cuda_dnn.cc:9261] Unable to register cuDNN factory: Attempting to register factory for plugin cuDNN when one has already been registered\n",
      "2024-08-12 04:09:24.451257: E external/local_xla/xla/stream_executor/cuda/cuda_fft.cc:607] Unable to register cuFFT factory: Attempting to register factory for plugin cuFFT when one has already been registered\n",
      "2024-08-12 04:09:24.451924: E external/local_xla/xla/stream_executor/cuda/cuda_blas.cc:1515] Unable to register cuBLAS factory: Attempting to register factory for plugin cuBLAS when one has already been registered\n",
      "2024-08-12 04:09:24.456698: I tensorflow/core/platform/cpu_feature_guard.cc:182] This TensorFlow binary is optimized to use available CPU instructions in performance-critical operations.\n",
      "To enable the following instructions: AVX2 AVX512F AVX512_VNNI FMA, in other operations, rebuild TensorFlow with the appropriate compiler flags.\n",
      "2024-08-12 04:09:25.066347: W tensorflow/compiler/tf2tensorrt/utils/py_utils.cc:38] TF-TRT Warning: Could not find TensorRT\n"
     ]
    }
   ],
   "execution_count": 1
  },
  {
   "metadata": {
    "ExecuteTime": {
     "end_time": "2024-08-12T11:09:26.041511Z",
     "start_time": "2024-08-12T11:09:25.773071Z"
    }
   },
   "cell_type": "code",
   "source": [
    "import tensorflow as tf\n",
    "tf.config.list_physical_devices('GPU')\n",
    "# print(tf.__version__)\n",
    "# tf.test.is_gpu_available()"
   ],
   "id": "e9057abda0c345da",
   "outputs": [
    {
     "name": "stderr",
     "output_type": "stream",
     "text": [
      "2024-08-12 04:09:26.014364: I external/local_xla/xla/stream_executor/cuda/cuda_executor.cc:887] could not open file to read NUMA node: /sys/bus/pci/devices/0000:01:00.0/numa_node\n",
      "Your kernel may have been built without NUMA support.\n",
      "2024-08-12 04:09:26.032354: I external/local_xla/xla/stream_executor/cuda/cuda_executor.cc:887] could not open file to read NUMA node: /sys/bus/pci/devices/0000:01:00.0/numa_node\n",
      "Your kernel may have been built without NUMA support.\n",
      "2024-08-12 04:09:26.032391: I external/local_xla/xla/stream_executor/cuda/cuda_executor.cc:887] could not open file to read NUMA node: /sys/bus/pci/devices/0000:01:00.0/numa_node\n",
      "Your kernel may have been built without NUMA support.\n"
     ]
    },
    {
     "data": {
      "text/plain": [
       "[PhysicalDevice(name='/physical_device:GPU:0', device_type='GPU')]"
      ]
     },
     "execution_count": 2,
     "metadata": {},
     "output_type": "execute_result"
    }
   ],
   "execution_count": 2
  },
  {
   "metadata": {
    "ExecuteTime": {
     "end_time": "2024-08-12T11:09:26.061408Z",
     "start_time": "2024-08-12T11:09:26.042851Z"
    }
   },
   "cell_type": "code",
   "source": [
    "# def formating(X, Y):\n",
    "#     x_test = []\n",
    "#     y_test = []\n",
    "#     for x, y in zip(X, Y):\n",
    "#         x_test+=x[0].tolist()\n",
    "#         y_test+=y[0].tolist()\n",
    "#     return np.array(x_test), np.array(y_test)\n",
    "def formating(X, Y):\n",
    "    x_test = []\n",
    "    y_test = []\n",
    "    for x, y in zip(X, Y):\n",
    "        x_test+=x.tolist()\n",
    "        y_test+=y.tolist()\n",
    "    return np.array(x_test), np.array(y_test)"
   ],
   "id": "bce098d3ec0568d5",
   "outputs": [],
   "execution_count": 3
  },
  {
   "metadata": {
    "ExecuteTime": {
     "end_time": "2024-08-12T11:09:26.361431Z",
     "start_time": "2024-08-12T11:09:26.062880Z"
    }
   },
   "cell_type": "code",
   "source": [
    "files = glob.glob('CutFrame_Output/output*/use2.txt')\n",
    "data = [list_change(f) for f in files]"
   ],
   "id": "6c8250dc0da61856",
   "outputs": [],
   "execution_count": 4
  },
  {
   "metadata": {
    "ExecuteTime": {
     "end_time": "2024-08-12T11:09:27.621406Z",
     "start_time": "2024-08-12T11:09:26.362660Z"
    }
   },
   "cell_type": "code",
   "source": [
    "data=[]\n",
    "for _dir in glob.glob('CutFrame_Output/output*/'):\n",
    "    data.append([list_change(f) for f in glob.glob(_dir+'use*.txt')])\n",
    "data = np.array(data)"
   ],
   "id": "7a4461165a4aeb7e",
   "outputs": [],
   "execution_count": 5
  },
  {
   "metadata": {
    "ExecuteTime": {
     "end_time": "2024-08-12T10:11:11.848526Z",
     "start_time": "2024-08-12T10:11:11.834887Z"
    }
   },
   "cell_type": "code",
   "source": "len(data)",
   "id": "4cc58cc8d4db5d91",
   "outputs": [
    {
     "data": {
      "text/plain": [
       "81"
      ]
     },
     "execution_count": 4,
     "metadata": {},
     "output_type": "execute_result"
    }
   ],
   "execution_count": 4
  },
  {
   "metadata": {
    "ExecuteTime": {
     "end_time": "2024-08-12T10:11:13.371635Z",
     "start_time": "2024-08-12T10:11:13.352634Z"
    }
   },
   "cell_type": "code",
   "source": "data[0]",
   "id": "8fa4297456a5a0a1",
   "outputs": [
    {
     "data": {
      "text/plain": [
       "array([[[  25., -353.],\n",
       "        [  87., -388.],\n",
       "        [ 162., -464.]],\n",
       "\n",
       "       [[  -5., -352.],\n",
       "        [ -64., -345.],\n",
       "        [ 116., -441.]],\n",
       "\n",
       "       [[  23., -335.],\n",
       "        [ -46., -315.],\n",
       "        [  62., -425.]],\n",
       "\n",
       "       [[  19., -334.],\n",
       "        [ -27., -300.],\n",
       "        [  70., -409.]],\n",
       "\n",
       "       [[  -6., -326.],\n",
       "        [-102., -307.],\n",
       "        [ 113., -433.]],\n",
       "\n",
       "       [[ 114., -370.],\n",
       "        [ 172., -452.],\n",
       "        [ 170., -468.]],\n",
       "\n",
       "       [[ 114., -370.],\n",
       "        [ 172., -452.],\n",
       "        [ 170., -468.]]])"
      ]
     },
     "execution_count": 5,
     "metadata": {},
     "output_type": "execute_result"
    }
   ],
   "execution_count": 5
  },
  {
   "metadata": {
    "ExecuteTime": {
     "end_time": "2024-08-11T16:41:22.937550Z",
     "start_time": "2024-08-11T16:41:22.929957Z"
    }
   },
   "cell_type": "code",
   "source": [
    "# dataf = [pd.DataFrame(i,copy=True) for i in data]\n",
    "# dataf"
   ],
   "id": "2686e00ad07fbed5",
   "outputs": [],
   "execution_count": 12
  },
  {
   "metadata": {
    "ExecuteTime": {
     "end_time": "2024-08-11T16:41:22.947346Z",
     "start_time": "2024-08-11T16:41:22.938750Z"
    }
   },
   "cell_type": "code",
   "source": [
    "X = copy.deepcopy(data)\n",
    "Y = copy.deepcopy(data)\n",
    "X = np.delete(X, -1, axis=1)\n",
    "Y = np.delete(Y, 0, axis=1)"
   ],
   "id": "48a14b34f0bcce4e",
   "outputs": [],
   "execution_count": 13
  },
  {
   "metadata": {
    "ExecuteTime": {
     "end_time": "2024-08-11T16:41:22.957914Z",
     "start_time": "2024-08-11T16:41:22.948440Z"
    }
   },
   "cell_type": "code",
   "source": "Y.shape",
   "id": "e3797aa57d0a0ce4",
   "outputs": [
    {
     "data": {
      "text/plain": [
       "(81, 6, 3, 2)"
      ]
     },
     "execution_count": 14,
     "metadata": {},
     "output_type": "execute_result"
    }
   ],
   "execution_count": 14
  },
  {
   "metadata": {
    "ExecuteTime": {
     "end_time": "2024-08-11T16:41:22.970476Z",
     "start_time": "2024-08-11T16:41:22.959623Z"
    }
   },
   "cell_type": "code",
   "source": [
    "X, X_val, X_test, Y, Y_val, Y_test = split_dataset(X, Y)\n",
    "X_test, Y_test = formating(X_test, Y_test)"
   ],
   "id": "11665f27f2761c42",
   "outputs": [],
   "execution_count": 15
  },
  {
   "metadata": {
    "ExecuteTime": {
     "end_time": "2024-08-11T16:41:22.977121Z",
     "start_time": "2024-08-11T16:41:22.971621Z"
    }
   },
   "cell_type": "code",
   "source": "X_test.shape",
   "id": "fefab769524e0b16",
   "outputs": [
    {
     "data": {
      "text/plain": [
       "(102, 3, 2)"
      ]
     },
     "execution_count": 16,
     "metadata": {},
     "output_type": "execute_result"
    }
   ],
   "execution_count": 16
  },
  {
   "metadata": {
    "ExecuteTime": {
     "end_time": "2024-08-11T16:43:35.777480Z",
     "start_time": "2024-08-11T16:41:22.978174Z"
    }
   },
   "cell_type": "code",
   "source": [
    "l=[]\n",
    "l0=[]\n",
    "model = Sequential()\n",
    "model.add(LSTM(50, activation='relu', return_sequences=True, input_shape=(X.shape[2], X.shape[3])))\n",
    "model.add(Dense(2))\n",
    "model.compile(optimizer='adam', loss='mse')\n",
    "# history = model.fit(X, Y, epochs=100, batch_size=72, validation_data=(X, Y), verbose=1, shuffle=False)\n",
    "minimum_loss = float('inf')\n",
    "for epoch in range(200):\n",
    "    for x, y in zip(X, Y):\n",
    "        loss = model.train_on_batch(x, y)\n",
    "        l.append(loss)\n",
    "        if loss < minimum_loss:\n",
    "            minimum_loss = loss\n",
    "            model.save('best.h5')\n",
    "    l0.append(model.evaluate(X_test, Y_test))"
   ],
   "id": "ebf95cc71b8aa522",
   "outputs": [
    {
     "name": "stdout",
     "output_type": "stream",
     "text": [
      "WARNING:tensorflow:Layer lstm will not use cuDNN kernels since it doesn't meet the criteria. It will use a generic GPU kernel as fallback when running on GPU.\n"
     ]
    },
    {
     "name": "stderr",
     "output_type": "stream",
     "text": [
      "2024-08-11 09:41:22.991411: I external/local_xla/xla/stream_executor/cuda/cuda_executor.cc:887] could not open file to read NUMA node: /sys/bus/pci/devices/0000:01:00.0/numa_node\n",
      "Your kernel may have been built without NUMA support.\n",
      "2024-08-11 09:41:22.991468: I external/local_xla/xla/stream_executor/cuda/cuda_executor.cc:887] could not open file to read NUMA node: /sys/bus/pci/devices/0000:01:00.0/numa_node\n",
      "Your kernel may have been built without NUMA support.\n",
      "2024-08-11 09:41:22.991485: I external/local_xla/xla/stream_executor/cuda/cuda_executor.cc:887] could not open file to read NUMA node: /sys/bus/pci/devices/0000:01:00.0/numa_node\n",
      "Your kernel may have been built without NUMA support.\n",
      "2024-08-11 09:41:23.165106: I external/local_xla/xla/stream_executor/cuda/cuda_executor.cc:887] could not open file to read NUMA node: /sys/bus/pci/devices/0000:01:00.0/numa_node\n",
      "Your kernel may have been built without NUMA support.\n",
      "2024-08-11 09:41:23.165152: I external/local_xla/xla/stream_executor/cuda/cuda_executor.cc:887] could not open file to read NUMA node: /sys/bus/pci/devices/0000:01:00.0/numa_node\n",
      "Your kernel may have been built without NUMA support.\n",
      "2024-08-11 09:41:23.165158: I tensorflow/core/common_runtime/gpu/gpu_device.cc:2022] Could not identify NUMA node of platform GPU id 0, defaulting to 0.  Your kernel may not have been built with NUMA support.\n",
      "2024-08-11 09:41:23.165184: I external/local_xla/xla/stream_executor/cuda/cuda_executor.cc:887] could not open file to read NUMA node: /sys/bus/pci/devices/0000:01:00.0/numa_node\n",
      "Your kernel may have been built without NUMA support.\n",
      "2024-08-11 09:41:23.165200: I tensorflow/core/common_runtime/gpu/gpu_device.cc:1929] Created device /job:localhost/replica:0/task:0/device:GPU:0 with 13717 MB memory:  -> device: 0, name: NVIDIA GeForce RTX 3080 Laptop GPU, pci bus id: 0000:01:00.0, compute capability: 8.6\n",
      "2024-08-11 09:41:24.504140: I external/local_tsl/tsl/platform/default/subprocess.cc:304] Start cannot spawn child process: Permission denied\n",
      "2024-08-11 09:41:25.676540: I external/local_xla/xla/service/service.cc:168] XLA service 0x7fbb316a1450 initialized for platform CUDA (this does not guarantee that XLA will be used). Devices:\n",
      "2024-08-11 09:41:25.676584: I external/local_xla/xla/service/service.cc:176]   StreamExecutor device (0): NVIDIA GeForce RTX 3080 Laptop GPU, Compute Capability 8.6\n",
      "2024-08-11 09:41:25.686194: I tensorflow/compiler/mlir/tensorflow/utils/dump_mlir_util.cc:269] disabling MLIR crash reproducer, set env var `MLIR_CRASH_REPRODUCER_DIRECTORY` to enable.\n",
      "2024-08-11 09:41:25.709279: I external/local_xla/xla/stream_executor/cuda/cuda_dnn.cc:454] Loaded cuDNN version 8907\n",
      "WARNING: All log messages before absl::InitializeLog() is called are written to STDERR\n",
      "I0000 00:00:1723394485.777717   17878 device_compiler.h:186] Compiled cluster using XLA!  This line is logged at most once for the lifetime of the process.\n"
     ]
    },
    {
     "name": "stdout",
     "output_type": "stream",
     "text": [
      "4/4 [==============================] - 0s 4ms/step - loss: 25100.2969\n",
      "4/4 [==============================] - 0s 4ms/step - loss: 16219.4297\n",
      "4/4 [==============================] - 0s 3ms/step - loss: 11783.6719\n",
      "4/4 [==============================] - 0s 3ms/step - loss: 9374.0342\n",
      "4/4 [==============================] - 0s 3ms/step - loss: 7864.3037\n",
      "4/4 [==============================] - 0s 3ms/step - loss: 7094.1274\n",
      "4/4 [==============================] - 0s 4ms/step - loss: 6591.3213\n",
      "4/4 [==============================] - 0s 4ms/step - loss: 6408.6997\n",
      "4/4 [==============================] - 0s 4ms/step - loss: 6380.8174\n",
      "4/4 [==============================] - 0s 5ms/step - loss: 6524.0073\n",
      "4/4 [==============================] - 0s 4ms/step - loss: 6217.6548\n",
      "4/4 [==============================] - 0s 4ms/step - loss: 6103.1509\n",
      "4/4 [==============================] - 0s 4ms/step - loss: 5987.0884\n",
      "4/4 [==============================] - 0s 3ms/step - loss: 6010.4829\n",
      "4/4 [==============================] - 0s 4ms/step - loss: 6204.9087\n",
      "4/4 [==============================] - 0s 3ms/step - loss: 6146.3394\n",
      "4/4 [==============================] - 0s 4ms/step - loss: 6100.7412\n",
      "4/4 [==============================] - 0s 4ms/step - loss: 6090.7529\n",
      "4/4 [==============================] - 0s 3ms/step - loss: 6044.4570\n",
      "4/4 [==============================] - 0s 3ms/step - loss: 6086.6714\n",
      "4/4 [==============================] - 0s 3ms/step - loss: 6131.4946\n",
      "4/4 [==============================] - 0s 4ms/step - loss: 6054.9976\n",
      "4/4 [==============================] - 0s 4ms/step - loss: 6061.7090\n",
      "4/4 [==============================] - 0s 3ms/step - loss: 5909.7100\n",
      "4/4 [==============================] - 0s 4ms/step - loss: 5903.6680\n",
      "4/4 [==============================] - 0s 3ms/step - loss: 6090.5894\n",
      "4/4 [==============================] - 0s 4ms/step - loss: 5858.5742\n",
      "4/4 [==============================] - 0s 4ms/step - loss: 5741.0898\n",
      "4/4 [==============================] - 0s 3ms/step - loss: 5816.8413\n",
      "4/4 [==============================] - 0s 4ms/step - loss: 5986.7373\n",
      "4/4 [==============================] - 0s 4ms/step - loss: 6008.0400\n",
      "4/4 [==============================] - 0s 4ms/step - loss: 5856.4902\n",
      "4/4 [==============================] - 0s 4ms/step - loss: 6210.6699\n",
      "4/4 [==============================] - 0s 4ms/step - loss: 6082.0776\n",
      "4/4 [==============================] - 0s 4ms/step - loss: 5913.5649\n",
      "4/4 [==============================] - 0s 3ms/step - loss: 5988.0825\n",
      "4/4 [==============================] - 0s 3ms/step - loss: 6083.1294\n",
      "4/4 [==============================] - 0s 4ms/step - loss: 5855.3750\n",
      "4/4 [==============================] - 0s 3ms/step - loss: 6100.7866\n",
      "4/4 [==============================] - 0s 3ms/step - loss: 6001.0063\n",
      "4/4 [==============================] - 0s 3ms/step - loss: 5928.9751\n",
      "4/4 [==============================] - 0s 3ms/step - loss: 5711.2471\n",
      "4/4 [==============================] - 0s 4ms/step - loss: 5838.8223\n",
      "4/4 [==============================] - 0s 4ms/step - loss: 5741.6401\n",
      "4/4 [==============================] - 0s 4ms/step - loss: 5712.9326\n",
      "4/4 [==============================] - 0s 3ms/step - loss: 6035.4922\n",
      "4/4 [==============================] - 0s 4ms/step - loss: 5807.2563\n",
      "4/4 [==============================] - 0s 4ms/step - loss: 5735.5962\n",
      "4/4 [==============================] - 0s 3ms/step - loss: 5758.8003\n",
      "4/4 [==============================] - 0s 3ms/step - loss: 5752.5859\n",
      "4/4 [==============================] - 0s 4ms/step - loss: 5695.4839\n",
      "4/4 [==============================] - 0s 4ms/step - loss: 5737.7891\n",
      "4/4 [==============================] - 0s 3ms/step - loss: 5540.8345\n",
      "4/4 [==============================] - 0s 3ms/step - loss: 5671.1123\n",
      "4/4 [==============================] - 0s 4ms/step - loss: 5741.2021\n",
      "4/4 [==============================] - 0s 4ms/step - loss: 5620.4175\n",
      "4/4 [==============================] - 0s 3ms/step - loss: 5663.1377\n",
      "4/4 [==============================] - 0s 4ms/step - loss: 5632.8994\n",
      "4/4 [==============================] - 0s 4ms/step - loss: 5663.4551\n",
      "4/4 [==============================] - 0s 3ms/step - loss: 5558.0977\n",
      "4/4 [==============================] - 0s 3ms/step - loss: 5713.3433\n",
      "4/4 [==============================] - 0s 3ms/step - loss: 5741.2422\n",
      "4/4 [==============================] - 0s 4ms/step - loss: 5613.3462\n",
      "4/4 [==============================] - 0s 4ms/step - loss: 5792.6533\n",
      "4/4 [==============================] - 0s 5ms/step - loss: 5501.0020\n",
      "4/4 [==============================] - 0s 3ms/step - loss: 5648.1060\n",
      "4/4 [==============================] - 0s 4ms/step - loss: 5318.7310\n",
      "4/4 [==============================] - 0s 3ms/step - loss: 5684.4595\n",
      "4/4 [==============================] - 0s 4ms/step - loss: 5602.9883\n",
      "4/4 [==============================] - 0s 3ms/step - loss: 5633.6377\n",
      "4/4 [==============================] - 0s 4ms/step - loss: 5365.7837\n",
      "4/4 [==============================] - 0s 4ms/step - loss: 5514.9062\n",
      "4/4 [==============================] - 0s 3ms/step - loss: 5810.1294\n",
      "4/4 [==============================] - 0s 4ms/step - loss: 5508.0464\n",
      "4/4 [==============================] - 0s 3ms/step - loss: 5540.9019\n",
      "4/4 [==============================] - 0s 4ms/step - loss: 5483.4336\n",
      "4/4 [==============================] - 0s 3ms/step - loss: 5446.0957\n",
      "4/4 [==============================] - 0s 4ms/step - loss: 5624.1660\n",
      "4/4 [==============================] - 0s 4ms/step - loss: 5608.0898\n",
      "4/4 [==============================] - 0s 4ms/step - loss: 5754.9419\n",
      "4/4 [==============================] - 0s 3ms/step - loss: 5636.2964\n",
      "4/4 [==============================] - 0s 3ms/step - loss: 5910.9272\n",
      "4/4 [==============================] - 0s 4ms/step - loss: 5835.5908\n",
      "4/4 [==============================] - 0s 3ms/step - loss: 5597.2700\n",
      "4/4 [==============================] - 0s 3ms/step - loss: 5293.8462\n",
      "4/4 [==============================] - 0s 5ms/step - loss: 5708.5679\n",
      "4/4 [==============================] - 0s 3ms/step - loss: 5529.3086\n",
      "4/4 [==============================] - 0s 4ms/step - loss: 5602.7495\n",
      "4/4 [==============================] - 0s 3ms/step - loss: 5537.1294\n",
      "4/4 [==============================] - 0s 4ms/step - loss: 5573.9546\n",
      "4/4 [==============================] - 0s 4ms/step - loss: 5450.8779\n",
      "4/4 [==============================] - 0s 3ms/step - loss: 5457.6943\n",
      "4/4 [==============================] - 0s 3ms/step - loss: 5506.1978\n",
      "4/4 [==============================] - 0s 3ms/step - loss: 5495.1484\n",
      "4/4 [==============================] - 0s 3ms/step - loss: 5652.8574\n",
      "4/4 [==============================] - 0s 4ms/step - loss: 5526.3271\n",
      "4/4 [==============================] - 0s 3ms/step - loss: 5513.8853\n",
      "4/4 [==============================] - 0s 3ms/step - loss: 5254.1113\n",
      "4/4 [==============================] - 0s 3ms/step - loss: 5441.1855\n",
      "4/4 [==============================] - 0s 3ms/step - loss: 5320.3779\n",
      "4/4 [==============================] - 0s 3ms/step - loss: 5214.2236\n",
      "4/4 [==============================] - 0s 3ms/step - loss: 5358.8218\n",
      "4/4 [==============================] - 0s 4ms/step - loss: 5421.7915\n",
      "4/4 [==============================] - 0s 4ms/step - loss: 5470.9346\n",
      "4/4 [==============================] - 0s 3ms/step - loss: 5361.7544\n",
      "4/4 [==============================] - 0s 4ms/step - loss: 5525.8682\n",
      "4/4 [==============================] - 0s 3ms/step - loss: 5505.0474\n",
      "4/4 [==============================] - 0s 3ms/step - loss: 5583.7192\n",
      "4/4 [==============================] - 0s 4ms/step - loss: 5536.1587\n",
      "4/4 [==============================] - 0s 3ms/step - loss: 5275.9976\n",
      "4/4 [==============================] - 0s 3ms/step - loss: 5619.5752\n",
      "4/4 [==============================] - 0s 3ms/step - loss: 5295.1562\n",
      "4/4 [==============================] - 0s 4ms/step - loss: 5466.8486\n",
      "4/4 [==============================] - 0s 3ms/step - loss: 5571.7051\n",
      "4/4 [==============================] - 0s 3ms/step - loss: 5369.5015\n",
      "4/4 [==============================] - 0s 3ms/step - loss: 5540.7964\n",
      "4/4 [==============================] - 0s 3ms/step - loss: 5647.7603\n",
      "4/4 [==============================] - 0s 3ms/step - loss: 5343.1655\n",
      "4/4 [==============================] - 0s 3ms/step - loss: 5457.5093\n",
      "4/4 [==============================] - 0s 4ms/step - loss: 5422.7388\n",
      "4/4 [==============================] - 0s 3ms/step - loss: 5403.9019\n",
      "4/4 [==============================] - 0s 3ms/step - loss: 5471.1221\n",
      "4/4 [==============================] - 0s 3ms/step - loss: 5587.5078\n",
      "4/4 [==============================] - 0s 3ms/step - loss: 5297.6655\n",
      "4/4 [==============================] - 0s 3ms/step - loss: 5505.0962\n",
      "4/4 [==============================] - 0s 3ms/step - loss: 5424.2612\n",
      "4/4 [==============================] - 0s 4ms/step - loss: 5456.8359\n",
      "4/4 [==============================] - 0s 4ms/step - loss: 5528.3550\n",
      "4/4 [==============================] - 0s 3ms/step - loss: 5298.0112\n",
      "4/4 [==============================] - 0s 3ms/step - loss: 5499.8491\n",
      "4/4 [==============================] - 0s 3ms/step - loss: 5511.6050\n",
      "4/4 [==============================] - 0s 3ms/step - loss: 5478.5054\n",
      "4/4 [==============================] - 0s 4ms/step - loss: 5486.3335\n",
      "4/4 [==============================] - 0s 3ms/step - loss: 5452.6182\n",
      "4/4 [==============================] - 0s 3ms/step - loss: 5676.2642\n",
      "4/4 [==============================] - 0s 3ms/step - loss: 5401.3682\n",
      "4/4 [==============================] - 0s 4ms/step - loss: 5391.4297\n",
      "4/4 [==============================] - 0s 3ms/step - loss: 5488.8677\n",
      "4/4 [==============================] - 0s 5ms/step - loss: 5439.2188\n",
      "4/4 [==============================] - 0s 3ms/step - loss: 5525.7163\n",
      "4/4 [==============================] - 0s 3ms/step - loss: 5399.0718\n",
      "4/4 [==============================] - 0s 3ms/step - loss: 5626.1943\n",
      "4/4 [==============================] - 0s 3ms/step - loss: 5588.3662\n",
      "4/4 [==============================] - 0s 4ms/step - loss: 5442.2598\n",
      "4/4 [==============================] - 0s 4ms/step - loss: 5521.5190\n",
      "4/4 [==============================] - 0s 4ms/step - loss: 5486.8975\n",
      "4/4 [==============================] - 0s 4ms/step - loss: 5526.4575\n",
      "4/4 [==============================] - 0s 4ms/step - loss: 5382.5400\n",
      "4/4 [==============================] - 0s 4ms/step - loss: 5478.5527\n",
      "4/4 [==============================] - 0s 4ms/step - loss: 5259.1938\n",
      "4/4 [==============================] - 0s 4ms/step - loss: 5395.7192\n",
      "4/4 [==============================] - 0s 3ms/step - loss: 5567.3442\n",
      "4/4 [==============================] - 0s 4ms/step - loss: 5295.1880\n",
      "4/4 [==============================] - 0s 3ms/step - loss: 5434.5762\n",
      "4/4 [==============================] - 0s 4ms/step - loss: 5430.2915\n",
      "4/4 [==============================] - 0s 3ms/step - loss: 5333.9780\n",
      "4/4 [==============================] - 0s 4ms/step - loss: 5251.2134\n",
      "4/4 [==============================] - 0s 3ms/step - loss: 5625.3892\n",
      "4/4 [==============================] - 0s 4ms/step - loss: 5387.5054\n",
      "4/4 [==============================] - 0s 4ms/step - loss: 5289.3394\n",
      "4/4 [==============================] - 0s 4ms/step - loss: 5411.6230\n",
      "4/4 [==============================] - 0s 4ms/step - loss: 5359.7808\n",
      "4/4 [==============================] - 0s 7ms/step - loss: 5594.4805\n",
      "4/4 [==============================] - 0s 4ms/step - loss: 5131.7202\n",
      "4/4 [==============================] - 0s 3ms/step - loss: 5378.0547\n",
      "4/4 [==============================] - 0s 3ms/step - loss: 5472.7549\n",
      "4/4 [==============================] - 0s 3ms/step - loss: 5263.7568\n",
      "4/4 [==============================] - 0s 3ms/step - loss: 5278.6509\n",
      "4/4 [==============================] - 0s 3ms/step - loss: 5262.3564\n",
      "4/4 [==============================] - 0s 3ms/step - loss: 5364.9961\n",
      "4/4 [==============================] - 0s 3ms/step - loss: 5569.0283\n",
      "4/4 [==============================] - 0s 4ms/step - loss: 5423.6890\n",
      "4/4 [==============================] - 0s 3ms/step - loss: 5662.0894\n",
      "4/4 [==============================] - 0s 4ms/step - loss: 5603.8223\n",
      "4/4 [==============================] - 0s 3ms/step - loss: 5329.7715\n",
      "4/4 [==============================] - 0s 5ms/step - loss: 5444.3179\n",
      "4/4 [==============================] - 0s 4ms/step - loss: 5468.1353\n",
      "4/4 [==============================] - 0s 4ms/step - loss: 5566.7651\n",
      "4/4 [==============================] - 0s 3ms/step - loss: 5566.5195\n",
      "4/4 [==============================] - 0s 3ms/step - loss: 5341.8887\n",
      "4/4 [==============================] - 0s 4ms/step - loss: 5309.3188\n",
      "4/4 [==============================] - 0s 4ms/step - loss: 5397.1753\n",
      "4/4 [==============================] - 0s 3ms/step - loss: 5424.7905\n",
      "4/4 [==============================] - 0s 4ms/step - loss: 5427.9395\n",
      "4/4 [==============================] - 0s 6ms/step - loss: 5410.3535\n",
      "4/4 [==============================] - 0s 3ms/step - loss: 5415.5200\n",
      "4/4 [==============================] - 0s 3ms/step - loss: 5420.3457\n",
      "4/4 [==============================] - 0s 4ms/step - loss: 5468.3916\n",
      "4/4 [==============================] - 0s 4ms/step - loss: 5366.9224\n",
      "4/4 [==============================] - 0s 4ms/step - loss: 5441.3789\n",
      "4/4 [==============================] - 0s 4ms/step - loss: 5332.7378\n",
      "4/4 [==============================] - 0s 5ms/step - loss: 5359.1089\n",
      "4/4 [==============================] - 0s 4ms/step - loss: 5407.2524\n",
      "4/4 [==============================] - 0s 4ms/step - loss: 5412.7017\n",
      "4/4 [==============================] - 0s 3ms/step - loss: 5388.4600\n",
      "4/4 [==============================] - 0s 3ms/step - loss: 5449.7256\n",
      "4/4 [==============================] - 0s 3ms/step - loss: 5355.7505\n",
      "4/4 [==============================] - 0s 4ms/step - loss: 5386.0771\n",
      "4/4 [==============================] - 0s 3ms/step - loss: 5266.2720\n",
      "4/4 [==============================] - 0s 5ms/step - loss: 5274.1602\n"
     ]
    }
   ],
   "execution_count": 17
  },
  {
   "metadata": {
    "ExecuteTime": {
     "end_time": "2024-08-11T16:43:35.860634Z",
     "start_time": "2024-08-11T16:43:35.778832Z"
    }
   },
   "cell_type": "code",
   "source": [
    "plt.plot(l)\n",
    "plt.plot(l0)\n",
    "plt.show()"
   ],
   "id": "c8ec153d414107ba",
   "outputs": [
    {
     "data": {
      "text/plain": [
       "<Figure size 640x480 with 1 Axes>"
      ],
      "image/png": "[encoded data removed]"
     },
     "metadata": {},
     "output_type": "display_data"
    }
   ],
   "execution_count": 18
  },
  {
   "metadata": {
    "ExecuteTime": {
     "end_time": "2024-08-11T16:43:35.937184Z",
     "start_time": "2024-08-11T16:43:35.861694Z"
    }
   },
   "cell_type": "code",
   "source": "plt.plot(l0)",
   "id": "384bd6e228563e24",
   "outputs": [
    {
     "data": {
      "text/plain": [
       "[<matplotlib.lines.Line2D at 0x7fbbd81a7290>]"
      ]
     },
     "execution_count": 19,
     "metadata": {},
     "output_type": "execute_result"
    },
    {
     "data": {
      "text/plain": [
       "<Figure size 640x480 with 1 Axes>"
      ],
      "image/png": "[encoded data removed]"
     },
     "metadata": {},
     "output_type": "display_data"
    }
   ],
   "execution_count": 19
  },
  {
   "metadata": {
    "ExecuteTime": {
     "end_time": "2024-08-11T16:43:35.941186Z",
     "start_time": "2024-08-11T16:43:35.938258Z"
    }
   },
   "cell_type": "code",
   "source": "print(f'best epoch: {min(l0)}',f'best batch: {min(l)}')",
   "id": "fca41b35f19cd3e4",
   "outputs": [
    {
     "name": "stdout",
     "output_type": "stream",
     "text": [
      "best epoch: 5131.72021484375 best batch: 1205.32666015625\n"
     ]
    }
   ],
   "execution_count": 20
  },
  {
   "metadata": {
    "ExecuteTime": {
     "end_time": "2024-08-12T09:22:56.956113Z",
     "start_time": "2024-08-12T09:22:56.944121Z"
    }
   },
   "cell_type": "code",
   "source": "l0[-1]",
   "id": "8e4fa70e4e58353a",
   "outputs": [
    {
     "data": {
      "text/plain": [
       "5274.16015625"
      ]
     },
     "execution_count": 23,
     "metadata": {},
     "output_type": "execute_result"
    }
   ],
   "execution_count": 23
  },
  {
   "metadata": {
    "ExecuteTime": {
     "end_time": "2024-08-12T10:08:06.958387Z",
     "start_time": "2024-08-12T10:08:06.917158Z"
    }
   },
   "cell_type": "code",
   "source": "model.save('last.h5')",
   "id": "c668eb7fb71a0de",
   "outputs": [
    {
     "name": "stderr",
     "output_type": "stream",
     "text": [
      "/home/itachi/miniconda3/envs/kera/lib/python3.11/site-packages/keras/src/engine/training.py:3103: UserWarning: You are saving your model as an HDF5 file via `model.save()`. This file format is considered legacy. We recommend using instead the native Keras format, e.g. `model.save('my_model.keras')`.\n",
      "  saving_api.save_model(\n"
     ]
    }
   ],
   "execution_count": 28
  },
  {
   "metadata": {
    "ExecuteTime": {
     "end_time": "2024-08-12T10:23:20.564078Z",
     "start_time": "2024-08-12T10:23:20.545692Z"
    }
   },
   "cell_type": "code",
   "source": "data[0]",
   "id": "5895a488c2f24299",
   "outputs": [
    {
     "data": {
      "text/plain": [
       "array([[[  25., -353.],\n",
       "        [  87., -388.],\n",
       "        [ 162., -464.]],\n",
       "\n",
       "       [[  -5., -352.],\n",
       "        [ -64., -345.],\n",
       "        [ 116., -441.]],\n",
       "\n",
       "       [[  23., -335.],\n",
       "        [ -46., -315.],\n",
       "        [  62., -425.]],\n",
       "\n",
       "       [[  19., -334.],\n",
       "        [ -27., -300.],\n",
       "        [  70., -409.]],\n",
       "\n",
       "       [[  -6., -326.],\n",
       "        [-102., -307.],\n",
       "        [ 113., -433.]],\n",
       "\n",
       "       [[ 114., -370.],\n",
       "        [ 172., -452.],\n",
       "        [ 170., -468.]],\n",
       "\n",
       "       [[ 114., -370.],\n",
       "        [ 172., -452.],\n",
       "        [ 170., -468.]]])"
      ]
     },
     "execution_count": 11,
     "metadata": {},
     "output_type": "execute_result"
    }
   ],
   "execution_count": 11
  },
  {
   "metadata": {
    "ExecuteTime": {
     "end_time": "2024-08-12T10:22:57.399102Z",
     "start_time": "2024-08-12T10:22:57.378225Z"
    }
   },
   "cell_type": "code",
   "source": "restore_changes(data[0],0)",
   "id": "e0597680252fdb29",
   "outputs": [
    {
     "data": {
      "text/plain": [
       "[[[265.0, -113.0], [996.0, 521.0]],\n",
       " [[236.0, -111.0], [846.0, 565.0]],\n",
       " [[270.0, -88.0], [865.0, 596.0]],\n",
       " [[266.0, -87.0], [888.0, 615.0]],\n",
       " [[242.0, -78.0], [817.0, 612.0]],\n",
       " [[362.0, -122.0], [1092.0, 468.0]],\n",
       " [[362.0, -122.0], [1092.0, 468.0]]]"
      ]
     },
     "execution_count": 10,
     "metadata": {},
     "output_type": "execute_result"
    }
   ],
   "execution_count": 10
  },
  {
   "metadata": {
    "ExecuteTime": {
     "end_time": "2024-08-12T10:45:56.439962Z",
     "start_time": "2024-08-12T10:45:56.361920Z"
    }
   },
   "cell_type": "code",
   "source": [
    "import cv2\n",
    "img=cv2.imread('CutFrame_Output/output0/frame_0.png')\n",
    "from utils import process_data\n",
    "import re\n",
    "from utils import list_change\n",
    "\n",
    "data = process_data(r'CutFrame_Output/output0/use0.txt')\n",
    "data1 = list_change(r'CutFrame_Output/output0/use0.txt')\n",
    "print(data)\n",
    "print(data1)\n",
    "for p in data:\n",
    "    # print((p[0], p[1]))\n",
    "    cv2.circle(img, (int(p[0]), int(p[1])), 3, (0, 255, 0), -1)\n",
    "\n",
    "for p in data1:\n",
    "    # print((p[0], p[1]))\n",
    "    cv2.circle(img, (int(p[0]), int(p[1])), 3, (0, 0, 255), -1)\n",
    "\n",
    "cv2.imwrite('output.png', img)"
   ],
   "id": "e1403453b1ac7ffd",
   "outputs": [
    {
     "name": "stdout",
     "output_type": "stream",
     "text": [
      "[[265.0, 556.0], [327.0, 521.0], [402.0, 445.0], [240.0, 909.0]]\n",
      "[[25.0, -353.0], [87.0, -388.0], [162.0, -464.0]]\n"
     ]
    },
    {
     "data": {
      "text/plain": [
       "True"
      ]
     },
     "execution_count": 13,
     "metadata": {},
     "output_type": "execute_result"
    }
   ],
   "execution_count": 13
  },
  {
   "metadata": {
    "ExecuteTime": {
     "end_time": "2024-08-12T11:09:34.741474Z",
     "start_time": "2024-08-12T11:09:34.718338Z"
    }
   },
   "cell_type": "code",
   "source": "restore_changes(data[0],0)",
   "id": "71a96b6705140f20",
   "outputs": [
    {
     "data": {
      "text/plain": [
       "[[[265.0, 556.0], [327.0, 521.0], [402.0, 445.0]],\n",
       " [[236.0, 558.0], [177.0, 565.0], [357.0, 469.0]],\n",
       " [[270.0, 576.0], [201.0, 596.0], [309.0, 486.0]],\n",
       " [[266.0, 581.0], [220.0, 615.0], [317.0, 506.0]],\n",
       " [[242.0, 593.0], [146.0, 612.0], [361.0, 486.0]],\n",
       " [[362.0, 550.0], [420.0, 468.0], [418.0, 452.0]],\n",
       " [[362.0, 550.0], [420.0, 468.0], [418.0, 452.0]]]"
      ]
     },
     "execution_count": 6,
     "metadata": {},
     "output_type": "execute_result"
    }
   ],
   "execution_count": 6
  },
  {
   "metadata": {
    "ExecuteTime": {
     "end_time": "2024-08-12T11:12:42.368428Z",
     "start_time": "2024-08-12T11:12:41.625450Z"
    }
   },
   "cell_type": "code",
   "source": [
    "model = tf.keras.models.load_model('last.h5')\n",
    "a= model.predict(data[0]).tolist()"
   ],
   "id": "35ed8c3b2c6808a1",
   "outputs": [
    {
     "name": "stdout",
     "output_type": "stream",
     "text": [
      "WARNING:tensorflow:Layer lstm will not use cuDNN kernels since it doesn't meet the criteria. It will use a generic GPU kernel as fallback when running on GPU.\n",
      "1/1 [==============================] - 0s 263ms/step\n"
     ]
    }
   ],
   "execution_count": 8
  },
  {
   "metadata": {
    "ExecuteTime": {
     "end_time": "2024-08-12T11:26:29.662285Z",
     "start_time": "2024-08-12T11:26:29.357574Z"
    }
   },
   "cell_type": "code",
   "source": [
    "points = restore_changes(a,0)\n",
    "points = ['pass']+points\n",
    "del(points[-1])\n",
    "for n,f in enumerate(points):\n",
    "    if n==0:\n",
    "        continue\n",
    "    img = cv2.imread(f'./CutFrame_Output/output0/frame_{n}.png')\n",
    "    for p in f:\n",
    "        # print((p[0], p[1]))\n",
    "        cv2.circle(img, (int(p[0]), int(p[1])), 3, (0, 255, 0), -1)\n",
    "    cv2.imwrite(f'outputs/output{n}.png', img)"
   ],
   "id": "f28e0383904f9cf0",
   "outputs": [],
   "execution_count": 20
  }
 ],
 "metadata": {
  "kernelspec": {
   "display_name": "Python 3",
   "language": "python",
   "name": "python3"
  },
  "language_info": {
   "codemirror_mode": {
    "name": "ipython",
    "version": 2
   },
   "file_extension": ".py",
   "mimetype": "text/x-python",
   "name": "python",
   "nbconvert_exporter": "python",
   "pygments_lexer": "ipython2",
   "version": "2.7.6"
  }
 },
 "nbformat": 4,
 "nbformat_minor": 5
}
