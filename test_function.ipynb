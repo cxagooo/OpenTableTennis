{
 "cells": [
  {
   "cell_type": "code",
   "id": "initial_id",
   "metadata": {
    "collapsed": true,
    "ExecuteTime": {
     "end_time": "2024-08-22T16:26:06.686488Z",
     "start_time": "2024-08-22T16:26:06.682170Z"
    }
   },
   "source": [
    "import pandas as pd\n",
    "filename = './CutFrame_Output/output0/use0.txt'\n",
    "def remove_brackets(line):\n",
    "    print(line.strip('['))\n",
    "\n",
    "def replace_last_row_with_zeros(filename):\n",
    "    # 读取文件\n",
    "    with open(filename, 'r') as file:\n",
    "        lines = file.readlines()\n",
    "    \n",
    "    # 删除每行两边的括号\n",
    "    cleaned_lines = [remove_brackets(line) for line in lines]\n",
    "    \n",
    "    # 将数据转换为DataFrame\n",
    "    data = pd.DataFrame([list(map(float, line.split())) for line in cleaned_lines])\n",
    "    \n",
    "    # 替换最后一行的值为0\n",
    "    data.iloc[-1] = 0\n",
    "    \n",
    "    # 写回文件\n",
    "    data.to_csv(filename, sep=' ', header=False, index=False, float_format='%.6f')"
   ],
   "outputs": [],
   "execution_count": 11
  },
  {
   "metadata": {
    "ExecuteTime": {
     "end_time": "2024-08-22T16:26:07.363484Z",
     "start_time": "2024-08-22T16:26:07.342888Z"
    }
   },
   "cell_type": "code",
   "source": "replace_last_row_with_zeros(filename)",
   "id": "14710d5e1166ee31",
   "outputs": [
    {
     "name": "stdout",
     "output_type": "stream",
     "text": [
      " [8.28000000e+02 6.35000000e+02 6.98538959e-01 3.00000000e+00]\n",
      "\n",
      " [9.18000000e+02 5.12000000e+02 9.33560193e-01 4.00000000e+00]\n",
      "\n",
      " [6.12000000e+02 1.02500000e+03 8.84738743e-01 1.00000000e+01]\n",
      "\n",
      " [7.93000000e+02 5.70000000e+02 8.98546219e-01 1.00000000e+00]\n",
      "\n"
     ]
    },
    {
     "ename": "AttributeError",
     "evalue": "'NoneType' object has no attribute 'split'",
     "output_type": "error",
     "traceback": [
      "\u001B[0;31m---------------------------------------------------------------------------\u001B[0m",
      "\u001B[0;31mAttributeError\u001B[0m                            Traceback (most recent call last)",
      "Cell \u001B[0;32mIn[12], line 1\u001B[0m\n\u001B[0;32m----> 1\u001B[0m \u001B[43mreplace_last_row_with_zeros\u001B[49m\u001B[43m(\u001B[49m\u001B[43mfilename\u001B[49m\u001B[43m)\u001B[49m\n",
      "Cell \u001B[0;32mIn[11], line 15\u001B[0m, in \u001B[0;36mreplace_last_row_with_zeros\u001B[0;34m(filename)\u001B[0m\n\u001B[1;32m     12\u001B[0m cleaned_lines \u001B[38;5;241m=\u001B[39m [remove_brackets(line) \u001B[38;5;28;01mfor\u001B[39;00m line \u001B[38;5;129;01min\u001B[39;00m lines]\n\u001B[1;32m     14\u001B[0m \u001B[38;5;66;03m# 将数据转换为DataFrame\u001B[39;00m\n\u001B[0;32m---> 15\u001B[0m data \u001B[38;5;241m=\u001B[39m pd\u001B[38;5;241m.\u001B[39mDataFrame(\u001B[43m[\u001B[49m\u001B[38;5;28;43mlist\u001B[39;49m\u001B[43m(\u001B[49m\u001B[38;5;28;43mmap\u001B[39;49m\u001B[43m(\u001B[49m\u001B[38;5;28;43mfloat\u001B[39;49m\u001B[43m,\u001B[49m\u001B[43m \u001B[49m\u001B[43mline\u001B[49m\u001B[38;5;241;43m.\u001B[39;49m\u001B[43msplit\u001B[49m\u001B[43m(\u001B[49m\u001B[43m)\u001B[49m\u001B[43m)\u001B[49m\u001B[43m)\u001B[49m\u001B[43m \u001B[49m\u001B[38;5;28;43;01mfor\u001B[39;49;00m\u001B[43m \u001B[49m\u001B[43mline\u001B[49m\u001B[43m \u001B[49m\u001B[38;5;129;43;01min\u001B[39;49;00m\u001B[43m \u001B[49m\u001B[43mcleaned_lines\u001B[49m\u001B[43m]\u001B[49m)\n\u001B[1;32m     17\u001B[0m \u001B[38;5;66;03m# 替换最后一行的值为0\u001B[39;00m\n\u001B[1;32m     18\u001B[0m data\u001B[38;5;241m.\u001B[39miloc[\u001B[38;5;241m-\u001B[39m\u001B[38;5;241m1\u001B[39m] \u001B[38;5;241m=\u001B[39m \u001B[38;5;241m0\u001B[39m\n",
      "Cell \u001B[0;32mIn[11], line 15\u001B[0m, in \u001B[0;36m<listcomp>\u001B[0;34m(.0)\u001B[0m\n\u001B[1;32m     12\u001B[0m cleaned_lines \u001B[38;5;241m=\u001B[39m [remove_brackets(line) \u001B[38;5;28;01mfor\u001B[39;00m line \u001B[38;5;129;01min\u001B[39;00m lines]\n\u001B[1;32m     14\u001B[0m \u001B[38;5;66;03m# 将数据转换为DataFrame\u001B[39;00m\n\u001B[0;32m---> 15\u001B[0m data \u001B[38;5;241m=\u001B[39m pd\u001B[38;5;241m.\u001B[39mDataFrame([\u001B[38;5;28mlist\u001B[39m(\u001B[38;5;28mmap\u001B[39m(\u001B[38;5;28mfloat\u001B[39m, \u001B[43mline\u001B[49m\u001B[38;5;241;43m.\u001B[39;49m\u001B[43msplit\u001B[49m())) \u001B[38;5;28;01mfor\u001B[39;00m line \u001B[38;5;129;01min\u001B[39;00m cleaned_lines])\n\u001B[1;32m     17\u001B[0m \u001B[38;5;66;03m# 替换最后一行的值为0\u001B[39;00m\n\u001B[1;32m     18\u001B[0m data\u001B[38;5;241m.\u001B[39miloc[\u001B[38;5;241m-\u001B[39m\u001B[38;5;241m1\u001B[39m] \u001B[38;5;241m=\u001B[39m \u001B[38;5;241m0\u001B[39m\n",
      "\u001B[0;31mAttributeError\u001B[0m: 'NoneType' object has no attribute 'split'"
     ]
    }
   ],
   "execution_count": 12
  },
  {
   "metadata": {
    "ExecuteTime": {
     "end_time": "2024-08-22T17:16:19.280548Z",
     "start_time": "2024-08-22T17:16:19.268643Z"
    }
   },
   "cell_type": "code",
   "source": [
    "import numpy as np\n",
    "\n",
    "def replace_last_line_with_zeros(file_path):\n",
    "    # 读取文件中的所有数据\n",
    "    with open(file_path, 'r') as file:\n",
    "        lines = file.readlines()\n",
    "\n",
    "    # 将最后一行替换为零\n",
    "    if lines:\n",
    "        # last_line = np.zeros_like(np.fromstring(lines[-1], sep=' '))\n",
    "        last_line = np.array([[0, 0, 0, 0]])\n",
    "        lines[-1] = ' '.join(map(str, last_line)) + '\\n'\n",
    "\n",
    "    # 将数据写回文件\n",
    "    with open(file_path, 'w') as file:\n",
    "        file.writelines(lines)\n",
    "\n",
    "# 示例文件路径\n",
    "file_path = filename\n",
    "replace_last_line_with_zeros(file_path)\n"
   ],
   "id": "e91a550d70c850dc",
   "outputs": [],
   "execution_count": 19
  },
  {
   "metadata": {
    "ExecuteTime": {
     "end_time": "2024-08-22T17:17:59.167894Z",
     "start_time": "2024-08-22T17:17:57.489817Z"
    }
   },
   "cell_type": "code",
   "source": [
    "from utils import process_data\n",
    "process_data(file_path)"
   ],
   "id": "c5d9ef4f657d530f",
   "outputs": [
    {
     "data": {
      "text/plain": [
       "[[828.0, 635.0], [918.0, 512.0], [612.0, 1025.0], [0.0, 0.0]]"
      ]
     },
     "execution_count": 20,
     "metadata": {},
     "output_type": "execute_result"
    }
   ],
   "execution_count": 20
  },
  {
   "metadata": {
    "ExecuteTime": {
     "end_time": "2024-08-22T17:23:16.713545Z",
     "start_time": "2024-08-22T17:23:10.715023Z"
    }
   },
   "cell_type": "code",
   "source": [
    "from utils import replace_data\n",
    "replace_data('CutFrame_Output')"
   ],
   "id": "97c4369522b699fd",
   "outputs": [
    {
     "data": {
      "text/plain": [
       "[]"
      ]
     },
     "execution_count": 1,
     "metadata": {},
     "output_type": "execute_result"
    }
   ],
   "execution_count": 1
  },
  {
   "metadata": {},
   "cell_type": "code",
   "outputs": [],
   "execution_count": null,
   "source": "",
   "id": "522efbb891919a37"
  }
 ],
 "metadata": {
  "kernelspec": {
   "display_name": "Python 3",
   "language": "python",
   "name": "python3"
  },
  "language_info": {
   "codemirror_mode": {
    "name": "ipython",
    "version": 2
   },
   "file_extension": ".py",
   "mimetype": "text/x-python",
   "name": "python",
   "nbconvert_exporter": "python",
   "pygments_lexer": "ipython2",
   "version": "2.7.6"
  }
 },
 "nbformat": 4,
 "nbformat_minor": 5
}
