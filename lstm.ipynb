{
 "cells": [
  {
   "cell_type": "code",
   "id": "initial_id",
   "metadata": {
    "collapsed": true,
    "ExecuteTime": {
     "end_time": "2024-08-10T09:32:11.412693Z",
     "start_time": "2024-08-10T09:32:11.399693Z"
    }
   },
   "source": [
    "from list_change import list_change\n",
    "import pandas as pd\n",
    "import numpy as np\n",
    "import glob\n",
    "from keras import Sequential\n",
    "from keras.layers import LSTM, Dense\n",
    "import copy\n",
    "import matplotlib.pyplot as plt\n",
    "from utils import split_dataset"
   ],
   "outputs": [],
   "execution_count": 39
  },
  {
   "metadata": {
    "ExecuteTime": {
     "end_time": "2024-08-10T09:32:11.443701Z",
     "start_time": "2024-08-10T09:32:11.426703Z"
    }
   },
   "cell_type": "code",
   "source": [
    "# def formating(X, Y):\n",
    "#     x_test = []\n",
    "#     y_test = []\n",
    "#     for x, y in zip(X, Y):\n",
    "#         x_test+=x[0].tolist()\n",
    "#         y_test+=y[0].tolist()\n",
    "#     return np.array(x_test), np.array(y_test)\n",
    "def formating(X, Y):\n",
    "    x_test = []\n",
    "    y_test = []\n",
    "    for x, y in zip(X, Y):\n",
    "        x_test+=x.tolist()\n",
    "        y_test+=y.tolist()\n",
    "    return np.array(x_test), np.array(y_test)"
   ],
   "id": "bce098d3ec0568d5",
   "outputs": [],
   "execution_count": 40
  },
  {
   "metadata": {
    "ExecuteTime": {
     "end_time": "2024-08-10T09:32:11.459700Z",
     "start_time": "2024-08-10T09:32:11.445693Z"
    }
   },
   "cell_type": "code",
   "source": [
    "files = glob.glob('CutFrame_Output/output*/use2.txt')\n",
    "data = [list_change(f) for f in files]"
   ],
   "id": "6c8250dc0da61856",
   "outputs": [],
   "execution_count": 41
  },
  {
   "metadata": {
    "ExecuteTime": {
     "end_time": "2024-08-10T09:32:11.490700Z",
     "start_time": "2024-08-10T09:32:11.460695Z"
    }
   },
   "cell_type": "code",
   "source": [
    "data=[]\n",
    "for _dir in glob.glob('CutFrame_Output/output*/'):\n",
    "    data.append([list_change(f) for f in glob.glob(_dir+'use*.txt')])\n",
    "data = np.array(data)"
   ],
   "id": "7a4461165a4aeb7e",
   "outputs": [],
   "execution_count": 42
  },
  {
   "metadata": {
    "ExecuteTime": {
     "end_time": "2024-08-10T09:32:11.505701Z",
     "start_time": "2024-08-10T09:32:11.492693Z"
    }
   },
   "cell_type": "code",
   "source": "len(data)",
   "id": "4cc58cc8d4db5d91",
   "outputs": [
    {
     "data": {
      "text/plain": [
       "24"
      ]
     },
     "execution_count": 43,
     "metadata": {},
     "output_type": "execute_result"
    }
   ],
   "execution_count": 43
  },
  {
   "metadata": {
    "ExecuteTime": {
     "end_time": "2024-08-10T09:32:11.521693Z",
     "start_time": "2024-08-10T09:32:11.507693Z"
    }
   },
   "cell_type": "code",
   "source": "data[0]",
   "id": "8fa4297456a5a0a1",
   "outputs": [
    {
     "data": {
      "text/plain": [
       "array([[[  25., -353.],\n",
       "        [  87., -388.],\n",
       "        [ 162., -464.]],\n",
       "\n",
       "       [[  -5., -352.],\n",
       "        [ -64., -345.],\n",
       "        [ 116., -441.]],\n",
       "\n",
       "       [[  23., -335.],\n",
       "        [ -46., -315.],\n",
       "        [  62., -425.]]])"
      ]
     },
     "execution_count": 44,
     "metadata": {},
     "output_type": "execute_result"
    }
   ],
   "execution_count": 44
  },
  {
   "metadata": {
    "ExecuteTime": {
     "end_time": "2024-08-10T09:32:11.536692Z",
     "start_time": "2024-08-10T09:32:11.523693Z"
    }
   },
   "cell_type": "code",
   "source": [
    "# dataf = [pd.DataFrame(i,copy=True) for i in data]\n",
    "# dataf"
   ],
   "id": "2686e00ad07fbed5",
   "outputs": [],
   "execution_count": 45
  },
  {
   "metadata": {
    "ExecuteTime": {
     "end_time": "2024-08-10T09:32:11.551694Z",
     "start_time": "2024-08-10T09:32:11.538693Z"
    }
   },
   "cell_type": "code",
   "source": [
    "X = copy.deepcopy(data)\n",
    "Y = copy.deepcopy(data)\n",
    "X = np.delete(X, -1, axis=1)\n",
    "Y = np.delete(Y, 0, axis=1)"
   ],
   "id": "48a14b34f0bcce4e",
   "outputs": [],
   "execution_count": 46
  },
  {
   "metadata": {
    "ExecuteTime": {
     "end_time": "2024-08-10T09:32:11.567701Z",
     "start_time": "2024-08-10T09:32:11.553693Z"
    }
   },
   "cell_type": "code",
   "source": "Y.shape",
   "id": "e3797aa57d0a0ce4",
   "outputs": [
    {
     "data": {
      "text/plain": [
       "(24, 2, 3, 2)"
      ]
     },
     "execution_count": 47,
     "metadata": {},
     "output_type": "execute_result"
    }
   ],
   "execution_count": 47
  },
  {
   "metadata": {
    "ExecuteTime": {
     "end_time": "2024-08-10T09:32:11.583700Z",
     "start_time": "2024-08-10T09:32:11.569694Z"
    }
   },
   "cell_type": "code",
   "source": [
    "X, X_val, X_test, Y, Y_val, Y_test = split_dataset(X, Y)\n",
    "X_test, Y_test = formating(X_test, Y_test)"
   ],
   "id": "11665f27f2761c42",
   "outputs": [],
   "execution_count": 48
  },
  {
   "metadata": {
    "ExecuteTime": {
     "end_time": "2024-08-10T09:32:15.356872Z",
     "start_time": "2024-08-10T09:32:15.340856Z"
    }
   },
   "cell_type": "code",
   "source": "X_test.shape",
   "id": "fefab769524e0b16",
   "outputs": [
    {
     "data": {
      "text/plain": [
       "(10, 3, 2)"
      ]
     },
     "execution_count": 49,
     "metadata": {},
     "output_type": "execute_result"
    }
   ],
   "execution_count": 49
  },
  {
   "metadata": {
    "ExecuteTime": {
     "end_time": "2024-08-10T09:32:28.591618Z",
     "start_time": "2024-08-10T09:32:24.378739Z"
    }
   },
   "cell_type": "code",
   "source": [
    "l=[]\n",
    "l0=[]\n",
    "model = Sequential()\n",
    "model.add(LSTM(50, activation='relu', return_sequences=True, input_shape=(X.shape[2], X.shape[3])))\n",
    "model.add(Dense(2))\n",
    "model.compile(optimizer='adam', loss='mse')\n",
    "# history = model.fit(X, Y, epochs=100, batch_size=72, validation_data=(X, Y), verbose=1, shuffle=False)\n",
    "for epoch in range(20):\n",
    "    for x, y in zip(X, Y):\n",
    "        loss = model.train_on_batch(x, y)\n",
    "        l.append(loss)\n",
    "    l0.append(model.evaluate(X_test, Y_test))"
   ],
   "id": "ebf95cc71b8aa522",
   "outputs": [
    {
     "name": "stdout",
     "output_type": "stream",
     "text": [
      "1/1 [==============================] - 0s 135ms/step - loss: 69767.0156\n",
      "1/1 [==============================] - 0s 20ms/step - loss: 62520.0000\n",
      "1/1 [==============================] - 0s 16ms/step - loss: 55382.0859\n",
      "1/1 [==============================] - 0s 16ms/step - loss: 42046.8750\n",
      "1/1 [==============================] - 0s 15ms/step - loss: 22548.5508\n",
      "1/1 [==============================] - 0s 15ms/step - loss: 11195.2588\n",
      "1/1 [==============================] - 0s 16ms/step - loss: 9913.6592\n",
      "1/1 [==============================] - 0s 15ms/step - loss: 8992.8154\n",
      "1/1 [==============================] - 0s 15ms/step - loss: 7967.8423\n",
      "1/1 [==============================] - 0s 14ms/step - loss: 6861.6045\n",
      "1/1 [==============================] - 0s 15ms/step - loss: 5969.4849\n",
      "1/1 [==============================] - 0s 15ms/step - loss: 5150.6284\n",
      "1/1 [==============================] - 0s 14ms/step - loss: 4418.8589\n",
      "1/1 [==============================] - 0s 15ms/step - loss: 3755.9185\n",
      "1/1 [==============================] - 0s 14ms/step - loss: 3173.0935\n",
      "1/1 [==============================] - 0s 15ms/step - loss: 2672.0547\n",
      "1/1 [==============================] - 0s 16ms/step - loss: 2215.0576\n",
      "1/1 [==============================] - 0s 15ms/step - loss: 1858.6643\n",
      "1/1 [==============================] - 0s 15ms/step - loss: 1622.4225\n",
      "1/1 [==============================] - 0s 16ms/step - loss: 1420.4246\n"
     ]
    }
   ],
   "execution_count": 50
  },
  {
   "metadata": {
    "ExecuteTime": {
     "end_time": "2024-08-10T09:32:46.572024Z",
     "start_time": "2024-08-10T09:32:46.444023Z"
    }
   },
   "cell_type": "code",
   "source": [
    "plt.plot(l)\n",
    "plt.plot(l0)\n",
    "plt.show()"
   ],
   "id": "c8ec153d414107ba",
   "outputs": [
    {
     "data": {
      "text/plain": [
       "<Figure size 640x480 with 1 Axes>"
      ],
      "image/png": "[encoded data removed]"
     },
     "metadata": {},
     "output_type": "display_data"
    }
   ],
   "execution_count": 51
  },
  {
   "metadata": {
    "ExecuteTime": {
     "end_time": "2024-08-10T08:43:48.099506Z",
     "start_time": "2024-08-10T08:43:47.874089Z"
    }
   },
   "cell_type": "code",
   "source": [
    "\n",
    "# model.evaluate(x,y)"
   ],
   "id": "33feb82b5a1b1101",
   "outputs": [
    {
     "name": "stdout",
     "output_type": "stream",
     "text": [
      "[[[  24. -351.]\n",
      "  [  82. -386.]\n",
      "  [ 162. -462.]]\n",
      "\n",
      " [[  18. -330.]\n",
      "  [ -27. -297.]\n",
      "  [  69. -407.]]]\n",
      "[[[  59. -349.]\n",
      "  [ 121. -419.]\n",
      "  [ 169. -459.]]\n",
      "\n",
      " [[  12. -312.]\n",
      "  [ -57. -276.]\n",
      "  [  91. -408.]]]\n",
      "[[[  50. -361.]\n",
      "  [ 116. -426.]\n",
      "  [ 157. -469.]]\n",
      "\n",
      " [[   9. -306.]\n",
      "  [ -32. -258.]\n",
      "  [  40. -411.]]]\n",
      "[[[  18. -387.]\n",
      "  [  15. -383.]\n",
      "  [ 132. -468.]]\n",
      "\n",
      " [[ -44. -173.]\n",
      "  [-139. -144.]\n",
      "  [  38. -291.]]]\n",
      "[[[  46. -384.]\n",
      "  [  38. -372.]\n",
      "  [ 158. -470.]]\n",
      "\n",
      " [[  -6. -307.]\n",
      "  [-110. -282.]\n",
      "  [  72. -426.]]]\n",
      "[[[   0. -354.]\n",
      "  [ -66. -327.]\n",
      "  [ 101. -452.]]\n",
      "\n",
      " [[ -33. -159.]\n",
      "  [-133. -132.]\n",
      "  [  53. -282.]]]\n",
      "[[[  69. -365.]\n",
      "  [ 120. -387.]\n",
      "  [ 173. -475.]]\n",
      "\n",
      " [[  23. -272.]\n",
      "  [   1. -243.]\n",
      "  [  14. -389.]]]\n",
      "[[[  56. -350.]\n",
      "  [  98. -358.]\n",
      "  [ 161. -465.]]\n",
      "\n",
      " [[ -39. -165.]\n",
      "  [-141. -134.]\n",
      "  [  14. -291.]]]\n",
      "[[[  33. -360.]\n",
      "  [  84. -388.]\n",
      "  [ 146. -472.]]\n",
      "\n",
      " [[   2. -289.]\n",
      "  [ -31. -250.]\n",
      "  [  16. -400.]]]\n",
      "[[[  43. -354.]\n",
      "  [  77. -365.]\n",
      "  [ 155. -467.]]\n",
      "\n",
      " [[ -45. -165.]\n",
      "  [-125. -121.]\n",
      "  [  15. -287.]]]\n",
      "[[[  44. -348.]\n",
      "  [ 102. -388.]\n",
      "  [ 146. -459.]]\n",
      "\n",
      " [[ -32. -143.]\n",
      "  [-118.  -89.]\n",
      "  [  38. -269.]]]\n",
      "[[[  56. -337.]\n",
      "  [  77. -322.]\n",
      "  [ 160. -453.]]\n",
      "\n",
      " [[ -43. -175.]\n",
      "  [-135. -159.]\n",
      "  [  43. -298.]]]\n",
      "[[[  46. -398.]\n",
      "  [  24. -366.]\n",
      "  [ 165. -451.]]\n",
      "\n",
      " [[   0. -293.]\n",
      "  [ -67. -258.]\n",
      "  [  45. -396.]]]\n",
      "[[[  40. -355.]\n",
      "  [  57. -360.]\n",
      "  [ 145. -461.]]\n",
      "\n",
      " [[   2. -315.]\n",
      "  [ -75. -289.]\n",
      "  [  54. -436.]]]\n",
      "[[[  51. -352.]\n",
      "  [ 110. -404.]\n",
      "  [ 153. -475.]]\n",
      "\n",
      " [[   9. -312.]\n",
      "  [ -64. -289.]\n",
      "  [  27. -427.]]]\n",
      "[[[  62. -355.]\n",
      "  [  98. -432.]\n",
      "  [ 169. -469.]]\n",
      "\n",
      " [[  52. -289.]\n",
      "  [  10. -273.]\n",
      "  [  37. -410.]]]\n",
      "[[[  12. -353.]\n",
      "  [  -1. -301.]\n",
      "  [ 118. -440.]]\n",
      "\n",
      " [[  -7. -176.]\n",
      "  [ -77. -133.]\n",
      "  [  47. -270.]]]\n",
      "[[[  18. -355.]\n",
      "  [  33. -382.]\n",
      "  [ 138. -447.]]\n",
      "\n",
      " [[ -55. -162.]\n",
      "  [-272. -140.]\n",
      "  [  35. -279.]]]\n",
      "[[[  22. -360.]\n",
      "  [  74. -405.]\n",
      "  [ 155. -456.]]\n",
      "\n",
      " [[ -52. -156.]\n",
      "  [-139. -136.]\n",
      "  [  30. -264.]]]\n",
      "[[[  49. -394.]\n",
      "  [  17. -368.]\n",
      "  [ 159. -468.]]\n",
      "\n",
      " [[ -30. -187.]\n",
      "  [-137. -146.]\n",
      "  [  46. -312.]]]\n",
      "[[[  27. -383.]\n",
      "  [   5. -367.]\n",
      "  [ 126. -469.]]\n",
      "\n",
      " [[ -57. -172.]\n",
      "  [-162. -141.]\n",
      "  [  27. -296.]]]\n",
      "[[[  12. -372.]\n",
      "  [   7. -369.]\n",
      "  [ 126. -468.]]\n",
      "\n",
      " [[ -26. -292.]\n",
      "  [ -92. -239.]\n",
      "  [  31. -410.]]]\n",
      "[[[  31. -351.]\n",
      "  [  83. -375.]\n",
      "  [ 159. -463.]]\n",
      "\n",
      " [[   1. -298.]\n",
      "  [ -66. -263.]\n",
      "  [  46. -418.]]]\n",
      "[[[  41. -361.]\n",
      "  [  81. -393.]\n",
      "  [ 159. -465.]]\n",
      "\n",
      " [[  32. -299.]\n",
      "  [ -20. -262.]\n",
      "  [  45. -407.]]]\n",
      "1/1 [==============================] - 0s 167ms/step - loss: 8218.1533\n"
     ]
    },
    {
     "data": {
      "text/plain": [
       "8218.1533203125"
      ]
     },
     "execution_count": 59,
     "metadata": {},
     "output_type": "execute_result"
    }
   ],
   "execution_count": 59
  },
  {
   "metadata": {},
   "cell_type": "code",
   "source": [
    "# model = Sequential()\n",
    "# model.add(LSTM(50, activation='relu', return_sequences=True, input_shape=(data.shape()[1], data.shape[2])))"
   ],
   "id": "52896010a14aa12f",
   "outputs": [],
   "execution_count": null
  }
 ],
 "metadata": {
  "kernelspec": {
   "display_name": "Python 3",
   "language": "python",
   "name": "python3"
  },
  "language_info": {
   "codemirror_mode": {
    "name": "ipython",
    "version": 2
   },
   "file_extension": ".py",
   "mimetype": "text/x-python",
   "name": "python",
   "nbconvert_exporter": "python",
   "pygments_lexer": "ipython2",
   "version": "2.7.6"
  }
 },
 "nbformat": 4,
 "nbformat_minor": 5
}
