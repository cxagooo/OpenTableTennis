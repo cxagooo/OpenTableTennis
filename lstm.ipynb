{
 "cells": [
  {
   "cell_type": "code",
   "id": "initial_id",
   "metadata": {
    "collapsed": true,
    "ExecuteTime": {
     "end_time": "2024-08-22T17:24:03.530733Z",
     "start_time": "2024-08-22T17:24:03.527225Z"
    }
   },
   "source": [
    "from utils import list_change\n",
    "import pandas as pd\n",
    "import numpy as np\n",
    "import glob\n",
    "from keras import Sequential\n",
    "from keras.layers import LSTM, Dense\n",
    "import copy\n",
    "import matplotlib.pyplot as plt\n",
    "from utils import split_dataset, restore_changes\n",
    "import os\n",
    "import tensorflow as tf\n",
    "import cv2"
   ],
   "outputs": [],
   "execution_count": 247
  },
  {
   "metadata": {
    "ExecuteTime": {
     "end_time": "2024-08-22T17:24:03.641997Z",
     "start_time": "2024-08-22T17:24:03.638607Z"
    }
   },
   "cell_type": "code",
   "source": [
    "import tensorflow as tf\n",
    "tf.config.list_physical_devices('GPU')\n",
    "# print(tf.__version__)\n",
    "# tf.test.is_gpu_available()"
   ],
   "id": "e9057abda0c345da",
   "outputs": [
    {
     "data": {
      "text/plain": [
       "[PhysicalDevice(name='/physical_device:GPU:0', device_type='GPU')]"
      ]
     },
     "execution_count": 248,
     "metadata": {},
     "output_type": "execute_result"
    }
   ],
   "execution_count": 248
  },
  {
   "metadata": {
    "ExecuteTime": {
     "end_time": "2024-08-22T17:24:03.688428Z",
     "start_time": "2024-08-22T17:24:03.685522Z"
    }
   },
   "cell_type": "code",
   "source": [
    "# def formating(X, Y):\n",
    "#     x_test = []\n",
    "#     y_test = []\n",
    "#     for x, y in zip(X, Y):\n",
    "#         x_test+=x[0].tolist()\n",
    "#         y_test+=y[0].tolist()\n",
    "#     return np.array(x_test), np.array(y_test)\n",
    "def formating(X, Y):\n",
    "    x_test = []\n",
    "    y_test = []\n",
    "    for x, y in zip(X, Y):\n",
    "        x_test+=x.tolist()\n",
    "        y_test+=y.tolist()\n",
    "    return np.array(x_test), np.array(y_test)"
   ],
   "id": "bce098d3ec0568d5",
   "outputs": [],
   "execution_count": 249
  },
  {
   "metadata": {
    "ExecuteTime": {
     "end_time": "2024-08-22T17:24:04.174742Z",
     "start_time": "2024-08-22T17:24:03.726406Z"
    }
   },
   "cell_type": "code",
   "source": [
    "files = glob.glob('CutFrame_Output/output*/use2.txt')\n",
    "data = [list_change(f) for f in files]"
   ],
   "id": "6c8250dc0da61856",
   "outputs": [],
   "execution_count": 250
  },
  {
   "metadata": {
    "ExecuteTime": {
     "end_time": "2024-08-22T17:24:06.190731Z",
     "start_time": "2024-08-22T17:24:04.176066Z"
    }
   },
   "cell_type": "code",
   "source": [
    "data=[]\n",
    "for _dir in glob.glob('CutFrame_Output/output*/'):\n",
    "    data.append([list_change(f) for f in glob.glob(_dir+'use*.txt')])\n",
    "data = np.array(data)"
   ],
   "id": "7a4461165a4aeb7e",
   "outputs": [],
   "execution_count": 251
  },
  {
   "metadata": {
    "ExecuteTime": {
     "end_time": "2024-08-22T17:24:06.194742Z",
     "start_time": "2024-08-22T17:24:06.191774Z"
    }
   },
   "cell_type": "code",
   "source": "len(data)",
   "id": "4cc58cc8d4db5d91",
   "outputs": [
    {
     "data": {
      "text/plain": [
       "149"
      ]
     },
     "execution_count": 252,
     "metadata": {},
     "output_type": "execute_result"
    }
   ],
   "execution_count": 252
  },
  {
   "metadata": {
    "ExecuteTime": {
     "end_time": "2024-08-22T17:24:06.204179Z",
     "start_time": "2024-08-22T17:24:06.196099Z"
    }
   },
   "cell_type": "code",
   "source": "data = data.reshape(len(data),7,6)  #  7 frames 不可随意更改",
   "id": "8fa4297456a5a0a1",
   "outputs": [],
   "execution_count": 253
  },
  {
   "metadata": {
    "ExecuteTime": {
     "end_time": "2024-08-22T17:24:06.214466Z",
     "start_time": "2024-08-22T17:24:06.205300Z"
    }
   },
   "cell_type": "code",
   "source": "print(data[0])",
   "id": "c6a564ace035f085",
   "outputs": [
    {
     "name": "stdout",
     "output_type": "stream",
     "text": [
      "[[ 828.  635.  918.  512.  612. 1025.]\n",
      " [ 625.  676.  738.  597.  597. 1046.]\n",
      " [ 518.  740.  440.  779.  565. 1046.]\n",
      " [ 488.  821.  390.  884.  527. 1035.]\n",
      " [ 488.  880.  471.  908.  508. 1015.]\n",
      " [ 449.  817.  312.  890.  543. 1048.]\n",
      " [ 558.  689.  660.  582.  591. 1004.]]\n"
     ]
    }
   ],
   "execution_count": 254
  },
  {
   "metadata": {
    "ExecuteTime": {
     "end_time": "2024-08-22T17:24:06.223421Z",
     "start_time": "2024-08-22T17:24:06.215471Z"
    }
   },
   "cell_type": "code",
   "source": [
    "# dataf = [pd.DataFrame(i,copy=True) for i in data]\n",
    "# dataf"
   ],
   "id": "2686e00ad07fbed5",
   "outputs": [],
   "execution_count": 255
  },
  {
   "metadata": {
    "ExecuteTime": {
     "end_time": "2024-08-22T17:24:06.232933Z",
     "start_time": "2024-08-22T17:24:06.224442Z"
    }
   },
   "cell_type": "code",
   "source": [
    "X = copy.deepcopy(data)\n",
    "Y = copy.deepcopy(data)\n",
    "X = np.delete(X, -1, axis=0)\n",
    "Y = np.delete(Y, 0, axis=0)"
   ],
   "id": "48a14b34f0bcce4e",
   "outputs": [],
   "execution_count": 256
  },
  {
   "metadata": {
    "ExecuteTime": {
     "end_time": "2024-08-22T17:24:06.245519Z",
     "start_time": "2024-08-22T17:24:06.234131Z"
    }
   },
   "cell_type": "code",
   "source": "len(X)",
   "id": "e3797aa57d0a0ce4",
   "outputs": [
    {
     "data": {
      "text/plain": [
       "148"
      ]
     },
     "execution_count": 257,
     "metadata": {},
     "output_type": "execute_result"
    }
   ],
   "execution_count": 257
  },
  {
   "metadata": {
    "ExecuteTime": {
     "end_time": "2024-08-22T17:24:06.254439Z",
     "start_time": "2024-08-22T17:24:06.246710Z"
    }
   },
   "cell_type": "code",
   "source": [
    "X, X_val, X_test, Y, Y_val, Y_test = split_dataset(X, Y)\n",
    "# X_test, Y_test = formating(X_test, Y_test)\n",
    "X_test=X_test[0]\n",
    "Y_test=Y_test[0]"
   ],
   "id": "11665f27f2761c42",
   "outputs": [],
   "execution_count": 258
  },
  {
   "metadata": {
    "ExecuteTime": {
     "end_time": "2024-08-22T17:24:07.433066Z",
     "start_time": "2024-08-22T17:24:06.256440Z"
    }
   },
   "cell_type": "code",
   "source": [
    "index = 0\n",
    "points = restore_changes(X[index],index,None)\n",
    "# points = ['pass']+points\n",
    "# del(points[-1])\n",
    "for n,f in enumerate(points):\n",
    "    # if n==0:\n",
    "    #     continue0\n",
    "    img = cv2.imread(f'./CutFrame_Output/output{index}/frame_{n}.png')\n",
    "    for q,p in enumerate(f):\n",
    "        # print((p[0], p[1]))\n",
    "        cv2.circle(img, (int(p[0]), int(p[1])), 3, (0, 255, 0), -1)\n",
    "        cv2.putText(img, str(q), (int(p[0]), int(p[1])), cv2.FONT_HERSHEY_SIMPLEX, 1, (0, 0, 255), 2, cv2.LINE_AA)\n",
    "    cv2.imwrite(f'outputs/ori/output{n}.png', img)"
   ],
   "id": "2ffb974d8f7f7e62",
   "outputs": [],
   "execution_count": 259
  },
  {
   "metadata": {
    "ExecuteTime": {
     "end_time": "2024-08-22T17:24:07.437474Z",
     "start_time": "2024-08-22T17:24:07.434623Z"
    }
   },
   "cell_type": "code",
   "source": "X_test.shape",
   "id": "fefab769524e0b16",
   "outputs": [
    {
     "data": {
      "text/plain": [
       "(7, 6)"
      ]
     },
     "execution_count": 260,
     "metadata": {},
     "output_type": "execute_result"
    }
   ],
   "execution_count": 260
  },
  {
   "metadata": {},
   "cell_type": "markdown",
   "source": "### test",
   "id": "ef689a31995fcf49"
  },
  {
   "metadata": {
    "ExecuteTime": {
     "end_time": "2024-08-22T17:24:07.447204Z",
     "start_time": "2024-08-22T17:24:07.438333Z"
    }
   },
   "cell_type": "code",
   "source": [
    "# X = np.array([[X[0]]])\n",
    "# Y = np.array([[Y[0]]])\n",
    "# X_test = X[0]\n",
    "# Y_test = Y[0]"
   ],
   "id": "6c011bac292a6488",
   "outputs": [],
   "execution_count": 261
  },
  {
   "metadata": {
    "ExecuteTime": {
     "end_time": "2024-08-22T17:24:07.457702Z",
     "start_time": "2024-08-22T17:24:07.448225Z"
    }
   },
   "cell_type": "code",
   "source": "X.shape",
   "id": "3df9c5d1c1ac24a3",
   "outputs": [
    {
     "data": {
      "text/plain": [
       "(118, 7, 6)"
      ]
     },
     "execution_count": 262,
     "metadata": {},
     "output_type": "execute_result"
    }
   ],
   "execution_count": 262
  },
  {
   "metadata": {},
   "cell_type": "markdown",
   "source": "### test end",
   "id": "e8c240baa56e3f86"
  },
  {
   "metadata": {
    "ExecuteTime": {
     "end_time": "2024-08-22T17:24:07.466383Z",
     "start_time": "2024-08-22T17:24:07.458666Z"
    }
   },
   "cell_type": "code",
   "source": [
    "for i in Y:\n",
    "    if i.shape != (7, 6):\n",
    "        print(i.shape)"
   ],
   "id": "7e99ceab83411182",
   "outputs": [],
   "execution_count": 263
  },
  {
   "metadata": {
    "ExecuteTime": {
     "end_time": "2024-08-22T17:24:27.201993Z",
     "start_time": "2024-08-22T17:24:07.467359Z"
    }
   },
   "cell_type": "code",
   "source": [
    "l=[]\n",
    "l0=[]\n",
    "model = Sequential()\n",
    "model.add(LSTM(50, activation='relu', return_sequences=True, input_shape=(X.shape[1], X.shape[2])))\n",
    "model.add(Dense(6))\n",
    "model.compile(optimizer='adam', loss='mse')\n",
    "\n",
    "history = model.fit(X, Y, epochs=500, batch_size=118, validation_data=(X, Y), verbose=1, shuffle=False)\n",
    "\n",
    "# minimum_loss = float('inf')\n",
    "# for epoch in range(2000):\n",
    "    # for x, y in zip(X, Y):\n",
    "    #     loss = model.train_on_batch(x, y)\n",
    "    # print(epoch,end=': ')\n",
    "    # l0.append(model.evaluate(X_test, Y_test))\n",
    "    # if l0[-1] < minimum_loss:\n",
    "    #         minimum_loss = l0[-1]\n",
    "    #         model.save('best.h5')"
   ],
   "id": "ebf95cc71b8aa522",
   "outputs": [
    {
     "name": "stdout",
     "output_type": "stream",
     "text": [
      "WARNING:tensorflow:Layer lstm_20 will not use cuDNN kernels since it doesn't meet the criteria. It will use a generic GPU kernel as fallback when running on GPU.\n",
      "Epoch 1/500\n",
      "1/1 [==============================] - 1s 911ms/step - loss: 729186.5625 - val_loss: 699156.3125\n",
      "Epoch 2/500\n",
      "1/1 [==============================] - 0s 26ms/step - loss: 699156.3125 - val_loss: 667027.8125\n",
      "Epoch 3/500\n",
      "1/1 [==============================] - 0s 25ms/step - loss: 667027.8125 - val_loss: 635457.7500\n",
      "Epoch 4/500\n",
      "1/1 [==============================] - 0s 30ms/step - loss: 635457.7500 - val_loss: 609612.8125\n",
      "Epoch 5/500\n",
      "1/1 [==============================] - 0s 30ms/step - loss: 609612.8125 - val_loss: 588459.6875\n",
      "Epoch 6/500\n",
      "1/1 [==============================] - 0s 32ms/step - loss: 588459.6875 - val_loss: 568457.1250\n",
      "Epoch 7/500\n",
      "1/1 [==============================] - 0s 27ms/step - loss: 568457.1250 - val_loss: 548381.5625\n",
      "Epoch 8/500\n",
      "1/1 [==============================] - 0s 36ms/step - loss: 548381.5625 - val_loss: 528414.3750\n",
      "Epoch 9/500\n",
      "1/1 [==============================] - 0s 28ms/step - loss: 528414.3750 - val_loss: 511878.5000\n",
      "Epoch 10/500\n",
      "1/1 [==============================] - 0s 30ms/step - loss: 511878.5000 - val_loss: 494615.7188\n",
      "Epoch 11/500\n",
      "1/1 [==============================] - 0s 31ms/step - loss: 494615.7188 - val_loss: 476544.4375\n",
      "Epoch 12/500\n",
      "1/1 [==============================] - 0s 31ms/step - loss: 476544.4375 - val_loss: 456596.4688\n",
      "Epoch 13/500\n",
      "1/1 [==============================] - 0s 29ms/step - loss: 456596.4688 - val_loss: 435198.7500\n",
      "Epoch 14/500\n",
      "1/1 [==============================] - 0s 32ms/step - loss: 435198.7500 - val_loss: 417221.9688\n",
      "Epoch 15/500\n",
      "1/1 [==============================] - 0s 39ms/step - loss: 417221.9688 - val_loss: 399695.7812\n",
      "Epoch 16/500\n",
      "1/1 [==============================] - 0s 31ms/step - loss: 399695.7812 - val_loss: 381059.7188\n",
      "Epoch 17/500\n",
      "1/1 [==============================] - 0s 33ms/step - loss: 381059.7188 - val_loss: 360322.6250\n",
      "Epoch 18/500\n",
      "1/1 [==============================] - 0s 37ms/step - loss: 360322.6250 - val_loss: 343386.2188\n",
      "Epoch 19/500\n",
      "1/1 [==============================] - 0s 32ms/step - loss: 343386.2188 - val_loss: 328782.2812\n",
      "Epoch 20/500\n",
      "1/1 [==============================] - 0s 31ms/step - loss: 328782.2812 - val_loss: 312429.8438\n",
      "Epoch 21/500\n",
      "1/1 [==============================] - 0s 32ms/step - loss: 312429.8438 - val_loss: 294736.2188\n",
      "Epoch 22/500\n",
      "1/1 [==============================] - 0s 32ms/step - loss: 294736.2188 - val_loss: 280968.0938\n",
      "Epoch 23/500\n",
      "1/1 [==============================] - 0s 33ms/step - loss: 280968.0938 - val_loss: 269959.3750\n",
      "Epoch 24/500\n",
      "1/1 [==============================] - 0s 28ms/step - loss: 269959.3750 - val_loss: 260856.3438\n",
      "Epoch 25/500\n",
      "1/1 [==============================] - 0s 33ms/step - loss: 260856.3438 - val_loss: 250925.0312\n",
      "Epoch 26/500\n",
      "1/1 [==============================] - 0s 34ms/step - loss: 250925.0312 - val_loss: 234113.4688\n",
      "Epoch 27/500\n",
      "1/1 [==============================] - 0s 31ms/step - loss: 234113.4688 - val_loss: 220206.3125\n",
      "Epoch 28/500\n",
      "1/1 [==============================] - 0s 29ms/step - loss: 220206.3125 - val_loss: 212117.2656\n",
      "Epoch 29/500\n",
      "1/1 [==============================] - 0s 30ms/step - loss: 212117.2656 - val_loss: 202468.5156\n",
      "Epoch 30/500\n",
      "1/1 [==============================] - 0s 29ms/step - loss: 202468.5156 - val_loss: 192356.6094\n",
      "Epoch 31/500\n",
      "1/1 [==============================] - 0s 30ms/step - loss: 192356.6094 - val_loss: 185734.6562\n",
      "Epoch 32/500\n",
      "1/1 [==============================] - 0s 32ms/step - loss: 185734.6562 - val_loss: 179682.7344\n",
      "Epoch 33/500\n",
      "1/1 [==============================] - 0s 33ms/step - loss: 179682.7344 - val_loss: 174511.2812\n",
      "Epoch 34/500\n",
      "1/1 [==============================] - 0s 31ms/step - loss: 174511.2812 - val_loss: 168687.3750\n",
      "Epoch 35/500\n",
      "1/1 [==============================] - 0s 32ms/step - loss: 168687.3750 - val_loss: 160825.3281\n",
      "Epoch 36/500\n",
      "1/1 [==============================] - 0s 31ms/step - loss: 160825.3281 - val_loss: 153491.7969\n",
      "Epoch 37/500\n",
      "1/1 [==============================] - 0s 32ms/step - loss: 153491.7969 - val_loss: 145556.6406\n",
      "Epoch 38/500\n",
      "1/1 [==============================] - 0s 30ms/step - loss: 145556.6406 - val_loss: 135743.3594\n",
      "Epoch 39/500\n",
      "1/1 [==============================] - 0s 32ms/step - loss: 135743.3594 - val_loss: 130658.1562\n",
      "Epoch 40/500\n",
      "1/1 [==============================] - 0s 29ms/step - loss: 130658.1562 - val_loss: 125637.5625\n",
      "Epoch 41/500\n",
      "1/1 [==============================] - 0s 28ms/step - loss: 125637.5625 - val_loss: 121320.2266\n",
      "Epoch 42/500\n",
      "1/1 [==============================] - 0s 28ms/step - loss: 121320.2266 - val_loss: 117496.6406\n",
      "Epoch 43/500\n",
      "1/1 [==============================] - 0s 28ms/step - loss: 117496.6406 - val_loss: 113623.1562\n",
      "Epoch 44/500\n",
      "1/1 [==============================] - 0s 32ms/step - loss: 113623.1562 - val_loss: 109059.2344\n",
      "Epoch 45/500\n",
      "1/1 [==============================] - 0s 29ms/step - loss: 109059.2344 - val_loss: 105704.4844\n",
      "Epoch 46/500\n",
      "1/1 [==============================] - 0s 29ms/step - loss: 105704.4844 - val_loss: 105512.7188\n",
      "Epoch 47/500\n",
      "1/1 [==============================] - 0s 30ms/step - loss: 105512.7188 - val_loss: 106610.1797\n",
      "Epoch 48/500\n",
      "1/1 [==============================] - 0s 44ms/step - loss: 106610.1797 - val_loss: 106228.6953\n",
      "Epoch 49/500\n",
      "1/1 [==============================] - 0s 32ms/step - loss: 106228.6953 - val_loss: 104319.8672\n",
      "Epoch 50/500\n",
      "1/1 [==============================] - 0s 30ms/step - loss: 104319.8672 - val_loss: 101061.4453\n",
      "Epoch 51/500\n",
      "1/1 [==============================] - 0s 34ms/step - loss: 101061.4453 - val_loss: 97670.1953\n",
      "Epoch 52/500\n",
      "1/1 [==============================] - 0s 33ms/step - loss: 97670.1953 - val_loss: 96035.2578\n",
      "Epoch 53/500\n",
      "1/1 [==============================] - 0s 29ms/step - loss: 96035.2578 - val_loss: 90420.4062\n",
      "Epoch 54/500\n",
      "1/1 [==============================] - 0s 30ms/step - loss: 90420.4062 - val_loss: 89082.1406\n",
      "Epoch 55/500\n",
      "1/1 [==============================] - 0s 28ms/step - loss: 89082.1406 - val_loss: 86702.0625\n",
      "Epoch 56/500\n",
      "1/1 [==============================] - 0s 34ms/step - loss: 86702.0625 - val_loss: 85030.7969\n",
      "Epoch 57/500\n",
      "1/1 [==============================] - 0s 31ms/step - loss: 85030.7969 - val_loss: 84342.6016\n",
      "Epoch 58/500\n",
      "1/1 [==============================] - 0s 28ms/step - loss: 84342.6016 - val_loss: 84120.4453\n",
      "Epoch 59/500\n",
      "1/1 [==============================] - 0s 28ms/step - loss: 84120.4453 - val_loss: 82400.1875\n",
      "Epoch 60/500\n",
      "1/1 [==============================] - 0s 30ms/step - loss: 82400.1875 - val_loss: 81443.9609\n",
      "Epoch 61/500\n",
      "1/1 [==============================] - 0s 31ms/step - loss: 81443.9609 - val_loss: 80030.0547\n",
      "Epoch 62/500\n",
      "1/1 [==============================] - 0s 28ms/step - loss: 80030.0547 - val_loss: 78808.2344\n",
      "Epoch 63/500\n",
      "1/1 [==============================] - 0s 29ms/step - loss: 78808.2344 - val_loss: 77860.6953\n",
      "Epoch 64/500\n",
      "1/1 [==============================] - 0s 32ms/step - loss: 77860.6953 - val_loss: 76270.9844\n",
      "Epoch 65/500\n",
      "1/1 [==============================] - 0s 29ms/step - loss: 76270.9844 - val_loss: 74906.6328\n",
      "Epoch 66/500\n",
      "1/1 [==============================] - 0s 32ms/step - loss: 74906.6328 - val_loss: 73675.9453\n",
      "Epoch 67/500\n",
      "1/1 [==============================] - 0s 30ms/step - loss: 73675.9453 - val_loss: 72649.9062\n",
      "Epoch 68/500\n",
      "1/1 [==============================] - 0s 31ms/step - loss: 72649.9062 - val_loss: 71711.5547\n",
      "Epoch 69/500\n",
      "1/1 [==============================] - 0s 32ms/step - loss: 71711.5547 - val_loss: 70808.1719\n",
      "Epoch 70/500\n",
      "1/1 [==============================] - 0s 35ms/step - loss: 70808.1719 - val_loss: 70160.2500\n",
      "Epoch 71/500\n",
      "1/1 [==============================] - 0s 36ms/step - loss: 70160.2500 - val_loss: 69180.0938\n",
      "Epoch 72/500\n",
      "1/1 [==============================] - 0s 37ms/step - loss: 69180.0938 - val_loss: 68115.2969\n",
      "Epoch 73/500\n",
      "1/1 [==============================] - 0s 35ms/step - loss: 68115.2969 - val_loss: 66866.5156\n",
      "Epoch 74/500\n",
      "1/1 [==============================] - 0s 31ms/step - loss: 66866.5156 - val_loss: 65787.7578\n",
      "Epoch 75/500\n",
      "1/1 [==============================] - 0s 36ms/step - loss: 65787.7578 - val_loss: 64707.6523\n",
      "Epoch 76/500\n",
      "1/1 [==============================] - 0s 46ms/step - loss: 64707.6523 - val_loss: 63797.8984\n",
      "Epoch 77/500\n",
      "1/1 [==============================] - 0s 42ms/step - loss: 63797.8984 - val_loss: 63072.3789\n",
      "Epoch 78/500\n",
      "1/1 [==============================] - 0s 39ms/step - loss: 63072.3789 - val_loss: 61937.2852\n",
      "Epoch 79/500\n",
      "1/1 [==============================] - 0s 36ms/step - loss: 61937.2852 - val_loss: 61002.2227\n",
      "Epoch 80/500\n",
      "1/1 [==============================] - 0s 31ms/step - loss: 61002.2227 - val_loss: 60079.9922\n",
      "Epoch 81/500\n",
      "1/1 [==============================] - 0s 29ms/step - loss: 60079.9922 - val_loss: 59052.1719\n",
      "Epoch 82/500\n",
      "1/1 [==============================] - 0s 35ms/step - loss: 59052.1719 - val_loss: 58151.8867\n",
      "Epoch 83/500\n",
      "1/1 [==============================] - 0s 40ms/step - loss: 58151.8867 - val_loss: 57138.5391\n",
      "Epoch 84/500\n",
      "1/1 [==============================] - 0s 36ms/step - loss: 57138.5391 - val_loss: 56109.3164\n",
      "Epoch 85/500\n",
      "1/1 [==============================] - 0s 46ms/step - loss: 56109.3164 - val_loss: 54944.8281\n",
      "Epoch 86/500\n",
      "1/1 [==============================] - 0s 46ms/step - loss: 54944.8281 - val_loss: 54053.4883\n",
      "Epoch 87/500\n",
      "1/1 [==============================] - 0s 29ms/step - loss: 54053.4883 - val_loss: 53189.9375\n",
      "Epoch 88/500\n",
      "1/1 [==============================] - 0s 33ms/step - loss: 53189.9375 - val_loss: 52351.4414\n",
      "Epoch 89/500\n",
      "1/1 [==============================] - 0s 30ms/step - loss: 52351.4414 - val_loss: 51591.3711\n",
      "Epoch 90/500\n",
      "1/1 [==============================] - 0s 30ms/step - loss: 51591.3711 - val_loss: 50721.2383\n",
      "Epoch 91/500\n",
      "1/1 [==============================] - 0s 31ms/step - loss: 50721.2383 - val_loss: 49893.9336\n",
      "Epoch 92/500\n",
      "1/1 [==============================] - 0s 27ms/step - loss: 49893.9336 - val_loss: 49096.3789\n",
      "Epoch 93/500\n",
      "1/1 [==============================] - 0s 33ms/step - loss: 49096.3789 - val_loss: 48250.7930\n",
      "Epoch 94/500\n",
      "1/1 [==============================] - 0s 29ms/step - loss: 48250.7930 - val_loss: 47505.9961\n",
      "Epoch 95/500\n",
      "1/1 [==============================] - 0s 29ms/step - loss: 47505.9961 - val_loss: 46728.0820\n",
      "Epoch 96/500\n",
      "1/1 [==============================] - 0s 27ms/step - loss: 46728.0820 - val_loss: 45942.9336\n",
      "Epoch 97/500\n",
      "1/1 [==============================] - 0s 32ms/step - loss: 45942.9336 - val_loss: 45184.7227\n",
      "Epoch 98/500\n",
      "1/1 [==============================] - 0s 26ms/step - loss: 45184.7227 - val_loss: 44424.9570\n",
      "Epoch 99/500\n",
      "1/1 [==============================] - 0s 29ms/step - loss: 44424.9570 - val_loss: 43693.2773\n",
      "Epoch 100/500\n",
      "1/1 [==============================] - 0s 28ms/step - loss: 43693.2773 - val_loss: 42965.3945\n",
      "Epoch 101/500\n",
      "1/1 [==============================] - 0s 29ms/step - loss: 42965.3945 - val_loss: 42258.4102\n",
      "Epoch 102/500\n",
      "1/1 [==============================] - 0s 29ms/step - loss: 42258.4102 - val_loss: 41562.9883\n",
      "Epoch 103/500\n",
      "1/1 [==============================] - 0s 29ms/step - loss: 41562.9883 - val_loss: 40893.6172\n",
      "Epoch 104/500\n",
      "1/1 [==============================] - 0s 28ms/step - loss: 40893.6172 - val_loss: 40230.6914\n",
      "Epoch 105/500\n",
      "1/1 [==============================] - 0s 28ms/step - loss: 40230.6914 - val_loss: 39590.8281\n",
      "Epoch 106/500\n",
      "1/1 [==============================] - 0s 27ms/step - loss: 39590.8281 - val_loss: 38958.9922\n",
      "Epoch 107/500\n",
      "1/1 [==============================] - 0s 30ms/step - loss: 38958.9922 - val_loss: 38326.7500\n",
      "Epoch 108/500\n",
      "1/1 [==============================] - 0s 27ms/step - loss: 38326.7500 - val_loss: 37716.4492\n",
      "Epoch 109/500\n",
      "1/1 [==============================] - 0s 27ms/step - loss: 37716.4492 - val_loss: 37094.7500\n",
      "Epoch 110/500\n",
      "1/1 [==============================] - 0s 29ms/step - loss: 37094.7500 - val_loss: 36555.5586\n",
      "Epoch 111/500\n",
      "1/1 [==============================] - 0s 31ms/step - loss: 36555.5586 - val_loss: 36008.0781\n",
      "Epoch 112/500\n",
      "1/1 [==============================] - 0s 31ms/step - loss: 36008.0781 - val_loss: 35435.0664\n",
      "Epoch 113/500\n",
      "1/1 [==============================] - 0s 34ms/step - loss: 35435.0664 - val_loss: 34813.7500\n",
      "Epoch 114/500\n",
      "1/1 [==============================] - 0s 30ms/step - loss: 34813.7500 - val_loss: 34198.1953\n",
      "Epoch 115/500\n",
      "1/1 [==============================] - 0s 31ms/step - loss: 34198.1953 - val_loss: 33617.1562\n",
      "Epoch 116/500\n",
      "1/1 [==============================] - 0s 32ms/step - loss: 33617.1562 - val_loss: 33058.7656\n",
      "Epoch 117/500\n",
      "1/1 [==============================] - 0s 32ms/step - loss: 33058.7656 - val_loss: 32527.2949\n",
      "Epoch 118/500\n",
      "1/1 [==============================] - 0s 30ms/step - loss: 32527.2949 - val_loss: 32000.9277\n",
      "Epoch 119/500\n",
      "1/1 [==============================] - 0s 31ms/step - loss: 32000.9277 - val_loss: 31487.6035\n",
      "Epoch 120/500\n",
      "1/1 [==============================] - 0s 46ms/step - loss: 31487.6035 - val_loss: 30974.5059\n",
      "Epoch 121/500\n",
      "1/1 [==============================] - 0s 33ms/step - loss: 30974.5059 - val_loss: 30462.4453\n",
      "Epoch 122/500\n",
      "1/1 [==============================] - 0s 32ms/step - loss: 30462.4453 - val_loss: 30281.6738\n",
      "Epoch 123/500\n",
      "1/1 [==============================] - 0s 32ms/step - loss: 30281.6738 - val_loss: 29463.7695\n",
      "Epoch 124/500\n",
      "1/1 [==============================] - 0s 30ms/step - loss: 29463.7695 - val_loss: 28955.5430\n",
      "Epoch 125/500\n",
      "1/1 [==============================] - 0s 36ms/step - loss: 28955.5430 - val_loss: 28480.8711\n",
      "Epoch 126/500\n",
      "1/1 [==============================] - 0s 36ms/step - loss: 28480.8711 - val_loss: 28008.8047\n",
      "Epoch 127/500\n",
      "1/1 [==============================] - 0s 28ms/step - loss: 28008.8047 - val_loss: 27569.8301\n",
      "Epoch 128/500\n",
      "1/1 [==============================] - 0s 33ms/step - loss: 27569.8301 - val_loss: 27158.8887\n",
      "Epoch 129/500\n",
      "1/1 [==============================] - 0s 29ms/step - loss: 27158.8887 - val_loss: 26702.1230\n",
      "Epoch 130/500\n",
      "1/1 [==============================] - 0s 31ms/step - loss: 26702.1230 - val_loss: 26234.5645\n",
      "Epoch 131/500\n",
      "1/1 [==============================] - 0s 29ms/step - loss: 26234.5645 - val_loss: 25788.0020\n",
      "Epoch 132/500\n",
      "1/1 [==============================] - 0s 31ms/step - loss: 25788.0020 - val_loss: 25341.1230\n",
      "Epoch 133/500\n",
      "1/1 [==============================] - 0s 30ms/step - loss: 25341.1230 - val_loss: 24894.8672\n",
      "Epoch 134/500\n",
      "1/1 [==============================] - 0s 29ms/step - loss: 24894.8672 - val_loss: 24484.8750\n",
      "Epoch 135/500\n",
      "1/1 [==============================] - 0s 33ms/step - loss: 24484.8750 - val_loss: 24068.1035\n",
      "Epoch 136/500\n",
      "1/1 [==============================] - 0s 29ms/step - loss: 24068.1035 - val_loss: 23667.3223\n",
      "Epoch 137/500\n",
      "1/1 [==============================] - 0s 28ms/step - loss: 23667.3223 - val_loss: 23270.7852\n",
      "Epoch 138/500\n",
      "1/1 [==============================] - 0s 28ms/step - loss: 23270.7852 - val_loss: 22895.4609\n",
      "Epoch 139/500\n",
      "1/1 [==============================] - 0s 34ms/step - loss: 22895.4609 - val_loss: 22485.5137\n",
      "Epoch 140/500\n",
      "1/1 [==============================] - 0s 32ms/step - loss: 22485.5137 - val_loss: 22091.4512\n",
      "Epoch 141/500\n",
      "1/1 [==============================] - 0s 28ms/step - loss: 22091.4512 - val_loss: 21748.6230\n",
      "Epoch 142/500\n",
      "1/1 [==============================] - 0s 35ms/step - loss: 21748.6230 - val_loss: 21327.4023\n",
      "Epoch 143/500\n",
      "1/1 [==============================] - 0s 31ms/step - loss: 21327.4023 - val_loss: 21065.7090\n",
      "Epoch 144/500\n",
      "1/1 [==============================] - 0s 28ms/step - loss: 21065.7090 - val_loss: 20848.7363\n",
      "Epoch 145/500\n",
      "1/1 [==============================] - 0s 34ms/step - loss: 20848.7363 - val_loss: 20420.3340\n",
      "Epoch 146/500\n",
      "1/1 [==============================] - 0s 30ms/step - loss: 20420.3340 - val_loss: 20120.3613\n",
      "Epoch 147/500\n",
      "1/1 [==============================] - 0s 34ms/step - loss: 20120.3613 - val_loss: 19788.1230\n",
      "Epoch 148/500\n",
      "1/1 [==============================] - 0s 34ms/step - loss: 19788.1230 - val_loss: 19360.7773\n",
      "Epoch 149/500\n",
      "1/1 [==============================] - 0s 32ms/step - loss: 19360.7773 - val_loss: 18872.9102\n",
      "Epoch 150/500\n",
      "1/1 [==============================] - 0s 34ms/step - loss: 18872.9102 - val_loss: 18448.8359\n",
      "Epoch 151/500\n",
      "1/1 [==============================] - 0s 30ms/step - loss: 18448.8359 - val_loss: 18051.8047\n",
      "Epoch 152/500\n",
      "1/1 [==============================] - 0s 33ms/step - loss: 18051.8047 - val_loss: 17668.0469\n",
      "Epoch 153/500\n",
      "1/1 [==============================] - 0s 34ms/step - loss: 17668.0469 - val_loss: 17292.5312\n",
      "Epoch 154/500\n",
      "1/1 [==============================] - 0s 36ms/step - loss: 17292.5312 - val_loss: 16913.3613\n",
      "Epoch 155/500\n",
      "1/1 [==============================] - 0s 29ms/step - loss: 16913.3613 - val_loss: 16549.9297\n",
      "Epoch 156/500\n",
      "1/1 [==============================] - 0s 27ms/step - loss: 16549.9297 - val_loss: 16174.8232\n",
      "Epoch 157/500\n",
      "1/1 [==============================] - 0s 31ms/step - loss: 16174.8232 - val_loss: 15812.5869\n",
      "Epoch 158/500\n",
      "1/1 [==============================] - 0s 35ms/step - loss: 15812.5869 - val_loss: 15455.3945\n",
      "Epoch 159/500\n",
      "1/1 [==============================] - 0s 29ms/step - loss: 15455.3945 - val_loss: 15100.7461\n",
      "Epoch 160/500\n",
      "1/1 [==============================] - 0s 35ms/step - loss: 15100.7461 - val_loss: 14755.0840\n",
      "Epoch 161/500\n",
      "1/1 [==============================] - 0s 31ms/step - loss: 14755.0840 - val_loss: 14432.1074\n",
      "Epoch 162/500\n",
      "1/1 [==============================] - 0s 30ms/step - loss: 14432.1074 - val_loss: 14116.2979\n",
      "Epoch 163/500\n",
      "1/1 [==============================] - 0s 42ms/step - loss: 14116.2979 - val_loss: 13805.8682\n",
      "Epoch 164/500\n",
      "1/1 [==============================] - 0s 34ms/step - loss: 13805.8682 - val_loss: 13484.3877\n",
      "Epoch 165/500\n",
      "1/1 [==============================] - 0s 29ms/step - loss: 13484.3877 - val_loss: 13193.7168\n",
      "Epoch 166/500\n",
      "1/1 [==============================] - 0s 33ms/step - loss: 13193.7168 - val_loss: 12896.8887\n",
      "Epoch 167/500\n",
      "1/1 [==============================] - 0s 29ms/step - loss: 12896.8887 - val_loss: 12611.6729\n",
      "Epoch 168/500\n",
      "1/1 [==============================] - 0s 29ms/step - loss: 12611.6729 - val_loss: 12352.0117\n",
      "Epoch 169/500\n",
      "1/1 [==============================] - 0s 30ms/step - loss: 12352.0117 - val_loss: 12069.0928\n",
      "Epoch 170/500\n",
      "1/1 [==============================] - 0s 31ms/step - loss: 12069.0928 - val_loss: 11788.1484\n",
      "Epoch 171/500\n",
      "1/1 [==============================] - 0s 28ms/step - loss: 11788.1484 - val_loss: 11545.5254\n",
      "Epoch 172/500\n",
      "1/1 [==============================] - 0s 29ms/step - loss: 11545.5254 - val_loss: 11291.5518\n",
      "Epoch 173/500\n",
      "1/1 [==============================] - 0s 32ms/step - loss: 11291.5518 - val_loss: 11031.6680\n",
      "Epoch 174/500\n",
      "1/1 [==============================] - 0s 29ms/step - loss: 11031.6680 - val_loss: 10816.4160\n",
      "Epoch 175/500\n",
      "1/1 [==============================] - 0s 30ms/step - loss: 10816.4160 - val_loss: 10554.5107\n",
      "Epoch 176/500\n",
      "1/1 [==============================] - 0s 28ms/step - loss: 10554.5107 - val_loss: 10345.6260\n",
      "Epoch 177/500\n",
      "1/1 [==============================] - 0s 39ms/step - loss: 10345.6260 - val_loss: 10127.7451\n",
      "Epoch 178/500\n",
      "1/1 [==============================] - 0s 35ms/step - loss: 10127.7451 - val_loss: 9891.7451\n",
      "Epoch 179/500\n",
      "1/1 [==============================] - 0s 37ms/step - loss: 9891.7451 - val_loss: 9705.9883\n",
      "Epoch 180/500\n",
      "1/1 [==============================] - 0s 30ms/step - loss: 9705.9883 - val_loss: 9490.9463\n",
      "Epoch 181/500\n",
      "1/1 [==============================] - 0s 26ms/step - loss: 9490.9463 - val_loss: 9288.4883\n",
      "Epoch 182/500\n",
      "1/1 [==============================] - 0s 31ms/step - loss: 9288.4883 - val_loss: 9099.5771\n",
      "Epoch 183/500\n",
      "1/1 [==============================] - 0s 31ms/step - loss: 9099.5771 - val_loss: 8925.4150\n",
      "Epoch 184/500\n",
      "1/1 [==============================] - 0s 27ms/step - loss: 8925.4150 - val_loss: 8732.5537\n",
      "Epoch 185/500\n",
      "1/1 [==============================] - 0s 28ms/step - loss: 8732.5537 - val_loss: 8556.7979\n",
      "Epoch 186/500\n",
      "1/1 [==============================] - 0s 30ms/step - loss: 8556.7979 - val_loss: 8404.0566\n",
      "Epoch 187/500\n",
      "1/1 [==============================] - 0s 29ms/step - loss: 8404.0566 - val_loss: 8225.2119\n",
      "Epoch 188/500\n",
      "1/1 [==============================] - 0s 27ms/step - loss: 8225.2119 - val_loss: 8069.0649\n",
      "Epoch 189/500\n",
      "1/1 [==============================] - 0s 28ms/step - loss: 8069.0649 - val_loss: 7928.8691\n",
      "Epoch 190/500\n",
      "1/1 [==============================] - 0s 30ms/step - loss: 7928.8691 - val_loss: 7772.5435\n",
      "Epoch 191/500\n",
      "1/1 [==============================] - 0s 27ms/step - loss: 7772.5435 - val_loss: 7626.5635\n",
      "Epoch 192/500\n",
      "1/1 [==============================] - 0s 29ms/step - loss: 7626.5635 - val_loss: 7497.2812\n",
      "Epoch 193/500\n",
      "1/1 [==============================] - 0s 29ms/step - loss: 7497.2812 - val_loss: 7345.8506\n",
      "Epoch 194/500\n",
      "1/1 [==============================] - 0s 32ms/step - loss: 7345.8506 - val_loss: 7205.1787\n",
      "Epoch 195/500\n",
      "1/1 [==============================] - 0s 29ms/step - loss: 7205.1787 - val_loss: 7127.4336\n",
      "Epoch 196/500\n",
      "1/1 [==============================] - 0s 26ms/step - loss: 7127.4336 - val_loss: 6998.6216\n",
      "Epoch 197/500\n",
      "1/1 [==============================] - 0s 29ms/step - loss: 6998.6216 - val_loss: 6861.6826\n",
      "Epoch 198/500\n",
      "1/1 [==============================] - 0s 26ms/step - loss: 6861.6826 - val_loss: 6736.9238\n",
      "Epoch 199/500\n",
      "1/1 [==============================] - 0s 29ms/step - loss: 6736.9238 - val_loss: 6643.0020\n",
      "Epoch 200/500\n",
      "1/1 [==============================] - 0s 32ms/step - loss: 6643.0020 - val_loss: 6542.1289\n",
      "Epoch 201/500\n",
      "1/1 [==============================] - 0s 27ms/step - loss: 6542.1289 - val_loss: 6429.0786\n",
      "Epoch 202/500\n",
      "1/1 [==============================] - 0s 28ms/step - loss: 6429.0786 - val_loss: 6343.4453\n",
      "Epoch 203/500\n",
      "1/1 [==============================] - 0s 26ms/step - loss: 6343.4453 - val_loss: 6246.5610\n",
      "Epoch 204/500\n",
      "1/1 [==============================] - 0s 37ms/step - loss: 6246.5610 - val_loss: 6153.9829\n",
      "Epoch 205/500\n",
      "1/1 [==============================] - 0s 34ms/step - loss: 6153.9829 - val_loss: 6065.2104\n",
      "Epoch 206/500\n",
      "1/1 [==============================] - 0s 32ms/step - loss: 6065.2104 - val_loss: 5976.6025\n",
      "Epoch 207/500\n",
      "1/1 [==============================] - 0s 41ms/step - loss: 5976.6025 - val_loss: 5897.3555\n",
      "Epoch 208/500\n",
      "1/1 [==============================] - 0s 40ms/step - loss: 5897.3555 - val_loss: 5812.4756\n",
      "Epoch 209/500\n",
      "1/1 [==============================] - 0s 40ms/step - loss: 5812.4756 - val_loss: 5742.4365\n",
      "Epoch 210/500\n",
      "1/1 [==============================] - 0s 35ms/step - loss: 5742.4365 - val_loss: 5652.4336\n",
      "Epoch 211/500\n",
      "1/1 [==============================] - 0s 31ms/step - loss: 5652.4336 - val_loss: 5614.4829\n",
      "Epoch 212/500\n",
      "1/1 [==============================] - 0s 30ms/step - loss: 5614.4829 - val_loss: 5554.9897\n",
      "Epoch 213/500\n",
      "1/1 [==============================] - 0s 28ms/step - loss: 5554.9897 - val_loss: 5511.9868\n",
      "Epoch 214/500\n",
      "1/1 [==============================] - 0s 30ms/step - loss: 5511.9868 - val_loss: 5443.0786\n",
      "Epoch 215/500\n",
      "1/1 [==============================] - 0s 33ms/step - loss: 5443.0786 - val_loss: 5379.0547\n",
      "Epoch 216/500\n",
      "1/1 [==============================] - 0s 26ms/step - loss: 5379.0547 - val_loss: 5314.1465\n",
      "Epoch 217/500\n",
      "1/1 [==============================] - 0s 36ms/step - loss: 5314.1465 - val_loss: 5247.4341\n",
      "Epoch 218/500\n",
      "1/1 [==============================] - 0s 32ms/step - loss: 5247.4341 - val_loss: 5179.1040\n",
      "Epoch 219/500\n",
      "1/1 [==============================] - 0s 25ms/step - loss: 5179.1040 - val_loss: 5088.0522\n",
      "Epoch 220/500\n",
      "1/1 [==============================] - 0s 30ms/step - loss: 5088.0522 - val_loss: 5158.1987\n",
      "Epoch 221/500\n",
      "1/1 [==============================] - 0s 27ms/step - loss: 5158.1987 - val_loss: 5003.9399\n",
      "Epoch 222/500\n",
      "1/1 [==============================] - 0s 28ms/step - loss: 5003.9399 - val_loss: 4974.9678\n",
      "Epoch 223/500\n",
      "1/1 [==============================] - 0s 27ms/step - loss: 4974.9678 - val_loss: 4941.6045\n",
      "Epoch 224/500\n",
      "1/1 [==============================] - 0s 31ms/step - loss: 4941.6045 - val_loss: 4893.8374\n",
      "Epoch 225/500\n",
      "1/1 [==============================] - 0s 30ms/step - loss: 4893.8374 - val_loss: 4854.1479\n",
      "Epoch 226/500\n",
      "1/1 [==============================] - 0s 27ms/step - loss: 4854.1479 - val_loss: 4810.9668\n",
      "Epoch 227/500\n",
      "1/1 [==============================] - 0s 30ms/step - loss: 4810.9668 - val_loss: 4765.7373\n",
      "Epoch 228/500\n",
      "1/1 [==============================] - 0s 29ms/step - loss: 4765.7373 - val_loss: 4724.4297\n",
      "Epoch 229/500\n",
      "1/1 [==============================] - 0s 27ms/step - loss: 4724.4297 - val_loss: 4681.6177\n",
      "Epoch 230/500\n",
      "1/1 [==============================] - 0s 26ms/step - loss: 4681.6177 - val_loss: 4635.3755\n",
      "Epoch 231/500\n",
      "1/1 [==============================] - 0s 27ms/step - loss: 4635.3755 - val_loss: 4587.8516\n",
      "Epoch 232/500\n",
      "1/1 [==============================] - 0s 27ms/step - loss: 4587.8516 - val_loss: 4544.0864\n",
      "Epoch 233/500\n",
      "1/1 [==============================] - 0s 31ms/step - loss: 4544.0864 - val_loss: 4502.9785\n",
      "Epoch 234/500\n",
      "1/1 [==============================] - 0s 28ms/step - loss: 4502.9785 - val_loss: 4461.8442\n",
      "Epoch 235/500\n",
      "1/1 [==============================] - 0s 35ms/step - loss: 4461.8442 - val_loss: 4422.5615\n",
      "Epoch 236/500\n",
      "1/1 [==============================] - 0s 31ms/step - loss: 4422.5615 - val_loss: 4386.6948\n",
      "Epoch 237/500\n",
      "1/1 [==============================] - 0s 35ms/step - loss: 4386.6948 - val_loss: 4351.5352\n",
      "Epoch 238/500\n",
      "1/1 [==============================] - 0s 33ms/step - loss: 4351.5352 - val_loss: 4314.4380\n",
      "Epoch 239/500\n",
      "1/1 [==============================] - 0s 30ms/step - loss: 4314.4380 - val_loss: 4278.8257\n",
      "Epoch 240/500\n",
      "1/1 [==============================] - 0s 31ms/step - loss: 4278.8257 - val_loss: 4246.8936\n",
      "Epoch 241/500\n",
      "1/1 [==============================] - 0s 26ms/step - loss: 4246.8936 - val_loss: 4213.2798\n",
      "Epoch 242/500\n",
      "1/1 [==============================] - 0s 28ms/step - loss: 4213.2798 - val_loss: 4181.8652\n",
      "Epoch 243/500\n",
      "1/1 [==============================] - 0s 33ms/step - loss: 4181.8652 - val_loss: 4150.1729\n",
      "Epoch 244/500\n",
      "1/1 [==============================] - 0s 33ms/step - loss: 4150.1729 - val_loss: 4119.2871\n",
      "Epoch 245/500\n",
      "1/1 [==============================] - 0s 34ms/step - loss: 4119.2871 - val_loss: 4089.2107\n",
      "Epoch 246/500\n",
      "1/1 [==============================] - 0s 39ms/step - loss: 4089.2107 - val_loss: 4060.9836\n",
      "Epoch 247/500\n",
      "1/1 [==============================] - 0s 39ms/step - loss: 4060.9836 - val_loss: 4033.0413\n",
      "Epoch 248/500\n",
      "1/1 [==============================] - 0s 33ms/step - loss: 4033.0413 - val_loss: 4005.8779\n",
      "Epoch 249/500\n",
      "1/1 [==============================] - 0s 29ms/step - loss: 4005.8779 - val_loss: 3980.1770\n",
      "Epoch 250/500\n",
      "1/1 [==============================] - 0s 34ms/step - loss: 3980.1770 - val_loss: 3954.7830\n",
      "Epoch 251/500\n",
      "1/1 [==============================] - 0s 30ms/step - loss: 3954.7830 - val_loss: 3929.6743\n",
      "Epoch 252/500\n",
      "1/1 [==============================] - 0s 46ms/step - loss: 3929.6743 - val_loss: 3905.5305\n",
      "Epoch 253/500\n",
      "1/1 [==============================] - 0s 27ms/step - loss: 3905.5305 - val_loss: 3882.1978\n",
      "Epoch 254/500\n",
      "1/1 [==============================] - 0s 32ms/step - loss: 3882.1978 - val_loss: 3859.1877\n",
      "Epoch 255/500\n",
      "1/1 [==============================] - 0s 28ms/step - loss: 3859.1877 - val_loss: 3836.7947\n",
      "Epoch 256/500\n",
      "1/1 [==============================] - 0s 30ms/step - loss: 3836.7947 - val_loss: 3814.7820\n",
      "Epoch 257/500\n",
      "1/1 [==============================] - 0s 32ms/step - loss: 3814.7820 - val_loss: 3793.2654\n",
      "Epoch 258/500\n",
      "1/1 [==============================] - 0s 34ms/step - loss: 3793.2654 - val_loss: 3772.5156\n",
      "Epoch 259/500\n",
      "1/1 [==============================] - 0s 41ms/step - loss: 3772.5156 - val_loss: 3752.2966\n",
      "Epoch 260/500\n",
      "1/1 [==============================] - 0s 30ms/step - loss: 3752.2966 - val_loss: 3732.7603\n",
      "Epoch 261/500\n",
      "1/1 [==============================] - 0s 30ms/step - loss: 3732.7603 - val_loss: 3715.1101\n",
      "Epoch 262/500\n",
      "1/1 [==============================] - 0s 29ms/step - loss: 3715.1101 - val_loss: 3698.2446\n",
      "Epoch 263/500\n",
      "1/1 [==============================] - 0s 35ms/step - loss: 3698.2446 - val_loss: 3678.9082\n",
      "Epoch 264/500\n",
      "1/1 [==============================] - 0s 38ms/step - loss: 3678.9082 - val_loss: 3658.2944\n",
      "Epoch 265/500\n",
      "1/1 [==============================] - 0s 37ms/step - loss: 3658.2944 - val_loss: 3640.4153\n",
      "Epoch 266/500\n",
      "1/1 [==============================] - 0s 43ms/step - loss: 3640.4153 - val_loss: 3624.1470\n",
      "Epoch 267/500\n",
      "1/1 [==============================] - 0s 41ms/step - loss: 3624.1470 - val_loss: 3610.5808\n",
      "Epoch 268/500\n",
      "1/1 [==============================] - 0s 39ms/step - loss: 3610.5808 - val_loss: 3594.3831\n",
      "Epoch 269/500\n",
      "1/1 [==============================] - 0s 42ms/step - loss: 3594.3831 - val_loss: 3575.4536\n",
      "Epoch 270/500\n",
      "1/1 [==============================] - 0s 27ms/step - loss: 3575.4536 - val_loss: 3559.1956\n",
      "Epoch 271/500\n",
      "1/1 [==============================] - 0s 27ms/step - loss: 3559.1956 - val_loss: 3544.9963\n",
      "Epoch 272/500\n",
      "1/1 [==============================] - 0s 30ms/step - loss: 3544.9963 - val_loss: 3533.2361\n",
      "Epoch 273/500\n",
      "1/1 [==============================] - 0s 31ms/step - loss: 3533.2361 - val_loss: 3520.4634\n",
      "Epoch 274/500\n",
      "1/1 [==============================] - 0s 31ms/step - loss: 3520.4634 - val_loss: 3505.0308\n",
      "Epoch 275/500\n",
      "1/1 [==============================] - 0s 28ms/step - loss: 3505.0308 - val_loss: 3490.2419\n",
      "Epoch 276/500\n",
      "1/1 [==============================] - 0s 31ms/step - loss: 3490.2419 - val_loss: 3477.8442\n",
      "Epoch 277/500\n",
      "1/1 [==============================] - 0s 33ms/step - loss: 3477.8442 - val_loss: 3467.6663\n",
      "Epoch 278/500\n",
      "1/1 [==============================] - 0s 27ms/step - loss: 3467.6663 - val_loss: 3457.5879\n",
      "Epoch 279/500\n",
      "1/1 [==============================] - 0s 35ms/step - loss: 3457.5879 - val_loss: 3445.6292\n",
      "Epoch 280/500\n",
      "1/1 [==============================] - 0s 28ms/step - loss: 3445.6292 - val_loss: 3431.7705\n",
      "Epoch 281/500\n",
      "1/1 [==============================] - 0s 39ms/step - loss: 3431.7705 - val_loss: 3421.1658\n",
      "Epoch 282/500\n",
      "1/1 [==============================] - 0s 27ms/step - loss: 3421.1658 - val_loss: 3413.3059\n",
      "Epoch 283/500\n",
      "1/1 [==============================] - 0s 29ms/step - loss: 3413.3059 - val_loss: 3403.2656\n",
      "Epoch 284/500\n",
      "1/1 [==============================] - 0s 31ms/step - loss: 3403.2656 - val_loss: 3392.3596\n",
      "Epoch 285/500\n",
      "1/1 [==============================] - 0s 30ms/step - loss: 3392.3596 - val_loss: 3381.0161\n",
      "Epoch 286/500\n",
      "1/1 [==============================] - 0s 30ms/step - loss: 3381.0161 - val_loss: 3371.7163\n",
      "Epoch 287/500\n",
      "1/1 [==============================] - 0s 32ms/step - loss: 3371.7163 - val_loss: 3364.0278\n",
      "Epoch 288/500\n",
      "1/1 [==============================] - 0s 29ms/step - loss: 3364.0278 - val_loss: 3356.0193\n",
      "Epoch 289/500\n",
      "1/1 [==============================] - 0s 33ms/step - loss: 3356.0193 - val_loss: 3346.9958\n",
      "Epoch 290/500\n",
      "1/1 [==============================] - 0s 31ms/step - loss: 3346.9958 - val_loss: 3335.6262\n",
      "Epoch 291/500\n",
      "1/1 [==============================] - 0s 28ms/step - loss: 3335.6262 - val_loss: 3413.9888\n",
      "Epoch 292/500\n",
      "1/1 [==============================] - 0s 29ms/step - loss: 3413.9888 - val_loss: 3384.7271\n",
      "Epoch 293/500\n",
      "1/1 [==============================] - 0s 31ms/step - loss: 3384.7271 - val_loss: 3424.0720\n",
      "Epoch 294/500\n",
      "1/1 [==============================] - 0s 29ms/step - loss: 3424.0720 - val_loss: 3473.6443\n",
      "Epoch 295/500\n",
      "1/1 [==============================] - 0s 28ms/step - loss: 3473.6443 - val_loss: 3480.7483\n",
      "Epoch 296/500\n",
      "1/1 [==============================] - 0s 28ms/step - loss: 3480.7483 - val_loss: 3420.8167\n",
      "Epoch 297/500\n",
      "1/1 [==============================] - 0s 27ms/step - loss: 3420.8167 - val_loss: 3379.8159\n",
      "Epoch 298/500\n",
      "1/1 [==============================] - 0s 30ms/step - loss: 3379.8159 - val_loss: 3342.0935\n",
      "Epoch 299/500\n",
      "1/1 [==============================] - 0s 26ms/step - loss: 3342.0935 - val_loss: 3303.3625\n",
      "Epoch 300/500\n",
      "1/1 [==============================] - 0s 30ms/step - loss: 3303.3625 - val_loss: 3281.0090\n",
      "Epoch 301/500\n",
      "1/1 [==============================] - 0s 29ms/step - loss: 3281.0090 - val_loss: 3319.8899\n",
      "Epoch 302/500\n",
      "1/1 [==============================] - 0s 30ms/step - loss: 3319.8899 - val_loss: 3345.3044\n",
      "Epoch 303/500\n",
      "1/1 [==============================] - 0s 31ms/step - loss: 3345.3044 - val_loss: 3318.4597\n",
      "Epoch 304/500\n",
      "1/1 [==============================] - 0s 27ms/step - loss: 3318.4597 - val_loss: 3271.2920\n",
      "Epoch 305/500\n",
      "1/1 [==============================] - 0s 33ms/step - loss: 3271.2920 - val_loss: 3264.0608\n",
      "Epoch 306/500\n",
      "1/1 [==============================] - 0s 33ms/step - loss: 3264.0608 - val_loss: 3267.6479\n",
      "Epoch 307/500\n",
      "1/1 [==============================] - 0s 29ms/step - loss: 3267.6479 - val_loss: 3267.6643\n",
      "Epoch 308/500\n",
      "1/1 [==============================] - 0s 27ms/step - loss: 3267.6643 - val_loss: 3266.2451\n",
      "Epoch 309/500\n",
      "1/1 [==============================] - 0s 28ms/step - loss: 3266.2451 - val_loss: 3268.8069\n",
      "Epoch 310/500\n",
      "1/1 [==============================] - 0s 30ms/step - loss: 3268.8069 - val_loss: 3258.1558\n",
      "Epoch 311/500\n",
      "1/1 [==============================] - 0s 29ms/step - loss: 3258.1558 - val_loss: 3246.0320\n",
      "Epoch 312/500\n",
      "1/1 [==============================] - 0s 29ms/step - loss: 3246.0320 - val_loss: 3238.9976\n",
      "Epoch 313/500\n",
      "1/1 [==============================] - 0s 26ms/step - loss: 3238.9976 - val_loss: 3229.4651\n",
      "Epoch 314/500\n",
      "1/1 [==============================] - 0s 31ms/step - loss: 3229.4651 - val_loss: 3222.4624\n",
      "Epoch 315/500\n",
      "1/1 [==============================] - 0s 28ms/step - loss: 3222.4624 - val_loss: 3210.8840\n",
      "Epoch 316/500\n",
      "1/1 [==============================] - 0s 30ms/step - loss: 3210.8840 - val_loss: 3207.0210\n",
      "Epoch 317/500\n",
      "1/1 [==============================] - 0s 34ms/step - loss: 3207.0210 - val_loss: 3212.7932\n",
      "Epoch 318/500\n",
      "1/1 [==============================] - 0s 31ms/step - loss: 3212.7932 - val_loss: 3206.8384\n",
      "Epoch 319/500\n",
      "1/1 [==============================] - 0s 33ms/step - loss: 3206.8384 - val_loss: 3190.2393\n",
      "Epoch 320/500\n",
      "1/1 [==============================] - 0s 30ms/step - loss: 3190.2393 - val_loss: 3188.3970\n",
      "Epoch 321/500\n",
      "1/1 [==============================] - 0s 36ms/step - loss: 3188.3970 - val_loss: 3189.8088\n",
      "Epoch 322/500\n",
      "1/1 [==============================] - 0s 32ms/step - loss: 3189.8088 - val_loss: 3186.9827\n",
      "Epoch 323/500\n",
      "1/1 [==============================] - 0s 36ms/step - loss: 3186.9827 - val_loss: 3182.5376\n",
      "Epoch 324/500\n",
      "1/1 [==============================] - 0s 31ms/step - loss: 3182.5376 - val_loss: 3174.7285\n",
      "Epoch 325/500\n",
      "1/1 [==============================] - 0s 38ms/step - loss: 3174.7285 - val_loss: 3165.5654\n",
      "Epoch 326/500\n",
      "1/1 [==============================] - 0s 39ms/step - loss: 3165.5654 - val_loss: 3168.3298\n",
      "Epoch 327/500\n",
      "1/1 [==============================] - 0s 33ms/step - loss: 3168.3298 - val_loss: 3164.9504\n",
      "Epoch 328/500\n",
      "1/1 [==============================] - 0s 33ms/step - loss: 3164.9504 - val_loss: 3156.7412\n",
      "Epoch 329/500\n",
      "1/1 [==============================] - 0s 45ms/step - loss: 3156.7412 - val_loss: 3156.0081\n",
      "Epoch 330/500\n",
      "1/1 [==============================] - 0s 38ms/step - loss: 3156.0081 - val_loss: 3153.7786\n",
      "Epoch 331/500\n",
      "1/1 [==============================] - 0s 29ms/step - loss: 3153.7786 - val_loss: 3147.0520\n",
      "Epoch 332/500\n",
      "1/1 [==============================] - 0s 32ms/step - loss: 3147.0520 - val_loss: 3144.9746\n",
      "Epoch 333/500\n",
      "1/1 [==============================] - 0s 29ms/step - loss: 3144.9746 - val_loss: 3144.5190\n",
      "Epoch 334/500\n",
      "1/1 [==============================] - 0s 29ms/step - loss: 3144.5190 - val_loss: 3138.3728\n",
      "Epoch 335/500\n",
      "1/1 [==============================] - 0s 28ms/step - loss: 3138.3728 - val_loss: 3135.1980\n",
      "Epoch 336/500\n",
      "1/1 [==============================] - 0s 28ms/step - loss: 3135.1980 - val_loss: 3135.0000\n",
      "Epoch 337/500\n",
      "1/1 [==============================] - 0s 29ms/step - loss: 3135.0000 - val_loss: 3130.0400\n",
      "Epoch 338/500\n",
      "1/1 [==============================] - 0s 35ms/step - loss: 3130.0400 - val_loss: 3126.5317\n",
      "Epoch 339/500\n",
      "1/1 [==============================] - 0s 31ms/step - loss: 3126.5317 - val_loss: 3125.6848\n",
      "Epoch 340/500\n",
      "1/1 [==============================] - 0s 31ms/step - loss: 3125.6848 - val_loss: 3121.0974\n",
      "Epoch 341/500\n",
      "1/1 [==============================] - 0s 27ms/step - loss: 3121.0974 - val_loss: 3119.0974\n",
      "Epoch 342/500\n",
      "1/1 [==============================] - 0s 30ms/step - loss: 3119.0974 - val_loss: 3117.1702\n",
      "Epoch 343/500\n",
      "1/1 [==============================] - 0s 28ms/step - loss: 3117.1702 - val_loss: 3113.0642\n",
      "Epoch 344/500\n",
      "1/1 [==============================] - 0s 26ms/step - loss: 3113.0642 - val_loss: 3111.8787\n",
      "Epoch 345/500\n",
      "1/1 [==============================] - 0s 29ms/step - loss: 3111.8787 - val_loss: 3109.3262\n",
      "Epoch 346/500\n",
      "1/1 [==============================] - 0s 32ms/step - loss: 3109.3262 - val_loss: 3105.7581\n",
      "Epoch 347/500\n",
      "1/1 [==============================] - 0s 35ms/step - loss: 3105.7581 - val_loss: 3104.7554\n",
      "Epoch 348/500\n",
      "1/1 [==============================] - 0s 35ms/step - loss: 3104.7554 - val_loss: 3101.7295\n",
      "Epoch 349/500\n",
      "1/1 [==============================] - 0s 26ms/step - loss: 3101.7295 - val_loss: 3099.3108\n",
      "Epoch 350/500\n",
      "1/1 [==============================] - 0s 29ms/step - loss: 3099.3108 - val_loss: 3097.7893\n",
      "Epoch 351/500\n",
      "1/1 [==============================] - 0s 26ms/step - loss: 3097.7893 - val_loss: 3094.7959\n",
      "Epoch 352/500\n",
      "1/1 [==============================] - 0s 26ms/step - loss: 3094.7959 - val_loss: 3093.1501\n",
      "Epoch 353/500\n",
      "1/1 [==============================] - 0s 29ms/step - loss: 3093.1501 - val_loss: 3090.8123\n",
      "Epoch 354/500\n",
      "1/1 [==============================] - 0s 30ms/step - loss: 3090.8123 - val_loss: 3088.5059\n",
      "Epoch 355/500\n",
      "1/1 [==============================] - 0s 36ms/step - loss: 3088.5059 - val_loss: 3086.8936\n",
      "Epoch 356/500\n",
      "1/1 [==============================] - 0s 32ms/step - loss: 3086.8936 - val_loss: 3084.2800\n",
      "Epoch 357/500\n",
      "1/1 [==============================] - 0s 31ms/step - loss: 3084.2800 - val_loss: 3082.6707\n",
      "Epoch 358/500\n",
      "1/1 [==============================] - 0s 28ms/step - loss: 3082.6707 - val_loss: 3080.6292\n",
      "Epoch 359/500\n",
      "1/1 [==============================] - 0s 32ms/step - loss: 3080.6292 - val_loss: 3078.5969\n",
      "Epoch 360/500\n",
      "1/1 [==============================] - 0s 32ms/step - loss: 3078.5969 - val_loss: 3077.0349\n",
      "Epoch 361/500\n",
      "1/1 [==============================] - 0s 34ms/step - loss: 3077.0349 - val_loss: 3074.8855\n",
      "Epoch 362/500\n",
      "1/1 [==============================] - 0s 28ms/step - loss: 3074.8855 - val_loss: 3073.3762\n",
      "Epoch 363/500\n",
      "1/1 [==============================] - 0s 31ms/step - loss: 3073.3762 - val_loss: 3071.5071\n",
      "Epoch 364/500\n",
      "1/1 [==============================] - 0s 35ms/step - loss: 3071.5071 - val_loss: 3069.7549\n",
      "Epoch 365/500\n",
      "1/1 [==============================] - 0s 31ms/step - loss: 3069.7549 - val_loss: 3068.2019\n",
      "Epoch 366/500\n",
      "1/1 [==============================] - 0s 32ms/step - loss: 3068.2019 - val_loss: 3066.3877\n",
      "Epoch 367/500\n",
      "1/1 [==============================] - 0s 34ms/step - loss: 3066.3877 - val_loss: 3064.9099\n",
      "Epoch 368/500\n",
      "1/1 [==============================] - 0s 28ms/step - loss: 3064.9099 - val_loss: 3063.2009\n",
      "Epoch 369/500\n",
      "1/1 [==============================] - 0s 33ms/step - loss: 3063.2009 - val_loss: 3061.7104\n",
      "Epoch 370/500\n",
      "1/1 [==============================] - 0s 32ms/step - loss: 3061.7104 - val_loss: 3060.1375\n",
      "Epoch 371/500\n",
      "1/1 [==============================] - 0s 32ms/step - loss: 3060.1375 - val_loss: 3058.5764\n",
      "Epoch 372/500\n",
      "1/1 [==============================] - 0s 32ms/step - loss: 3058.5764 - val_loss: 3057.1494\n",
      "Epoch 373/500\n",
      "1/1 [==============================] - 0s 27ms/step - loss: 3057.1494 - val_loss: 3055.5527\n",
      "Epoch 374/500\n",
      "1/1 [==============================] - 0s 28ms/step - loss: 3055.5527 - val_loss: 3054.1643\n",
      "Epoch 375/500\n",
      "1/1 [==============================] - 0s 29ms/step - loss: 3054.1643 - val_loss: 3052.6523\n",
      "Epoch 376/500\n",
      "1/1 [==============================] - 0s 34ms/step - loss: 3052.6523 - val_loss: 3051.2483\n",
      "Epoch 377/500\n",
      "1/1 [==============================] - 0s 37ms/step - loss: 3051.2483 - val_loss: 3049.8271\n",
      "Epoch 378/500\n",
      "1/1 [==============================] - 0s 29ms/step - loss: 3049.8271 - val_loss: 3048.4070\n",
      "Epoch 379/500\n",
      "1/1 [==============================] - 0s 34ms/step - loss: 3048.4070 - val_loss: 3047.0413\n",
      "Epoch 380/500\n",
      "1/1 [==============================] - 0s 33ms/step - loss: 3047.0413 - val_loss: 3045.6201\n",
      "Epoch 381/500\n",
      "1/1 [==============================] - 0s 35ms/step - loss: 3045.6201 - val_loss: 3044.2991\n",
      "Epoch 382/500\n",
      "1/1 [==============================] - 0s 37ms/step - loss: 3044.2991 - val_loss: 3042.9192\n",
      "Epoch 383/500\n",
      "1/1 [==============================] - 0s 32ms/step - loss: 3042.9192 - val_loss: 3041.6216\n",
      "Epoch 384/500\n",
      "1/1 [==============================] - 0s 32ms/step - loss: 3041.6216 - val_loss: 3040.2869\n",
      "Epoch 385/500\n",
      "1/1 [==============================] - 0s 38ms/step - loss: 3040.2869 - val_loss: 3038.9912\n",
      "Epoch 386/500\n",
      "1/1 [==============================] - 0s 36ms/step - loss: 3038.9912 - val_loss: 3037.7070\n",
      "Epoch 387/500\n",
      "1/1 [==============================] - 0s 44ms/step - loss: 3037.7070 - val_loss: 3036.4207\n",
      "Epoch 388/500\n",
      "1/1 [==============================] - 0s 38ms/step - loss: 3036.4207 - val_loss: 3035.1707\n",
      "Epoch 389/500\n",
      "1/1 [==============================] - 0s 38ms/step - loss: 3035.1707 - val_loss: 3033.9036\n",
      "Epoch 390/500\n",
      "1/1 [==============================] - 0s 28ms/step - loss: 3033.9036 - val_loss: 3032.6785\n",
      "Epoch 391/500\n",
      "1/1 [==============================] - 0s 31ms/step - loss: 3032.6785 - val_loss: 3031.4309\n",
      "Epoch 392/500\n",
      "1/1 [==============================] - 0s 30ms/step - loss: 3031.4309 - val_loss: 3030.2205\n",
      "Epoch 393/500\n",
      "1/1 [==============================] - 0s 29ms/step - loss: 3030.2205 - val_loss: 3028.9939\n",
      "Epoch 394/500\n",
      "1/1 [==============================] - 0s 27ms/step - loss: 3028.9939 - val_loss: 3027.7888\n",
      "Epoch 395/500\n",
      "1/1 [==============================] - 0s 31ms/step - loss: 3027.7888 - val_loss: 3026.5896\n",
      "Epoch 396/500\n",
      "1/1 [==============================] - 0s 28ms/step - loss: 3026.5896 - val_loss: 3025.4116\n",
      "Epoch 397/500\n",
      "1/1 [==============================] - 0s 30ms/step - loss: 3025.4116 - val_loss: 3024.2534\n",
      "Epoch 398/500\n",
      "1/1 [==============================] - 0s 30ms/step - loss: 3024.2534 - val_loss: 3023.0986\n",
      "Epoch 399/500\n",
      "1/1 [==============================] - 0s 35ms/step - loss: 3023.0986 - val_loss: 3021.9636\n",
      "Epoch 400/500\n",
      "1/1 [==============================] - 0s 32ms/step - loss: 3021.9636 - val_loss: 3020.8311\n",
      "Epoch 401/500\n",
      "1/1 [==============================] - 0s 37ms/step - loss: 3020.8311 - val_loss: 3019.7197\n",
      "Epoch 402/500\n",
      "1/1 [==============================] - 0s 35ms/step - loss: 3019.7197 - val_loss: 3018.6064\n",
      "Epoch 403/500\n",
      "1/1 [==============================] - 0s 36ms/step - loss: 3018.6064 - val_loss: 3017.5090\n",
      "Epoch 404/500\n",
      "1/1 [==============================] - 0s 32ms/step - loss: 3017.5090 - val_loss: 3016.4155\n",
      "Epoch 405/500\n",
      "1/1 [==============================] - 0s 33ms/step - loss: 3016.4155 - val_loss: 3015.3369\n",
      "Epoch 406/500\n",
      "1/1 [==============================] - 0s 33ms/step - loss: 3015.3369 - val_loss: 3014.2686\n",
      "Epoch 407/500\n",
      "1/1 [==============================] - 0s 29ms/step - loss: 3014.2686 - val_loss: 3013.2129\n",
      "Epoch 408/500\n",
      "1/1 [==============================] - 0s 27ms/step - loss: 3013.2129 - val_loss: 3012.1658\n",
      "Epoch 409/500\n",
      "1/1 [==============================] - 0s 31ms/step - loss: 3012.1658 - val_loss: 3011.1292\n",
      "Epoch 410/500\n",
      "1/1 [==============================] - 0s 35ms/step - loss: 3011.1292 - val_loss: 3010.1011\n",
      "Epoch 411/500\n",
      "1/1 [==============================] - 0s 29ms/step - loss: 3010.1011 - val_loss: 3009.0693\n",
      "Epoch 412/500\n",
      "1/1 [==============================] - 0s 30ms/step - loss: 3009.0693 - val_loss: 3007.9854\n",
      "Epoch 413/500\n",
      "1/1 [==============================] - 0s 34ms/step - loss: 3007.9854 - val_loss: 3007.7349\n",
      "Epoch 414/500\n",
      "1/1 [==============================] - 0s 30ms/step - loss: 3007.7349 - val_loss: 3005.9695\n",
      "Epoch 415/500\n",
      "1/1 [==============================] - 0s 31ms/step - loss: 3005.9695 - val_loss: 3005.0708\n",
      "Epoch 416/500\n",
      "1/1 [==============================] - 0s 29ms/step - loss: 3005.0708 - val_loss: 3004.1145\n",
      "Epoch 417/500\n",
      "1/1 [==============================] - 0s 33ms/step - loss: 3004.1145 - val_loss: 3003.1519\n",
      "Epoch 418/500\n",
      "1/1 [==============================] - 0s 31ms/step - loss: 3003.1519 - val_loss: 3002.1885\n",
      "Epoch 419/500\n",
      "1/1 [==============================] - 0s 28ms/step - loss: 3002.1885 - val_loss: 3001.2261\n",
      "Epoch 420/500\n",
      "1/1 [==============================] - 0s 29ms/step - loss: 3001.2261 - val_loss: 3000.2754\n",
      "Epoch 421/500\n",
      "1/1 [==============================] - 0s 28ms/step - loss: 3000.2754 - val_loss: 2999.3330\n",
      "Epoch 422/500\n",
      "1/1 [==============================] - 0s 31ms/step - loss: 2999.3330 - val_loss: 2998.3862\n",
      "Epoch 423/500\n",
      "1/1 [==============================] - 0s 33ms/step - loss: 2998.3862 - val_loss: 2997.4688\n",
      "Epoch 424/500\n",
      "1/1 [==============================] - 0s 31ms/step - loss: 2997.4688 - val_loss: 2996.5481\n",
      "Epoch 425/500\n",
      "1/1 [==============================] - 0s 36ms/step - loss: 2996.5481 - val_loss: 2995.6223\n",
      "Epoch 426/500\n",
      "1/1 [==============================] - 0s 30ms/step - loss: 2995.6223 - val_loss: 2994.7168\n",
      "Epoch 427/500\n",
      "1/1 [==============================] - 0s 31ms/step - loss: 2994.7168 - val_loss: 2993.8035\n",
      "Epoch 428/500\n",
      "1/1 [==============================] - 0s 34ms/step - loss: 2993.8035 - val_loss: 2992.9050\n",
      "Epoch 429/500\n",
      "1/1 [==============================] - 0s 34ms/step - loss: 2992.9050 - val_loss: 2992.0005\n",
      "Epoch 430/500\n",
      "1/1 [==============================] - 0s 28ms/step - loss: 2992.0005 - val_loss: 2991.1143\n",
      "Epoch 431/500\n",
      "1/1 [==============================] - 0s 33ms/step - loss: 2991.1143 - val_loss: 2990.2288\n",
      "Epoch 432/500\n",
      "1/1 [==============================] - 0s 34ms/step - loss: 2990.2288 - val_loss: 2989.3508\n",
      "Epoch 433/500\n",
      "1/1 [==============================] - 0s 29ms/step - loss: 2989.3508 - val_loss: 2988.4731\n",
      "Epoch 434/500\n",
      "1/1 [==============================] - 0s 30ms/step - loss: 2988.4731 - val_loss: 2987.5911\n",
      "Epoch 435/500\n",
      "1/1 [==============================] - 0s 33ms/step - loss: 2987.5911 - val_loss: 2986.7146\n",
      "Epoch 436/500\n",
      "1/1 [==============================] - 0s 30ms/step - loss: 2986.7146 - val_loss: 2985.8486\n",
      "Epoch 437/500\n",
      "1/1 [==============================] - 0s 43ms/step - loss: 2985.8486 - val_loss: 2984.9995\n",
      "Epoch 438/500\n",
      "1/1 [==============================] - 0s 40ms/step - loss: 2984.9995 - val_loss: 2984.1440\n",
      "Epoch 439/500\n",
      "1/1 [==============================] - 0s 32ms/step - loss: 2984.1440 - val_loss: 2983.2893\n",
      "Epoch 440/500\n",
      "1/1 [==============================] - 0s 35ms/step - loss: 2983.2893 - val_loss: 2982.4460\n",
      "Epoch 441/500\n",
      "1/1 [==============================] - 0s 31ms/step - loss: 2982.4460 - val_loss: 2981.6035\n",
      "Epoch 442/500\n",
      "1/1 [==============================] - 0s 36ms/step - loss: 2981.6035 - val_loss: 2980.7664\n",
      "Epoch 443/500\n",
      "1/1 [==============================] - 0s 36ms/step - loss: 2980.7664 - val_loss: 2979.9358\n",
      "Epoch 444/500\n",
      "1/1 [==============================] - 0s 48ms/step - loss: 2979.9358 - val_loss: 2979.1030\n",
      "Epoch 445/500\n",
      "1/1 [==============================] - 0s 30ms/step - loss: 2979.1030 - val_loss: 2978.2725\n",
      "Epoch 446/500\n",
      "1/1 [==============================] - 0s 37ms/step - loss: 2978.2725 - val_loss: 2977.4487\n",
      "Epoch 447/500\n",
      "1/1 [==============================] - 0s 38ms/step - loss: 2977.4487 - val_loss: 2976.6252\n",
      "Epoch 448/500\n",
      "1/1 [==============================] - 0s 29ms/step - loss: 2976.6252 - val_loss: 2975.8105\n",
      "Epoch 449/500\n",
      "1/1 [==============================] - 0s 29ms/step - loss: 2975.8105 - val_loss: 2974.9988\n",
      "Epoch 450/500\n",
      "1/1 [==============================] - 0s 29ms/step - loss: 2974.9988 - val_loss: 2974.1882\n",
      "Epoch 451/500\n",
      "1/1 [==============================] - 0s 30ms/step - loss: 2974.1882 - val_loss: 2973.3809\n",
      "Epoch 452/500\n",
      "1/1 [==============================] - 0s 29ms/step - loss: 2973.3809 - val_loss: 2972.5754\n",
      "Epoch 453/500\n",
      "1/1 [==============================] - 0s 28ms/step - loss: 2972.5754 - val_loss: 2971.7725\n",
      "Epoch 454/500\n",
      "1/1 [==============================] - 0s 28ms/step - loss: 2971.7725 - val_loss: 2970.9719\n",
      "Epoch 455/500\n",
      "1/1 [==============================] - 0s 31ms/step - loss: 2970.9719 - val_loss: 2970.1782\n",
      "Epoch 456/500\n",
      "1/1 [==============================] - 0s 37ms/step - loss: 2970.1782 - val_loss: 2969.3848\n",
      "Epoch 457/500\n",
      "1/1 [==============================] - 0s 31ms/step - loss: 2969.3848 - val_loss: 2968.5920\n",
      "Epoch 458/500\n",
      "1/1 [==============================] - 0s 33ms/step - loss: 2968.5920 - val_loss: 2967.8044\n",
      "Epoch 459/500\n",
      "1/1 [==============================] - 0s 31ms/step - loss: 2967.8044 - val_loss: 2967.0193\n",
      "Epoch 460/500\n",
      "1/1 [==============================] - 0s 33ms/step - loss: 2967.0193 - val_loss: 2966.2373\n",
      "Epoch 461/500\n",
      "1/1 [==============================] - 0s 34ms/step - loss: 2966.2373 - val_loss: 2965.4583\n",
      "Epoch 462/500\n",
      "1/1 [==============================] - 0s 32ms/step - loss: 2965.4583 - val_loss: 2964.6804\n",
      "Epoch 463/500\n",
      "1/1 [==============================] - 0s 30ms/step - loss: 2964.6804 - val_loss: 2963.9065\n",
      "Epoch 464/500\n",
      "1/1 [==============================] - 0s 29ms/step - loss: 2963.9065 - val_loss: 2963.1379\n",
      "Epoch 465/500\n",
      "1/1 [==============================] - 0s 34ms/step - loss: 2963.1379 - val_loss: 2962.3726\n",
      "Epoch 466/500\n",
      "1/1 [==============================] - 0s 33ms/step - loss: 2962.3726 - val_loss: 2961.6111\n",
      "Epoch 467/500\n",
      "1/1 [==============================] - 0s 40ms/step - loss: 2961.6111 - val_loss: 2960.8447\n",
      "Epoch 468/500\n",
      "1/1 [==============================] - 0s 35ms/step - loss: 2960.8447 - val_loss: 2960.0847\n",
      "Epoch 469/500\n",
      "1/1 [==============================] - 0s 30ms/step - loss: 2960.0847 - val_loss: 2959.3257\n",
      "Epoch 470/500\n",
      "1/1 [==============================] - 0s 38ms/step - loss: 2959.3257 - val_loss: 2958.5698\n",
      "Epoch 471/500\n",
      "1/1 [==============================] - 0s 31ms/step - loss: 2958.5698 - val_loss: 2957.8108\n",
      "Epoch 472/500\n",
      "1/1 [==============================] - 0s 27ms/step - loss: 2957.8108 - val_loss: 2957.0571\n",
      "Epoch 473/500\n",
      "1/1 [==============================] - 0s 32ms/step - loss: 2957.0571 - val_loss: 2956.3032\n",
      "Epoch 474/500\n",
      "1/1 [==============================] - 0s 34ms/step - loss: 2956.3032 - val_loss: 2955.5503\n",
      "Epoch 475/500\n",
      "1/1 [==============================] - 0s 34ms/step - loss: 2955.5503 - val_loss: 2954.7930\n",
      "Epoch 476/500\n",
      "1/1 [==============================] - 0s 34ms/step - loss: 2954.7930 - val_loss: 2954.0300\n",
      "Epoch 477/500\n",
      "1/1 [==============================] - 0s 33ms/step - loss: 2954.0300 - val_loss: 2953.2424\n",
      "Epoch 478/500\n",
      "1/1 [==============================] - 0s 31ms/step - loss: 2953.2424 - val_loss: 2952.3772\n",
      "Epoch 479/500\n",
      "1/1 [==============================] - 0s 39ms/step - loss: 2952.3772 - val_loss: 2951.2300\n",
      "Epoch 480/500\n",
      "1/1 [==============================] - 0s 35ms/step - loss: 2951.2300 - val_loss: 2951.0569\n",
      "Epoch 481/500\n",
      "1/1 [==============================] - 0s 30ms/step - loss: 2951.0569 - val_loss: 2949.6768\n",
      "Epoch 482/500\n",
      "1/1 [==============================] - 0s 39ms/step - loss: 2949.6768 - val_loss: 2949.3459\n",
      "Epoch 483/500\n",
      "1/1 [==============================] - 0s 33ms/step - loss: 2949.3459 - val_loss: 2948.7661\n",
      "Epoch 484/500\n",
      "1/1 [==============================] - 0s 34ms/step - loss: 2948.7661 - val_loss: 2948.0747\n",
      "Epoch 485/500\n",
      "1/1 [==============================] - 0s 35ms/step - loss: 2948.0747 - val_loss: 2947.3462\n",
      "Epoch 486/500\n",
      "1/1 [==============================] - 0s 31ms/step - loss: 2947.3462 - val_loss: 2946.6179\n",
      "Epoch 487/500\n",
      "1/1 [==============================] - 0s 30ms/step - loss: 2946.6179 - val_loss: 2945.8801\n",
      "Epoch 488/500\n",
      "1/1 [==============================] - 0s 32ms/step - loss: 2945.8801 - val_loss: 2945.0977\n",
      "Epoch 489/500\n",
      "1/1 [==============================] - 0s 29ms/step - loss: 2945.0977 - val_loss: 2944.2158\n",
      "Epoch 490/500\n",
      "1/1 [==============================] - 0s 31ms/step - loss: 2944.2158 - val_loss: 2943.1785\n",
      "Epoch 491/500\n",
      "1/1 [==============================] - 0s 30ms/step - loss: 2943.1785 - val_loss: 2942.4412\n",
      "Epoch 492/500\n",
      "1/1 [==============================] - 0s 34ms/step - loss: 2942.4412 - val_loss: 2941.9263\n",
      "Epoch 493/500\n",
      "1/1 [==============================] - 0s 35ms/step - loss: 2941.9263 - val_loss: 2940.9966\n",
      "Epoch 494/500\n",
      "1/1 [==============================] - 0s 33ms/step - loss: 2940.9966 - val_loss: 2940.5500\n",
      "Epoch 495/500\n",
      "1/1 [==============================] - 0s 29ms/step - loss: 2940.5500 - val_loss: 2939.8638\n",
      "Epoch 496/500\n",
      "1/1 [==============================] - 0s 32ms/step - loss: 2939.8638 - val_loss: 2939.0085\n",
      "Epoch 497/500\n",
      "1/1 [==============================] - 0s 32ms/step - loss: 2939.0085 - val_loss: 2938.0715\n",
      "Epoch 498/500\n",
      "1/1 [==============================] - 0s 28ms/step - loss: 2938.0715 - val_loss: 2937.5862\n",
      "Epoch 499/500\n",
      "1/1 [==============================] - 0s 31ms/step - loss: 2937.5862 - val_loss: 2936.6929\n",
      "Epoch 500/500\n",
      "1/1 [==============================] - 0s 36ms/step - loss: 2936.6929 - val_loss: 2935.9119\n"
     ]
    }
   ],
   "execution_count": 264
  },
  {
   "metadata": {
    "ExecuteTime": {
     "end_time": "2024-08-22T17:24:27.260934Z",
     "start_time": "2024-08-22T17:24:27.203319Z"
    }
   },
   "cell_type": "code",
   "source": [
    "plt.plot(history.history['loss'])\n",
    "plt.show()"
   ],
   "id": "1996f3e51125576a",
   "outputs": [
    {
     "data": {
      "text/plain": [
       "<Figure size 640x480 with 1 Axes>"
      ],
      "image/png": "[encoded data removed]"
     },
     "metadata": {},
     "output_type": "display_data"
    }
   ],
   "execution_count": 265
  },
  {
   "metadata": {
    "ExecuteTime": {
     "end_time": "2024-08-22T17:24:27.310772Z",
     "start_time": "2024-08-22T17:24:27.262271Z"
    }
   },
   "cell_type": "code",
   "source": [
    "plt.plot(l)\n",
    "plt.plot(l0)\n",
    "plt.show()"
   ],
   "id": "c8ec153d414107ba",
   "outputs": [
    {
     "data": {
      "text/plain": [
       "<Figure size 640x480 with 1 Axes>"
      ],
      "image/png": "[encoded data removed]"
     },
     "metadata": {},
     "output_type": "display_data"
    }
   ],
   "execution_count": 266
  },
  {
   "metadata": {
    "ExecuteTime": {
     "end_time": "2024-08-22T17:24:27.366005Z",
     "start_time": "2024-08-22T17:24:27.312123Z"
    }
   },
   "cell_type": "code",
   "source": "plt.plot(l0)",
   "id": "384bd6e228563e24",
   "outputs": [
    {
     "data": {
      "text/plain": [
       "[<matplotlib.lines.Line2D at 0x7fb2c81344d0>]"
      ]
     },
     "execution_count": 267,
     "metadata": {},
     "output_type": "execute_result"
    },
    {
     "data": {
      "text/plain": [
       "<Figure size 640x480 with 1 Axes>"
      ],
      "image/png": "[encoded data removed]"
     },
     "metadata": {},
     "output_type": "display_data"
    }
   ],
   "execution_count": 267
  },
  {
   "metadata": {
    "ExecuteTime": {
     "end_time": "2024-08-22T17:24:27.383038Z",
     "start_time": "2024-08-22T17:24:27.367309Z"
    }
   },
   "cell_type": "code",
   "source": "print(f'best epoch: {min(l0)}',f'best batch: {min(l)}')",
   "id": "fca41b35f19cd3e4",
   "outputs": [
    {
     "ename": "ValueError",
     "evalue": "min() arg is an empty sequence",
     "output_type": "error",
     "traceback": [
      "\u001B[0;31m---------------------------------------------------------------------------\u001B[0m",
      "\u001B[0;31mValueError\u001B[0m                                Traceback (most recent call last)",
      "Cell \u001B[0;32mIn[268], line 1\u001B[0m\n\u001B[0;32m----> 1\u001B[0m \u001B[38;5;28mprint\u001B[39m(\u001B[38;5;124mf\u001B[39m\u001B[38;5;124m'\u001B[39m\u001B[38;5;124mbest epoch: \u001B[39m\u001B[38;5;132;01m{\u001B[39;00m\u001B[38;5;28;43mmin\u001B[39;49m\u001B[43m(\u001B[49m\u001B[43ml0\u001B[49m\u001B[43m)\u001B[49m\u001B[38;5;132;01m}\u001B[39;00m\u001B[38;5;124m'\u001B[39m,\u001B[38;5;124mf\u001B[39m\u001B[38;5;124m'\u001B[39m\u001B[38;5;124mbest batch: \u001B[39m\u001B[38;5;132;01m{\u001B[39;00m\u001B[38;5;28mmin\u001B[39m(l)\u001B[38;5;132;01m}\u001B[39;00m\u001B[38;5;124m'\u001B[39m)\n",
      "\u001B[0;31mValueError\u001B[0m: min() arg is an empty sequence"
     ]
    }
   ],
   "execution_count": 268
  },
  {
   "metadata": {
    "ExecuteTime": {
     "end_time": "2024-08-22T17:25:22.873004Z",
     "start_time": "2024-08-22T17:25:22.859239Z"
    }
   },
   "cell_type": "code",
   "source": "l0[-1]",
   "id": "8e4fa70e4e58353a",
   "outputs": [
    {
     "ename": "IndexError",
     "evalue": "list index out of range",
     "output_type": "error",
     "traceback": [
      "\u001B[0;31m---------------------------------------------------------------------------\u001B[0m",
      "\u001B[0;31mIndexError\u001B[0m                                Traceback (most recent call last)",
      "Cell \u001B[0;32mIn[269], line 1\u001B[0m\n\u001B[0;32m----> 1\u001B[0m \u001B[43ml0\u001B[49m\u001B[43m[\u001B[49m\u001B[38;5;241;43m-\u001B[39;49m\u001B[38;5;241;43m1\u001B[39;49m\u001B[43m]\u001B[49m\n",
      "\u001B[0;31mIndexError\u001B[0m: list index out of range"
     ]
    }
   ],
   "execution_count": 269
  },
  {
   "metadata": {
    "ExecuteTime": {
     "end_time": "2024-08-22T17:25:33.630114Z",
     "start_time": "2024-08-22T17:25:33.603852Z"
    }
   },
   "cell_type": "code",
   "source": "model.save('last.h5')",
   "id": "c668eb7fb71a0de",
   "outputs": [
    {
     "name": "stderr",
     "output_type": "stream",
     "text": [
      "/home/itachi/miniconda3/envs/kera/lib/python3.11/site-packages/keras/src/engine/training.py:3103: UserWarning: You are saving your model as an HDF5 file via `model.save()`. This file format is considered legacy. We recommend using instead the native Keras format, e.g. `model.save('my_model.keras')`.\n",
      "  saving_api.save_model(\n"
     ]
    }
   ],
   "execution_count": 280
  },
  {
   "metadata": {
    "ExecuteTime": {
     "end_time": "2024-08-22T17:25:33.699209Z",
     "start_time": "2024-08-22T17:25:33.695578Z"
    }
   },
   "cell_type": "code",
   "source": "data[0]",
   "id": "5895a488c2f24299",
   "outputs": [
    {
     "data": {
      "text/plain": [
       "array([[ 828.,  635.,  918.,  512.,  612., 1025.],\n",
       "       [ 625.,  676.,  738.,  597.,  597., 1046.],\n",
       "       [ 518.,  740.,  440.,  779.,  565., 1046.],\n",
       "       [ 488.,  821.,  390.,  884.,  527., 1035.],\n",
       "       [ 488.,  880.,  471.,  908.,  508., 1015.],\n",
       "       [ 449.,  817.,  312.,  890.,  543., 1048.],\n",
       "       [ 558.,  689.,  660.,  582.,  591., 1004.]])"
      ]
     },
     "execution_count": 281,
     "metadata": {},
     "output_type": "execute_result"
    }
   ],
   "execution_count": 281
  },
  {
   "metadata": {
    "ExecuteTime": {
     "end_time": "2024-08-22T17:25:33.755624Z",
     "start_time": "2024-08-22T17:25:33.740347Z"
    }
   },
   "cell_type": "code",
   "source": "restore_changes(data[0],0,None)",
   "id": "e0597680252fdb29",
   "outputs": [
    {
     "data": {
      "text/plain": [
       "[[[828.0, 635.0], [918.0, 512.0], [612.0, 1025.0]],\n",
       " [[625.0, 676.0], [738.0, 597.0], [597.0, 1046.0]],\n",
       " [[518.0, 740.0], [440.0, 779.0], [565.0, 1046.0]],\n",
       " [[488.0, 821.0], [390.0, 884.0], [527.0, 1035.0]],\n",
       " [[488.0, 880.0], [471.0, 908.0], [508.0, 1015.0]],\n",
       " [[449.0, 817.0], [312.0, 890.0], [543.0, 1048.0]],\n",
       " [[558.0, 689.0], [660.0, 582.0], [591.0, 1004.0]]]"
      ]
     },
     "execution_count": 282,
     "metadata": {},
     "output_type": "execute_result"
    }
   ],
   "execution_count": 282
  },
  {
   "metadata": {
    "ExecuteTime": {
     "end_time": "2024-08-22T17:25:33.797336Z",
     "start_time": "2024-08-22T17:25:33.794426Z"
    }
   },
   "cell_type": "code",
   "source": [
    "# import cv2\n",
    "# img=cv2.imread('CutFrame_Output/output0/frame_0.png')\n",
    "# from utils import process_data\n",
    "# import re\n",
    "# from utils import list_change\n",
    "# \n",
    "# data = process_data(r'CutFrame_Output/output0/use0.txt')\n",
    "# data1 = list_change(r'CutFrame_Output/output0/use0.txt')\n",
    "# print(data)\n",
    "# print(data1)\n",
    "# for p in data:\n",
    "#     # print((p[0], p[1]))\n",
    "#     cv2.circle(img, (int(p[0]), int(p[1])), 3, (0, 255, 0), -1)\n",
    "# \n",
    "# for p in data1:\n",
    "#     # print((p[0], p[1]))\n",
    "#     cv2.circle(img, (int(p[0]), int(p[1])), 3, (0, 0, 255), -1)\n",
    "# \n",
    "# cv2.imwrite('output.png', img)"
   ],
   "id": "e1403453b1ac7ffd",
   "outputs": [],
   "execution_count": 283
  },
  {
   "metadata": {
    "ExecuteTime": {
     "end_time": "2024-08-22T17:25:33.830124Z",
     "start_time": "2024-08-22T17:25:33.827225Z"
    }
   },
   "cell_type": "code",
   "source": "# restore_changes(data[0],0)",
   "id": "71a96b6705140f20",
   "outputs": [],
   "execution_count": 284
  },
  {
   "metadata": {
    "ExecuteTime": {
     "end_time": "2024-08-22T17:25:34.019377Z",
     "start_time": "2024-08-22T17:25:33.888713Z"
    }
   },
   "cell_type": "code",
   "source": [
    "model = tf.keras.models.load_model('last.h5')\n",
    "# model.evaluate(X_test, Y_test)"
   ],
   "id": "68cd7a9629d0b93b",
   "outputs": [
    {
     "name": "stdout",
     "output_type": "stream",
     "text": [
      "WARNING:tensorflow:Layer lstm_20 will not use cuDNN kernels since it doesn't meet the criteria. It will use a generic GPU kernel as fallback when running on GPU.\n"
     ]
    }
   ],
   "execution_count": 285
  },
  {
   "metadata": {
    "ExecuteTime": {
     "end_time": "2024-08-22T17:25:34.180549Z",
     "start_time": "2024-08-22T17:25:34.020999Z"
    }
   },
   "cell_type": "code",
   "source": "a= model.predict(np.array([data[0]]))",
   "id": "35ed8c3b2c6808a1",
   "outputs": [
    {
     "name": "stdout",
     "output_type": "stream",
     "text": [
      "1/1 [==============================] - 0s 127ms/step\n"
     ]
    }
   ],
   "execution_count": 286
  },
  {
   "metadata": {
    "ExecuteTime": {
     "end_time": "2024-08-22T17:25:34.185043Z",
     "start_time": "2024-08-22T17:25:34.181677Z"
    }
   },
   "cell_type": "code",
   "source": "a[0]",
   "id": "2e06408174cead2",
   "outputs": [
    {
     "data": {
      "text/plain": [
       "array([[ 714.97845,  637.553  ,  842.6971 ,  531.7755 ,  817.7172 ,\n",
       "        1023.72534],\n",
       "       [ 602.5797 ,  697.4571 ,  716.22455,  626.7535 ,  616.6941 ,\n",
       "        1056.6932 ],\n",
       "       [ 492.3739 ,  762.29987,  429.7335 ,  806.03265,  538.0654 ,\n",
       "        1082.2389 ],\n",
       "       [ 469.89633,  843.7392 ,  372.78513,  924.13293,  504.54062,\n",
       "        1048.6172 ],\n",
       "       [ 455.08966,  850.4774 ,  436.24942,  901.9841 ,  613.9966 ,\n",
       "        1069.7616 ],\n",
       "       [ 458.7365 ,  803.6503 ,  349.68265,  871.1874 ,  520.2437 ,\n",
       "        1066.995  ],\n",
       "       [ 537.9798 ,  662.5408 ,  645.8218 ,  623.5802 ,  753.2573 ,\n",
       "         972.09564]], dtype=float32)"
      ]
     },
     "execution_count": 287,
     "metadata": {},
     "output_type": "execute_result"
    }
   ],
   "execution_count": 287
  },
  {
   "metadata": {
    "ExecuteTime": {
     "end_time": "2024-08-22T17:25:34.195536Z",
     "start_time": "2024-08-22T17:25:34.186211Z"
    }
   },
   "cell_type": "code",
   "source": "data[0]",
   "id": "d771a8a086a8af73",
   "outputs": [
    {
     "data": {
      "text/plain": [
       "array([[ 828.,  635.,  918.,  512.,  612., 1025.],\n",
       "       [ 625.,  676.,  738.,  597.,  597., 1046.],\n",
       "       [ 518.,  740.,  440.,  779.,  565., 1046.],\n",
       "       [ 488.,  821.,  390.,  884.,  527., 1035.],\n",
       "       [ 488.,  880.,  471.,  908.,  508., 1015.],\n",
       "       [ 449.,  817.,  312.,  890.,  543., 1048.],\n",
       "       [ 558.,  689.,  660.,  582.,  591., 1004.]])"
      ]
     },
     "execution_count": 288,
     "metadata": {},
     "output_type": "execute_result"
    }
   ],
   "execution_count": 288
  },
  {
   "metadata": {
    "ExecuteTime": {
     "end_time": "2024-08-22T17:25:35.380673Z",
     "start_time": "2024-08-22T17:25:34.196467Z"
    }
   },
   "cell_type": "code",
   "source": [
    "points = restore_changes(a,0,None)\n",
    "# points = ['pass']+points\n",
    "# del(points[-1])\n",
    "for n,f in enumerate(points):\n",
    "    # if n==0:\n",
    "    #     continue\n",
    "    img = cv2.imread(f'./CutFrame_Output/output0/frame_{n}.png')\n",
    "    for q,p in enumerate(f):\n",
    "        # print((p[0], p[1]))\n",
    "        cv2.circle(img, (int(p[0]), int(p[1])), 3, (0, 255, 0), -1)\n",
    "        cv2.putText(img, str(q), (int(p[0]), int(p[1])), cv2.FONT_HERSHEY_SIMPLEX, 1, (0, 0, 255), 2, cv2.LINE_AA)\n",
    "    cv2.imwrite(f'outputs/output{n}.png', img)"
   ],
   "id": "f28e0383904f9cf0",
   "outputs": [],
   "execution_count": 289
  }
 ],
 "metadata": {
  "kernelspec": {
   "display_name": "Python 3",
   "language": "python",
   "name": "python3"
  },
  "language_info": {
   "codemirror_mode": {
    "name": "ipython",
    "version": 2
   },
   "file_extension": ".py",
   "mimetype": "text/x-python",
   "name": "python",
   "nbconvert_exporter": "python",
   "pygments_lexer": "ipython2",
   "version": "2.7.6"
  }
 },
 "nbformat": 4,
 "nbformat_minor": 5
}
