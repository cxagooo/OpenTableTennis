{
 "cells": [
  {
   "cell_type": "code",
   "id": "initial_id",
   "metadata": {
    "collapsed": true,
    "ExecuteTime": {
     "end_time": "2024-08-10T18:18:32.880520Z",
     "start_time": "2024-08-10T18:18:32.874518Z"
    }
   },
   "source": [
    "from list_change import list_change\n",
    "import pandas as pd\n",
    "import numpy as np\n",
    "import glob\n",
    "from keras import Sequential\n",
    "from keras.layers import LSTM, Dense\n",
    "import copy\n",
    "import matplotlib.pyplot as plt\n",
    "from utils import split_dataset\n",
    "import os\n",
    "import tensorflow as tf"
   ],
   "outputs": [],
   "execution_count": 9
  },
  {
   "metadata": {
    "ExecuteTime": {
     "end_time": "2024-08-11T11:40:05.977309Z",
     "start_time": "2024-08-11T11:40:04.398070Z"
    }
   },
   "cell_type": "code",
   "source": [
    "import tensorflow as tf\n",
    "# tf.config.list_physical_devices('GPU')\n",
    "# print(tf.__version__)\n",
    "tf.test.is_gpu_available()"
   ],
   "id": "e9057abda0c345da",
   "outputs": [
    {
     "name": "stderr",
     "output_type": "stream",
     "text": [
      "2024-08-11 04:40:04.552972: I tensorflow/core/util/port.cc:153] oneDNN custom operations are on. You may see slightly different numerical results due to floating-point round-off errors from different computation orders. To turn them off, set the environment variable `TF_ENABLE_ONEDNN_OPTS=0`.\n",
      "2024-08-11 04:40:04.553685: I external/local_xla/xla/tsl/cuda/cudart_stub.cc:32] Could not find cuda drivers on your machine, GPU will not be used.\n",
      "2024-08-11 04:40:04.556360: I external/local_xla/xla/tsl/cuda/cudart_stub.cc:32] Could not find cuda drivers on your machine, GPU will not be used.\n",
      "2024-08-11 04:40:04.562856: E external/local_xla/xla/stream_executor/cuda/cuda_fft.cc:485] Unable to register cuFFT factory: Attempting to register factory for plugin cuFFT when one has already been registered\n",
      "2024-08-11 04:40:04.573682: E external/local_xla/xla/stream_executor/cuda/cuda_dnn.cc:8454] Unable to register cuDNN factory: Attempting to register factory for plugin cuDNN when one has already been registered\n",
      "2024-08-11 04:40:04.576533: E external/local_xla/xla/stream_executor/cuda/cuda_blas.cc:1452] Unable to register cuBLAS factory: Attempting to register factory for plugin cuBLAS when one has already been registered\n",
      "2024-08-11 04:40:04.584722: I tensorflow/core/platform/cpu_feature_guard.cc:210] This TensorFlow binary is optimized to use available CPU instructions in performance-critical operations.\n",
      "To enable the following instructions: AVX2 AVX512F AVX512_VNNI FMA, in other operations, rebuild TensorFlow with the appropriate compiler flags.\n",
      "2024-08-11 04:40:05.198247: W tensorflow/compiler/tf2tensorrt/utils/py_utils.cc:38] TF-TRT Warning: Could not find TensorRT\n"
     ]
    },
    {
     "name": "stdout",
     "output_type": "stream",
     "text": [
      "WARNING:tensorflow:From /tmp/ipykernel_44362/3560664017.py:4: is_gpu_available (from tensorflow.python.framework.test_util) is deprecated and will be removed in a future version.\n",
      "Instructions for updating:\n",
      "Use `tf.config.list_physical_devices('GPU')` instead.\n"
     ]
    },
    {
     "name": "stderr",
     "output_type": "stream",
     "text": [
      "WARNING: All log messages before absl::InitializeLog() is called are written to STDERR\n",
      "I0000 00:00:1723376405.818158   44362 cuda_executor.cc:1001] could not open file to read NUMA node: /sys/bus/pci/devices/0000:01:00.0/numa_node\n",
      "Your kernel may have been built without NUMA support.\n",
      "2024-08-11 04:40:05.824280: W tensorflow/core/common_runtime/gpu/gpu_device.cc:2343] Cannot dlopen some GPU libraries. Please make sure the missing libraries mentioned above are installed properly if you would like to use GPU. Follow the guide at https://www.tensorflow.org/install/gpu for how to download and setup the required libraries for your platform.\n",
      "Skipping registering GPU devices...\n"
     ]
    },
    {
     "data": {
      "text/plain": [
       "False"
      ]
     },
     "execution_count": 1,
     "metadata": {},
     "output_type": "execute_result"
    }
   ],
   "execution_count": 1
  },
  {
   "metadata": {
    "ExecuteTime": {
     "end_time": "2024-08-10T09:50:00.126268Z",
     "start_time": "2024-08-10T09:50:00.113281Z"
    }
   },
   "cell_type": "code",
   "source": [
    "# def formating(X, Y):\n",
    "#     x_test = []\n",
    "#     y_test = []\n",
    "#     for x, y in zip(X, Y):\n",
    "#         x_test+=x[0].tolist()\n",
    "#         y_test+=y[0].tolist()\n",
    "#     return np.array(x_test), np.array(y_test)\n",
    "def formating(X, Y):\n",
    "    x_test = []\n",
    "    y_test = []\n",
    "    for x, y in zip(X, Y):\n",
    "        x_test+=x.tolist()\n",
    "        y_test+=y.tolist()\n",
    "    return np.array(x_test), np.array(y_test)"
   ],
   "id": "bce098d3ec0568d5",
   "outputs": [],
   "execution_count": 106
  },
  {
   "metadata": {
    "ExecuteTime": {
     "end_time": "2024-08-10T09:50:00.142268Z",
     "start_time": "2024-08-10T09:50:00.129270Z"
    }
   },
   "cell_type": "code",
   "source": [
    "files = glob.glob('CutFrame_Output/output*/use2.txt')\n",
    "data = [list_change(f) for f in files]"
   ],
   "id": "6c8250dc0da61856",
   "outputs": [],
   "execution_count": 107
  },
  {
   "metadata": {
    "ExecuteTime": {
     "end_time": "2024-08-10T09:50:00.189346Z",
     "start_time": "2024-08-10T09:50:00.145269Z"
    }
   },
   "cell_type": "code",
   "source": [
    "data=[]\n",
    "for _dir in glob.glob('CutFrame_Output/output*/'):\n",
    "    data.append([list_change(f) for f in glob.glob(_dir+'use*.txt')])\n",
    "data = np.array(data)"
   ],
   "id": "7a4461165a4aeb7e",
   "outputs": [],
   "execution_count": 108
  },
  {
   "metadata": {
    "ExecuteTime": {
     "end_time": "2024-08-10T09:50:00.204270Z",
     "start_time": "2024-08-10T09:50:00.191271Z"
    }
   },
   "cell_type": "code",
   "source": "len(data)",
   "id": "4cc58cc8d4db5d91",
   "outputs": [
    {
     "data": {
      "text/plain": [
       "24"
      ]
     },
     "execution_count": 109,
     "metadata": {},
     "output_type": "execute_result"
    }
   ],
   "execution_count": 109
  },
  {
   "metadata": {
    "ExecuteTime": {
     "end_time": "2024-08-10T09:50:00.220322Z",
     "start_time": "2024-08-10T09:50:00.205269Z"
    }
   },
   "cell_type": "code",
   "source": "data[0]",
   "id": "8fa4297456a5a0a1",
   "outputs": [
    {
     "data": {
      "text/plain": [
       "array([[[  25., -353.],\n",
       "        [  87., -388.],\n",
       "        [ 162., -464.]],\n",
       "\n",
       "       [[  -5., -352.],\n",
       "        [ -64., -345.],\n",
       "        [ 116., -441.]],\n",
       "\n",
       "       [[  23., -335.],\n",
       "        [ -46., -315.],\n",
       "        [  62., -425.]],\n",
       "\n",
       "       [[  19., -334.],\n",
       "        [ -27., -300.],\n",
       "        [  70., -409.]],\n",
       "\n",
       "       [[  -6., -326.],\n",
       "        [-102., -307.],\n",
       "        [ 113., -433.]],\n",
       "\n",
       "       [[ 114., -370.],\n",
       "        [ 172., -452.],\n",
       "        [ 170., -468.]],\n",
       "\n",
       "       [[ 114., -370.],\n",
       "        [ 172., -452.],\n",
       "        [ 170., -468.]]])"
      ]
     },
     "execution_count": 110,
     "metadata": {},
     "output_type": "execute_result"
    }
   ],
   "execution_count": 110
  },
  {
   "metadata": {
    "ExecuteTime": {
     "end_time": "2024-08-10T09:50:00.235277Z",
     "start_time": "2024-08-10T09:50:00.222268Z"
    }
   },
   "cell_type": "code",
   "source": [
    "# dataf = [pd.DataFrame(i,copy=True) for i in data]\n",
    "# dataf"
   ],
   "id": "2686e00ad07fbed5",
   "outputs": [],
   "execution_count": 111
  },
  {
   "metadata": {
    "ExecuteTime": {
     "end_time": "2024-08-10T09:50:00.251269Z",
     "start_time": "2024-08-10T09:50:00.236268Z"
    }
   },
   "cell_type": "code",
   "source": [
    "X = copy.deepcopy(data)\n",
    "Y = copy.deepcopy(data)\n",
    "X = np.delete(X, -1, axis=1)\n",
    "Y = np.delete(Y, 0, axis=1)"
   ],
   "id": "48a14b34f0bcce4e",
   "outputs": [],
   "execution_count": 112
  },
  {
   "metadata": {
    "ExecuteTime": {
     "end_time": "2024-08-10T09:50:00.267276Z",
     "start_time": "2024-08-10T09:50:00.252268Z"
    }
   },
   "cell_type": "code",
   "source": "Y.shape",
   "id": "e3797aa57d0a0ce4",
   "outputs": [
    {
     "data": {
      "text/plain": [
       "(24, 6, 3, 2)"
      ]
     },
     "execution_count": 113,
     "metadata": {},
     "output_type": "execute_result"
    }
   ],
   "execution_count": 113
  },
  {
   "metadata": {
    "ExecuteTime": {
     "end_time": "2024-08-10T09:50:00.282275Z",
     "start_time": "2024-08-10T09:50:00.269270Z"
    }
   },
   "cell_type": "code",
   "source": [
    "X, X_val, X_test, Y, Y_val, Y_test = split_dataset(X, Y)\n",
    "X_test, Y_test = formating(X_test, Y_test)"
   ],
   "id": "11665f27f2761c42",
   "outputs": [],
   "execution_count": 114
  },
  {
   "metadata": {
    "ExecuteTime": {
     "end_time": "2024-08-10T09:50:00.298268Z",
     "start_time": "2024-08-10T09:50:00.283268Z"
    }
   },
   "cell_type": "code",
   "source": "X_test.shape",
   "id": "fefab769524e0b16",
   "outputs": [
    {
     "data": {
      "text/plain": [
       "(30, 3, 2)"
      ]
     },
     "execution_count": 115,
     "metadata": {},
     "output_type": "execute_result"
    }
   ],
   "execution_count": 115
  },
  {
   "metadata": {
    "ExecuteTime": {
     "end_time": "2024-08-10T09:50:35.792438Z",
     "start_time": "2024-08-10T09:50:00.299268Z"
    }
   },
   "cell_type": "code",
   "source": [
    "l=[]\n",
    "l0=[]\n",
    "model = Sequential()\n",
    "model.add(LSTM(50, activation='relu', return_sequences=True, input_shape=(X.shape[2], X.shape[3])))\n",
    "model.add(Dense(2))\n",
    "model.compile(optimizer='adam', loss='mse')\n",
    "# history = model.fit(X, Y, epochs=100, batch_size=72, validation_data=(X, Y), verbose=1, shuffle=False)\n",
    "for epoch in range(200):\n",
    "    for x, y in zip(X, Y):\n",
    "        loss = model.train_on_batch(x, y)\n",
    "        l.append(loss)\n",
    "    l0.append(model.evaluate(X_test, Y_test))"
   ],
   "id": "ebf95cc71b8aa522",
   "outputs": [
    {
     "name": "stdout",
     "output_type": "stream",
     "text": [
      "1/1 [==============================] - 0s 139ms/step - loss: 64075.2500\n",
      "1/1 [==============================] - 0s 15ms/step - loss: 47491.4297\n",
      "1/1 [==============================] - 0s 19ms/step - loss: 21449.4727\n",
      "1/1 [==============================] - 0s 17ms/step - loss: 16504.9688\n",
      "1/1 [==============================] - 0s 17ms/step - loss: 14645.8916\n",
      "1/1 [==============================] - 0s 15ms/step - loss: 12826.4502\n",
      "1/1 [==============================] - 0s 15ms/step - loss: 11397.0273\n",
      "1/1 [==============================] - 0s 17ms/step - loss: 9533.7148\n",
      "1/1 [==============================] - 0s 15ms/step - loss: 8378.2881\n",
      "1/1 [==============================] - 0s 15ms/step - loss: 7501.7764\n",
      "1/1 [==============================] - 0s 18ms/step - loss: 6741.5391\n",
      "1/1 [==============================] - 0s 16ms/step - loss: 5976.9561\n",
      "1/1 [==============================] - 0s 15ms/step - loss: 5053.2012\n",
      "1/1 [==============================] - 0s 17ms/step - loss: 4629.2808\n",
      "1/1 [==============================] - 0s 16ms/step - loss: 5245.5269\n",
      "1/1 [==============================] - 0s 15ms/step - loss: 4297.0728\n",
      "1/1 [==============================] - 0s 15ms/step - loss: 4151.2256\n",
      "1/1 [==============================] - 0s 15ms/step - loss: 3906.4780\n",
      "1/1 [==============================] - 0s 17ms/step - loss: 3642.4241\n",
      "1/1 [==============================] - 0s 16ms/step - loss: 3547.4021\n",
      "1/1 [==============================] - 0s 17ms/step - loss: 3715.3213\n",
      "1/1 [==============================] - 0s 15ms/step - loss: 3632.4053\n",
      "1/1 [==============================] - 0s 15ms/step - loss: 3623.5959\n",
      "1/1 [==============================] - 0s 15ms/step - loss: 3480.8569\n",
      "1/1 [==============================] - 0s 15ms/step - loss: 3656.4927\n",
      "1/1 [==============================] - 0s 15ms/step - loss: 3652.3159\n",
      "1/1 [==============================] - 0s 15ms/step - loss: 3655.3694\n",
      "1/1 [==============================] - 0s 15ms/step - loss: 3712.6677\n",
      "1/1 [==============================] - 0s 14ms/step - loss: 3599.0447\n",
      "1/1 [==============================] - 0s 14ms/step - loss: 3575.1663\n",
      "1/1 [==============================] - 0s 15ms/step - loss: 3509.4390\n",
      "1/1 [==============================] - 0s 17ms/step - loss: 3638.5549\n",
      "1/1 [==============================] - 0s 15ms/step - loss: 3616.1177\n",
      "1/1 [==============================] - 0s 15ms/step - loss: 3730.5264\n",
      "1/1 [==============================] - 0s 15ms/step - loss: 3668.2268\n",
      "1/1 [==============================] - 0s 16ms/step - loss: 3705.1809\n",
      "1/1 [==============================] - 0s 17ms/step - loss: 3659.6990\n",
      "1/1 [==============================] - 0s 19ms/step - loss: 3568.8594\n",
      "1/1 [==============================] - 0s 16ms/step - loss: 3605.4468\n",
      "1/1 [==============================] - 0s 16ms/step - loss: 3754.5947\n",
      "1/1 [==============================] - 0s 15ms/step - loss: 3741.4456\n",
      "1/1 [==============================] - 0s 14ms/step - loss: 3669.0208\n",
      "1/1 [==============================] - 0s 14ms/step - loss: 3653.5247\n",
      "1/1 [==============================] - 0s 17ms/step - loss: 3593.5239\n",
      "1/1 [==============================] - 0s 15ms/step - loss: 3634.0952\n",
      "1/1 [==============================] - 0s 14ms/step - loss: 3624.0693\n",
      "1/1 [==============================] - 0s 16ms/step - loss: 3644.5344\n",
      "1/1 [==============================] - 0s 15ms/step - loss: 3541.9045\n",
      "1/1 [==============================] - 0s 16ms/step - loss: 3579.3123\n",
      "1/1 [==============================] - 0s 15ms/step - loss: 3521.9744\n",
      "1/1 [==============================] - 0s 15ms/step - loss: 3554.5093\n",
      "1/1 [==============================] - 0s 15ms/step - loss: 3741.6721\n",
      "1/1 [==============================] - 0s 15ms/step - loss: 3594.3049\n",
      "1/1 [==============================] - 0s 15ms/step - loss: 3588.8035\n",
      "1/1 [==============================] - 0s 16ms/step - loss: 3738.9919\n",
      "1/1 [==============================] - 0s 15ms/step - loss: 3553.4097\n",
      "1/1 [==============================] - 0s 15ms/step - loss: 3523.1631\n",
      "1/1 [==============================] - 0s 15ms/step - loss: 3466.8525\n",
      "1/1 [==============================] - 0s 15ms/step - loss: 3573.1560\n",
      "1/1 [==============================] - 0s 16ms/step - loss: 3713.4919\n",
      "1/1 [==============================] - 0s 15ms/step - loss: 3594.1663\n",
      "1/1 [==============================] - 0s 15ms/step - loss: 3625.7810\n",
      "1/1 [==============================] - 0s 16ms/step - loss: 3462.8003\n",
      "1/1 [==============================] - 0s 16ms/step - loss: 3488.0754\n",
      "1/1 [==============================] - 0s 15ms/step - loss: 3359.1638\n",
      "1/1 [==============================] - 0s 15ms/step - loss: 3494.9661\n",
      "1/1 [==============================] - 0s 17ms/step - loss: 3508.4727\n",
      "1/1 [==============================] - 0s 17ms/step - loss: 3559.8921\n",
      "1/1 [==============================] - 0s 15ms/step - loss: 3539.7500\n",
      "1/1 [==============================] - 0s 16ms/step - loss: 3827.3181\n",
      "1/1 [==============================] - 0s 15ms/step - loss: 3605.1956\n",
      "1/1 [==============================] - 0s 16ms/step - loss: 3261.3003\n",
      "1/1 [==============================] - 0s 15ms/step - loss: 3246.1619\n",
      "1/1 [==============================] - 0s 16ms/step - loss: 3133.7761\n",
      "1/1 [==============================] - 0s 17ms/step - loss: 3974.7195\n",
      "1/1 [==============================] - 0s 14ms/step - loss: 3373.8550\n",
      "1/1 [==============================] - 0s 15ms/step - loss: 3275.2673\n",
      "1/1 [==============================] - 0s 14ms/step - loss: 3214.1433\n",
      "1/1 [==============================] - 0s 14ms/step - loss: 3184.4739\n",
      "1/1 [==============================] - 0s 15ms/step - loss: 3101.8428\n",
      "1/1 [==============================] - 0s 15ms/step - loss: 3242.1760\n",
      "1/1 [==============================] - 0s 16ms/step - loss: 3211.1382\n",
      "1/1 [==============================] - 0s 16ms/step - loss: 3368.7805\n",
      "1/1 [==============================] - 0s 15ms/step - loss: 3580.8459\n",
      "1/1 [==============================] - 0s 15ms/step - loss: 4796.1411\n",
      "1/1 [==============================] - 0s 15ms/step - loss: 4996.4424\n",
      "1/1 [==============================] - 0s 15ms/step - loss: 5189.4067\n",
      "1/1 [==============================] - 0s 16ms/step - loss: 6409.9771\n",
      "1/1 [==============================] - 0s 16ms/step - loss: 3110.7712\n",
      "1/1 [==============================] - 0s 16ms/step - loss: 5705.7988\n",
      "1/1 [==============================] - 0s 15ms/step - loss: 3120.0244\n",
      "1/1 [==============================] - 0s 15ms/step - loss: 3395.4607\n",
      "1/1 [==============================] - 0s 15ms/step - loss: 3168.5291\n",
      "1/1 [==============================] - 0s 16ms/step - loss: 3898.2810\n",
      "1/1 [==============================] - 0s 15ms/step - loss: 3240.1018\n",
      "1/1 [==============================] - 0s 18ms/step - loss: 4081.6428\n",
      "1/1 [==============================] - 0s 15ms/step - loss: 3415.6548\n",
      "1/1 [==============================] - 0s 15ms/step - loss: 4708.5210\n",
      "1/1 [==============================] - 0s 14ms/step - loss: 4044.7935\n",
      "1/1 [==============================] - 0s 17ms/step - loss: 3383.0713\n",
      "1/1 [==============================] - 0s 14ms/step - loss: 5314.1699\n",
      "1/1 [==============================] - 0s 15ms/step - loss: 3460.3098\n",
      "1/1 [==============================] - 0s 15ms/step - loss: 3526.1836\n",
      "1/1 [==============================] - 0s 17ms/step - loss: 3146.9006\n",
      "1/1 [==============================] - 0s 15ms/step - loss: 3190.2678\n",
      "1/1 [==============================] - 0s 15ms/step - loss: 3304.1265\n",
      "1/1 [==============================] - 0s 15ms/step - loss: 3412.9006\n",
      "1/1 [==============================] - 0s 15ms/step - loss: 3468.5083\n",
      "1/1 [==============================] - 0s 15ms/step - loss: 3423.1667\n",
      "1/1 [==============================] - 0s 16ms/step - loss: 3464.9573\n",
      "1/1 [==============================] - 0s 16ms/step - loss: 3352.5247\n",
      "1/1 [==============================] - 0s 14ms/step - loss: 3443.1853\n",
      "1/1 [==============================] - 0s 15ms/step - loss: 3412.4282\n",
      "1/1 [==============================] - 0s 15ms/step - loss: 3480.0732\n",
      "1/1 [==============================] - 0s 15ms/step - loss: 3418.6021\n",
      "1/1 [==============================] - 0s 15ms/step - loss: 3441.2029\n",
      "1/1 [==============================] - 0s 15ms/step - loss: 3379.0466\n",
      "1/1 [==============================] - 0s 15ms/step - loss: 3420.3333\n",
      "1/1 [==============================] - 0s 15ms/step - loss: 3456.7954\n",
      "1/1 [==============================] - 0s 15ms/step - loss: 3380.5183\n",
      "1/1 [==============================] - 0s 16ms/step - loss: 3362.7407\n",
      "1/1 [==============================] - 0s 15ms/step - loss: 3379.0354\n",
      "1/1 [==============================] - 0s 16ms/step - loss: 3374.6042\n",
      "1/1 [==============================] - 0s 15ms/step - loss: 3380.6128\n",
      "1/1 [==============================] - 0s 17ms/step - loss: 3431.4771\n",
      "1/1 [==============================] - 0s 16ms/step - loss: 3395.4343\n",
      "1/1 [==============================] - 0s 14ms/step - loss: 3399.8914\n",
      "1/1 [==============================] - 0s 15ms/step - loss: 3387.9448\n",
      "1/1 [==============================] - 0s 16ms/step - loss: 3383.9431\n",
      "1/1 [==============================] - 0s 15ms/step - loss: 3691.2261\n",
      "1/1 [==============================] - 0s 15ms/step - loss: 3698.0159\n",
      "1/1 [==============================] - 0s 16ms/step - loss: 3707.8594\n",
      "1/1 [==============================] - 0s 16ms/step - loss: 3559.3149\n",
      "1/1 [==============================] - 0s 16ms/step - loss: 3593.6116\n",
      "1/1 [==============================] - 0s 15ms/step - loss: 3616.2720\n",
      "1/1 [==============================] - 0s 15ms/step - loss: 3612.5007\n",
      "1/1 [==============================] - 0s 16ms/step - loss: 3633.1948\n",
      "1/1 [==============================] - 0s 16ms/step - loss: 3653.3494\n",
      "1/1 [==============================] - 0s 15ms/step - loss: 3645.6760\n",
      "1/1 [==============================] - 0s 15ms/step - loss: 3635.2913\n",
      "1/1 [==============================] - 0s 16ms/step - loss: 3652.8904\n",
      "1/1 [==============================] - 0s 16ms/step - loss: 3639.3862\n",
      "1/1 [==============================] - 0s 16ms/step - loss: 3643.4780\n",
      "1/1 [==============================] - 0s 16ms/step - loss: 3614.5417\n",
      "1/1 [==============================] - 0s 16ms/step - loss: 3636.0239\n",
      "1/1 [==============================] - 0s 16ms/step - loss: 3637.2712\n",
      "1/1 [==============================] - 0s 16ms/step - loss: 3669.8694\n",
      "1/1 [==============================] - 0s 15ms/step - loss: 3693.3416\n",
      "1/1 [==============================] - 0s 15ms/step - loss: 3705.1194\n",
      "1/1 [==============================] - 0s 15ms/step - loss: 3689.8420\n",
      "1/1 [==============================] - 0s 16ms/step - loss: 3700.3271\n",
      "1/1 [==============================] - 0s 14ms/step - loss: 3685.1150\n",
      "1/1 [==============================] - 0s 15ms/step - loss: 3673.4753\n",
      "1/1 [==============================] - 0s 16ms/step - loss: 3665.4336\n",
      "1/1 [==============================] - 0s 15ms/step - loss: 3676.6809\n",
      "1/1 [==============================] - 0s 15ms/step - loss: 3690.2065\n",
      "1/1 [==============================] - 0s 15ms/step - loss: 3708.1470\n",
      "1/1 [==============================] - 0s 15ms/step - loss: 3711.6162\n",
      "1/1 [==============================] - 0s 16ms/step - loss: 3769.7756\n",
      "1/1 [==============================] - 0s 15ms/step - loss: 3801.7632\n",
      "1/1 [==============================] - 0s 17ms/step - loss: 3674.5256\n",
      "1/1 [==============================] - 0s 16ms/step - loss: 3657.1931\n",
      "1/1 [==============================] - 0s 14ms/step - loss: 3723.8125\n",
      "1/1 [==============================] - 0s 15ms/step - loss: 3637.0759\n",
      "1/1 [==============================] - 0s 14ms/step - loss: 3604.8813\n",
      "1/1 [==============================] - 0s 14ms/step - loss: 3557.2048\n",
      "1/1 [==============================] - 0s 16ms/step - loss: 3557.4834\n",
      "1/1 [==============================] - 0s 14ms/step - loss: 3525.1931\n",
      "1/1 [==============================] - 0s 15ms/step - loss: 3722.8750\n",
      "1/1 [==============================] - 0s 15ms/step - loss: 3741.4163\n",
      "1/1 [==============================] - 0s 15ms/step - loss: 3761.5107\n",
      "1/1 [==============================] - 0s 14ms/step - loss: 3796.0220\n",
      "1/1 [==============================] - 0s 15ms/step - loss: 3811.9126\n",
      "1/1 [==============================] - 0s 14ms/step - loss: 3826.6663\n",
      "1/1 [==============================] - 0s 15ms/step - loss: 3819.5413\n",
      "1/1 [==============================] - 0s 15ms/step - loss: 3835.6868\n",
      "1/1 [==============================] - 0s 18ms/step - loss: 3829.2000\n",
      "1/1 [==============================] - 0s 15ms/step - loss: 3776.4648\n",
      "1/1 [==============================] - 0s 16ms/step - loss: 3783.7361\n",
      "1/1 [==============================] - 0s 15ms/step - loss: 3751.8315\n",
      "1/1 [==============================] - 0s 16ms/step - loss: 3786.9895\n",
      "1/1 [==============================] - 0s 15ms/step - loss: 3693.8242\n",
      "1/1 [==============================] - 0s 21ms/step - loss: 3761.6975\n",
      "1/1 [==============================] - 0s 16ms/step - loss: 3783.5090\n",
      "1/1 [==============================] - 0s 15ms/step - loss: 3855.4348\n",
      "1/1 [==============================] - 0s 16ms/step - loss: 3805.4712\n",
      "1/1 [==============================] - 0s 16ms/step - loss: 3906.4336\n",
      "1/1 [==============================] - 0s 16ms/step - loss: 3813.9504\n",
      "1/1 [==============================] - 0s 15ms/step - loss: 3836.1316\n",
      "1/1 [==============================] - 0s 15ms/step - loss: 3868.6877\n",
      "1/1 [==============================] - 0s 17ms/step - loss: 3789.6499\n",
      "1/1 [==============================] - 0s 16ms/step - loss: 3943.2896\n",
      "1/1 [==============================] - 0s 15ms/step - loss: 3868.1570\n",
      "1/1 [==============================] - 0s 15ms/step - loss: 3880.4546\n",
      "1/1 [==============================] - 0s 16ms/step - loss: 3865.1646\n",
      "1/1 [==============================] - 0s 16ms/step - loss: 3940.3062\n",
      "1/1 [==============================] - 0s 16ms/step - loss: 3850.7979\n",
      "1/1 [==============================] - 0s 16ms/step - loss: 3625.3320\n",
      "1/1 [==============================] - 0s 15ms/step - loss: 3840.8789\n",
      "1/1 [==============================] - 0s 15ms/step - loss: 4191.2007\n"
     ]
    }
   ],
   "execution_count": 116
  },
  {
   "metadata": {
    "ExecuteTime": {
     "end_time": "2024-08-10T09:50:35.929435Z",
     "start_time": "2024-08-10T09:50:35.793427Z"
    }
   },
   "cell_type": "code",
   "source": [
    "plt.plot(l)\n",
    "plt.plot(l0)\n",
    "plt.show()"
   ],
   "id": "c8ec153d414107ba",
   "outputs": [
    {
     "data": {
      "text/plain": [
       "<Figure size 640x480 with 1 Axes>"
      ],
      "image/png": "[encoded data removed]"
     },
     "metadata": {},
     "output_type": "display_data"
    }
   ],
   "execution_count": 117
  },
  {
   "metadata": {
    "ExecuteTime": {
     "end_time": "2024-08-10T09:50:36.052435Z",
     "start_time": "2024-08-10T09:50:35.931428Z"
    }
   },
   "cell_type": "code",
   "source": "plt.plot(l0)",
   "id": "384bd6e228563e24",
   "outputs": [
    {
     "data": {
      "text/plain": [
       "[<matplotlib.lines.Line2D at 0x1806f1695e0>]"
      ]
     },
     "execution_count": 118,
     "metadata": {},
     "output_type": "execute_result"
    },
    {
     "data": {
      "text/plain": [
       "<Figure size 640x480 with 1 Axes>"
      ],
      "image/png": "[encoded data removed]"
     },
     "metadata": {},
     "output_type": "display_data"
    }
   ],
   "execution_count": 118
  },
  {
   "metadata": {
    "ExecuteTime": {
     "end_time": "2024-08-10T09:50:53.192752Z",
     "start_time": "2024-08-10T09:50:53.174928Z"
    }
   },
   "cell_type": "code",
   "source": "min(l0)",
   "id": "fca41b35f19cd3e4",
   "outputs": [
    {
     "data": {
      "text/plain": [
       "3101.8427734375"
      ]
     },
     "execution_count": 121,
     "metadata": {},
     "output_type": "execute_result"
    }
   ],
   "execution_count": 121
  },
  {
   "metadata": {
    "ExecuteTime": {
     "end_time": "2024-08-10T09:50:36.068434Z",
     "start_time": "2024-08-10T09:50:36.053428Z"
    }
   },
   "cell_type": "code",
   "source": [
    "\n",
    "# model.evaluate(x,y)"
   ],
   "id": "33feb82b5a1b1101",
   "outputs": [],
   "execution_count": 119
  },
  {
   "metadata": {
    "ExecuteTime": {
     "end_time": "2024-08-10T09:50:36.083436Z",
     "start_time": "2024-08-10T09:50:36.069428Z"
    }
   },
   "cell_type": "code",
   "source": [
    "# model = Sequential()\n",
    "# model.add(LSTM(50, activation='relu', return_sequences=True, input_shape=(data.shape()[1], data.shape[2])))"
   ],
   "id": "52896010a14aa12f",
   "outputs": [],
   "execution_count": 120
  }
 ],
 "metadata": {
  "kernelspec": {
   "display_name": "Python 3",
   "language": "python",
   "name": "python3"
  },
  "language_info": {
   "codemirror_mode": {
    "name": "ipython",
    "version": 2
   },
   "file_extension": ".py",
   "mimetype": "text/x-python",
   "name": "python",
   "nbconvert_exporter": "python",
   "pygments_lexer": "ipython2",
   "version": "2.7.6"
  }
 },
 "nbformat": 4,
 "nbformat_minor": 5
}
