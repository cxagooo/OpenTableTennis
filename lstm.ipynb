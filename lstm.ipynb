{
 "cells": [
  {
   "cell_type": "code",
   "id": "initial_id",
   "metadata": {
    "collapsed": true,
    "ExecuteTime": {
     "end_time": "2024-08-14T07:34:42.128523Z",
     "start_time": "2024-08-14T07:34:42.125299Z"
    }
   },
   "source": [
    "from utils import list_change\n",
    "import pandas as pd\n",
    "import numpy as np\n",
    "import glob\n",
    "from keras import Sequential\n",
    "from keras.layers import LSTM, Dense\n",
    "import copy\n",
    "import matplotlib.pyplot as plt\n",
    "from utils import split_dataset, restore_changes\n",
    "import os\n",
    "import tensorflow as tf\n",
    "import cv2"
   ],
   "outputs": [],
   "execution_count": 73
  },
  {
   "metadata": {
    "ExecuteTime": {
     "end_time": "2024-08-14T07:34:42.148419Z",
     "start_time": "2024-08-14T07:34:42.144316Z"
    }
   },
   "cell_type": "code",
   "source": [
    "import tensorflow as tf\n",
    "tf.config.list_physical_devices('GPU')\n",
    "# print(tf.__version__)\n",
    "# tf.test.is_gpu_available()"
   ],
   "id": "e9057abda0c345da",
   "outputs": [
    {
     "data": {
      "text/plain": [
       "[PhysicalDevice(name='/physical_device:GPU:0', device_type='GPU')]"
      ]
     },
     "execution_count": 74,
     "metadata": {},
     "output_type": "execute_result"
    }
   ],
   "execution_count": 74
  },
  {
   "metadata": {
    "ExecuteTime": {
     "end_time": "2024-08-14T07:34:42.157754Z",
     "start_time": "2024-08-14T07:34:42.149562Z"
    }
   },
   "cell_type": "code",
   "source": [
    "# def formating(X, Y):\n",
    "#     x_test = []\n",
    "#     y_test = []\n",
    "#     for x, y in zip(X, Y):\n",
    "#         x_test+=x[0].tolist()\n",
    "#         y_test+=y[0].tolist()\n",
    "#     return np.array(x_test), np.array(y_test)\n",
    "def formating(X, Y):\n",
    "    x_test = []\n",
    "    y_test = []\n",
    "    for x, y in zip(X, Y):\n",
    "        x_test+=x.tolist()\n",
    "        y_test+=y.tolist()\n",
    "    return np.array(x_test), np.array(y_test)"
   ],
   "id": "bce098d3ec0568d5",
   "outputs": [],
   "execution_count": 75
  },
  {
   "metadata": {
    "ExecuteTime": {
     "end_time": "2024-08-14T07:34:42.357257Z",
     "start_time": "2024-08-14T07:34:42.191600Z"
    }
   },
   "cell_type": "code",
   "source": [
    "files = glob.glob('CutFrame_Output/output*/use2.txt')\n",
    "data = [list_change(f) for f in files]"
   ],
   "id": "6c8250dc0da61856",
   "outputs": [],
   "execution_count": 76
  },
  {
   "metadata": {
    "ExecuteTime": {
     "end_time": "2024-08-14T07:34:43.124849Z",
     "start_time": "2024-08-14T07:34:42.358663Z"
    }
   },
   "cell_type": "code",
   "source": [
    "data=[]\n",
    "for _dir in glob.glob('CutFrame_Output/output*/'):\n",
    "    data.append([list_change(f) for f in glob.glob(_dir+'use*.txt')])\n",
    "data = np.array(data)"
   ],
   "id": "7a4461165a4aeb7e",
   "outputs": [],
   "execution_count": 77
  },
  {
   "metadata": {
    "ExecuteTime": {
     "end_time": "2024-08-14T07:34:43.130054Z",
     "start_time": "2024-08-14T07:34:43.126125Z"
    }
   },
   "cell_type": "code",
   "source": "len(data)",
   "id": "4cc58cc8d4db5d91",
   "outputs": [
    {
     "data": {
      "text/plain": [
       "55"
      ]
     },
     "execution_count": 78,
     "metadata": {},
     "output_type": "execute_result"
    }
   ],
   "execution_count": 78
  },
  {
   "metadata": {
    "ExecuteTime": {
     "end_time": "2024-08-14T07:34:43.139799Z",
     "start_time": "2024-08-14T07:34:43.131315Z"
    }
   },
   "cell_type": "code",
   "source": "data[0]",
   "id": "8fa4297456a5a0a1",
   "outputs": [
    {
     "data": {
      "text/plain": [
       "array([[[  66., -410.],\n",
       "        [ 141., -490.],\n",
       "        [ 167., -530.]],\n",
       "\n",
       "       [[  -1., -413.],\n",
       "        [  45., -472.],\n",
       "        [ 145., -526.]],\n",
       "\n",
       "       [[ -31., -199.],\n",
       "        [-219., -183.],\n",
       "        [  30., -317.]],\n",
       "\n",
       "       [[   3., -124.],\n",
       "        [   2.,  -99.],\n",
       "        [   7., -254.]],\n",
       "\n",
       "       [[  27., -261.],\n",
       "        [   5., -230.],\n",
       "        [   5., -399.]],\n",
       "\n",
       "       [[ -30., -383.],\n",
       "        [ -83., -409.],\n",
       "        [  83., -502.]],\n",
       "\n",
       "       [[  59., -415.],\n",
       "        [ 123., -508.],\n",
       "        [ 131., -534.]]])"
      ]
     },
     "execution_count": 79,
     "metadata": {},
     "output_type": "execute_result"
    }
   ],
   "execution_count": 79
  },
  {
   "metadata": {
    "ExecuteTime": {
     "end_time": "2024-08-14T07:34:43.148836Z",
     "start_time": "2024-08-14T07:34:43.140704Z"
    }
   },
   "cell_type": "code",
   "source": [
    "# dataf = [pd.DataFrame(i,copy=True) for i in data]\n",
    "# dataf"
   ],
   "id": "2686e00ad07fbed5",
   "outputs": [],
   "execution_count": 80
  },
  {
   "metadata": {
    "ExecuteTime": {
     "end_time": "2024-08-14T07:34:43.162662Z",
     "start_time": "2024-08-14T07:34:43.149702Z"
    }
   },
   "cell_type": "code",
   "source": [
    "X = copy.deepcopy(data)\n",
    "Y = copy.deepcopy(data)\n",
    "X = np.delete(X, -1, axis=1)\n",
    "Y = np.delete(Y, 0, axis=1)"
   ],
   "id": "48a14b34f0bcce4e",
   "outputs": [],
   "execution_count": 81
  },
  {
   "metadata": {
    "ExecuteTime": {
     "end_time": "2024-08-14T07:34:43.175156Z",
     "start_time": "2024-08-14T07:34:43.163651Z"
    }
   },
   "cell_type": "code",
   "source": "Y.shape",
   "id": "e3797aa57d0a0ce4",
   "outputs": [
    {
     "data": {
      "text/plain": [
       "(55, 6, 3, 2)"
      ]
     },
     "execution_count": 82,
     "metadata": {},
     "output_type": "execute_result"
    }
   ],
   "execution_count": 82
  },
  {
   "metadata": {
    "ExecuteTime": {
     "end_time": "2024-08-14T07:34:43.184840Z",
     "start_time": "2024-08-14T07:34:43.176781Z"
    }
   },
   "cell_type": "code",
   "source": [
    "X, X_val, X_test, Y, Y_val, Y_test = split_dataset(X, Y)\n",
    "# X_test, Y_test = formating(X_test, Y_test)\n",
    "X_test=X_test[0]\n",
    "Y_test=Y_test[0]"
   ],
   "id": "11665f27f2761c42",
   "outputs": [],
   "execution_count": 83
  },
  {
   "metadata": {
    "ExecuteTime": {
     "end_time": "2024-08-14T07:34:43.194834Z",
     "start_time": "2024-08-14T07:34:43.185748Z"
    }
   },
   "cell_type": "code",
   "source": "X_test.shape",
   "id": "fefab769524e0b16",
   "outputs": [
    {
     "data": {
      "text/plain": [
       "(6, 3, 2)"
      ]
     },
     "execution_count": 84,
     "metadata": {},
     "output_type": "execute_result"
    }
   ],
   "execution_count": 84
  },
  {
   "metadata": {
    "ExecuteTime": {
     "end_time": "2024-08-14T07:36:47.611751Z",
     "start_time": "2024-08-14T07:34:43.196482Z"
    }
   },
   "cell_type": "code",
   "source": [
    "l=[]\n",
    "l0=[]\n",
    "model = Sequential()\n",
    "model.add(LSTM(50, activation='relu', return_sequences=True, input_shape=(X.shape[2], X.shape[3])))\n",
    "model.add(Dense(2))\n",
    "model.compile(optimizer='adam', loss='mse')\n",
    "# history = model.fit(X, Y, epochs=100, batch_size=72, validation_data=(X, Y), verbose=1, shuffle=False)\n",
    "minimum_loss = float('inf')\n",
    "for epoch in range(200):\n",
    "    for x, y in zip(X, Y):\n",
    "        loss = model.train_on_batch(x, y)\n",
    "        l.append(loss)\n",
    "    l0.append(model.evaluate(X_test, Y_test))\n",
    "    if l0[-1] < minimum_loss:\n",
    "            minimum_loss = l0[-1]\n",
    "            model.save('best.h5')"
   ],
   "id": "ebf95cc71b8aa522",
   "outputs": [
    {
     "name": "stdout",
     "output_type": "stream",
     "text": [
      "WARNING:tensorflow:Layer lstm_3 will not use cuDNN kernels since it doesn't meet the criteria. It will use a generic GPU kernel as fallback when running on GPU.\n",
      "1/1 [==============================] - 0s 120ms/step - loss: 37433.8320\n",
      "1/1 [==============================] - 0s 19ms/step - loss: 18508.1172\n",
      "1/1 [==============================] - 0s 21ms/step - loss: 13850.4951\n",
      "1/1 [==============================] - 0s 28ms/step - loss: 10704.2393\n",
      "1/1 [==============================] - 0s 24ms/step - loss: 10519.0566\n",
      "1/1 [==============================] - 0s 22ms/step - loss: 8735.7510\n",
      "1/1 [==============================] - 0s 22ms/step - loss: 7001.5098\n",
      "1/1 [==============================] - 0s 23ms/step - loss: 6053.9194\n",
      "1/1 [==============================] - 0s 20ms/step - loss: 5443.5522\n",
      "1/1 [==============================] - 0s 24ms/step - loss: 5340.0225\n",
      "1/1 [==============================] - 0s 25ms/step - loss: 5296.0117\n",
      "1/1 [==============================] - 0s 19ms/step - loss: 4965.5010\n",
      "1/1 [==============================] - 0s 22ms/step - loss: 5248.5449\n",
      "1/1 [==============================] - 0s 19ms/step - loss: 5296.2207\n",
      "1/1 [==============================] - 0s 19ms/step - loss: 5202.1338\n",
      "1/1 [==============================] - 0s 24ms/step - loss: 5105.5137\n",
      "1/1 [==============================] - 0s 24ms/step - loss: 5156.4106\n",
      "1/1 [==============================] - 0s 21ms/step - loss: 4931.1851\n",
      "1/1 [==============================] - 0s 21ms/step - loss: 5266.1465\n",
      "1/1 [==============================] - 0s 20ms/step - loss: 5306.8130\n",
      "1/1 [==============================] - 0s 20ms/step - loss: 5313.6978\n",
      "1/1 [==============================] - 0s 18ms/step - loss: 4995.7236\n",
      "1/1 [==============================] - 0s 22ms/step - loss: 4631.4829\n",
      "1/1 [==============================] - 0s 22ms/step - loss: 4945.1338\n",
      "1/1 [==============================] - 0s 23ms/step - loss: 4688.5728\n",
      "1/1 [==============================] - 0s 22ms/step - loss: 4750.9995\n",
      "1/1 [==============================] - 0s 21ms/step - loss: 4831.6201\n",
      "1/1 [==============================] - 0s 24ms/step - loss: 4785.7285\n",
      "1/1 [==============================] - 0s 24ms/step - loss: 4982.7012\n",
      "1/1 [==============================] - 0s 20ms/step - loss: 4877.6641\n",
      "1/1 [==============================] - 0s 22ms/step - loss: 4645.2793\n",
      "1/1 [==============================] - 0s 20ms/step - loss: 4250.7158\n",
      "1/1 [==============================] - 0s 21ms/step - loss: 4391.1191\n",
      "1/1 [==============================] - 0s 21ms/step - loss: 4419.8306\n",
      "1/1 [==============================] - 0s 19ms/step - loss: 4301.8623\n",
      "1/1 [==============================] - 0s 24ms/step - loss: 4534.7661\n",
      "1/1 [==============================] - 0s 20ms/step - loss: 4442.6279\n",
      "1/1 [==============================] - 0s 21ms/step - loss: 4761.0991\n",
      "1/1 [==============================] - 0s 20ms/step - loss: 4716.3892\n",
      "1/1 [==============================] - 0s 20ms/step - loss: 4382.1333\n",
      "1/1 [==============================] - 0s 18ms/step - loss: 4459.1665\n",
      "1/1 [==============================] - 0s 20ms/step - loss: 4170.9468\n",
      "1/1 [==============================] - 0s 22ms/step - loss: 4325.7847\n",
      "1/1 [==============================] - 0s 20ms/step - loss: 4200.3027\n",
      "1/1 [==============================] - 0s 23ms/step - loss: 4775.9668\n",
      "1/1 [==============================] - 0s 19ms/step - loss: 4099.1406\n",
      "1/1 [==============================] - 0s 21ms/step - loss: 4552.7349\n",
      "1/1 [==============================] - 0s 20ms/step - loss: 4321.3960\n",
      "1/1 [==============================] - 0s 23ms/step - loss: 4487.9878\n",
      "1/1 [==============================] - 0s 23ms/step - loss: 5064.2793\n",
      "1/1 [==============================] - 0s 20ms/step - loss: 5186.4053\n",
      "1/1 [==============================] - 0s 21ms/step - loss: 4699.0942\n",
      "1/1 [==============================] - 0s 21ms/step - loss: 4397.1348\n",
      "1/1 [==============================] - 0s 20ms/step - loss: 4055.1094\n",
      "1/1 [==============================] - 0s 22ms/step - loss: 4320.3457\n",
      "1/1 [==============================] - 0s 19ms/step - loss: 4216.2231\n",
      "1/1 [==============================] - 0s 20ms/step - loss: 4394.3115\n",
      "1/1 [==============================] - 0s 21ms/step - loss: 4189.1270\n",
      "1/1 [==============================] - 0s 19ms/step - loss: 4527.9238\n",
      "1/1 [==============================] - 0s 20ms/step - loss: 4042.6602\n",
      "1/1 [==============================] - 0s 20ms/step - loss: 4040.0781\n",
      "1/1 [==============================] - 0s 21ms/step - loss: 4551.5103\n",
      "1/1 [==============================] - 0s 21ms/step - loss: 4754.7539\n",
      "1/1 [==============================] - 0s 26ms/step - loss: 7249.9297\n",
      "1/1 [==============================] - 0s 22ms/step - loss: 4925.5752\n",
      "1/1 [==============================] - 0s 21ms/step - loss: 5054.0542\n",
      "1/1 [==============================] - 0s 21ms/step - loss: 4620.9741\n",
      "1/1 [==============================] - 0s 21ms/step - loss: 4207.7793\n",
      "1/1 [==============================] - 0s 23ms/step - loss: 4155.2095\n",
      "1/1 [==============================] - 0s 42ms/step - loss: 4181.0879\n",
      "1/1 [==============================] - 0s 23ms/step - loss: 4047.1914\n",
      "1/1 [==============================] - 0s 26ms/step - loss: 3859.7161\n",
      "1/1 [==============================] - 0s 22ms/step - loss: 4007.8643\n",
      "1/1 [==============================] - 0s 20ms/step - loss: 4499.3066\n",
      "1/1 [==============================] - 0s 21ms/step - loss: 3977.1970\n",
      "1/1 [==============================] - 0s 21ms/step - loss: 3832.0125\n",
      "1/1 [==============================] - 0s 21ms/step - loss: 4175.8667\n",
      "1/1 [==============================] - 0s 21ms/step - loss: 4485.2627\n",
      "1/1 [==============================] - 0s 23ms/step - loss: 3937.3406\n",
      "1/1 [==============================] - 0s 20ms/step - loss: 4045.8264\n",
      "1/1 [==============================] - 0s 21ms/step - loss: 3905.0378\n",
      "1/1 [==============================] - 0s 21ms/step - loss: 3880.2678\n",
      "1/1 [==============================] - 0s 22ms/step - loss: 3673.0195\n",
      "1/1 [==============================] - 0s 22ms/step - loss: 3667.8672\n",
      "1/1 [==============================] - 0s 22ms/step - loss: 3629.1973\n",
      "1/1 [==============================] - 0s 20ms/step - loss: 3666.5908\n",
      "1/1 [==============================] - 0s 19ms/step - loss: 3624.9988\n",
      "1/1 [==============================] - 0s 21ms/step - loss: 3692.5886\n",
      "1/1 [==============================] - 0s 21ms/step - loss: 3483.9617\n",
      "1/1 [==============================] - 0s 21ms/step - loss: 3686.8059\n",
      "1/1 [==============================] - 0s 21ms/step - loss: 3727.4226\n",
      "1/1 [==============================] - 0s 22ms/step - loss: 4170.4556\n",
      "1/1 [==============================] - 0s 23ms/step - loss: 3877.4014\n",
      "1/1 [==============================] - 0s 22ms/step - loss: 4480.1362\n",
      "1/1 [==============================] - 0s 21ms/step - loss: 3768.1055\n",
      "1/1 [==============================] - 0s 20ms/step - loss: 4050.2471\n",
      "1/1 [==============================] - 0s 26ms/step - loss: 3768.4709\n",
      "1/1 [==============================] - 0s 19ms/step - loss: 4108.1094\n",
      "1/1 [==============================] - 0s 22ms/step - loss: 4591.6699\n",
      "1/1 [==============================] - 0s 20ms/step - loss: 4028.9470\n",
      "1/1 [==============================] - 0s 22ms/step - loss: 4375.9238\n",
      "1/1 [==============================] - 0s 21ms/step - loss: 4305.5366\n",
      "1/1 [==============================] - 0s 25ms/step - loss: 4351.1738\n",
      "1/1 [==============================] - 0s 21ms/step - loss: 3901.6921\n",
      "1/1 [==============================] - 0s 25ms/step - loss: 5069.3442\n",
      "1/1 [==============================] - 0s 21ms/step - loss: 4296.5156\n",
      "1/1 [==============================] - 0s 22ms/step - loss: 4288.8521\n",
      "1/1 [==============================] - 0s 21ms/step - loss: 4303.3608\n",
      "1/1 [==============================] - 0s 23ms/step - loss: 4583.2144\n",
      "1/1 [==============================] - 0s 22ms/step - loss: 4692.8647\n",
      "1/1 [==============================] - 0s 22ms/step - loss: 4348.5947\n",
      "1/1 [==============================] - 0s 21ms/step - loss: 4126.3882\n",
      "1/1 [==============================] - 0s 20ms/step - loss: 4094.4202\n",
      "1/1 [==============================] - 0s 19ms/step - loss: 4009.8801\n",
      "1/1 [==============================] - 0s 24ms/step - loss: 3897.8142\n",
      "1/1 [==============================] - 0s 20ms/step - loss: 4048.6731\n",
      "1/1 [==============================] - 0s 23ms/step - loss: 3944.9229\n",
      "1/1 [==============================] - 0s 20ms/step - loss: 3859.2708\n",
      "1/1 [==============================] - 0s 20ms/step - loss: 3978.6707\n",
      "1/1 [==============================] - 0s 21ms/step - loss: 4497.8081\n",
      "1/1 [==============================] - 0s 21ms/step - loss: 5013.8042\n",
      "1/1 [==============================] - 0s 21ms/step - loss: 4384.6519\n",
      "1/1 [==============================] - 0s 20ms/step - loss: 4703.6890\n",
      "1/1 [==============================] - 0s 23ms/step - loss: 4737.2461\n",
      "1/1 [==============================] - 0s 21ms/step - loss: 4184.7661\n",
      "1/1 [==============================] - 0s 21ms/step - loss: 4609.4102\n",
      "1/1 [==============================] - 0s 21ms/step - loss: 4644.7329\n",
      "1/1 [==============================] - 0s 25ms/step - loss: 4585.5610\n",
      "1/1 [==============================] - 0s 22ms/step - loss: 4785.7227\n",
      "1/1 [==============================] - 0s 23ms/step - loss: 5058.9473\n",
      "1/1 [==============================] - 0s 21ms/step - loss: 5000.6392\n",
      "1/1 [==============================] - 0s 21ms/step - loss: 4402.9775\n",
      "1/1 [==============================] - 0s 21ms/step - loss: 4854.5693\n",
      "1/1 [==============================] - 0s 29ms/step - loss: 4429.1440\n",
      "1/1 [==============================] - 0s 21ms/step - loss: 4580.5898\n",
      "1/1 [==============================] - 0s 24ms/step - loss: 4964.0645\n",
      "1/1 [==============================] - 0s 19ms/step - loss: 4683.9360\n",
      "1/1 [==============================] - 0s 24ms/step - loss: 4333.2261\n",
      "1/1 [==============================] - 0s 24ms/step - loss: 4745.3701\n",
      "1/1 [==============================] - 0s 21ms/step - loss: 4489.0752\n",
      "1/1 [==============================] - 0s 21ms/step - loss: 4719.9399\n",
      "1/1 [==============================] - 0s 29ms/step - loss: 4892.2842\n",
      "1/1 [==============================] - 0s 24ms/step - loss: 4371.5259\n",
      "1/1 [==============================] - 0s 17ms/step - loss: 5147.5293\n",
      "1/1 [==============================] - 0s 27ms/step - loss: 4370.7407\n",
      "1/1 [==============================] - 0s 24ms/step - loss: 4061.6570\n",
      "1/1 [==============================] - 0s 22ms/step - loss: 4828.4600\n",
      "1/1 [==============================] - 0s 20ms/step - loss: 4759.0234\n",
      "1/1 [==============================] - 0s 21ms/step - loss: 4956.0859\n",
      "1/1 [==============================] - 0s 21ms/step - loss: 4665.9258\n",
      "1/1 [==============================] - 0s 23ms/step - loss: 4730.9390\n",
      "1/1 [==============================] - 0s 20ms/step - loss: 4802.3105\n",
      "1/1 [==============================] - 0s 29ms/step - loss: 5213.5225\n",
      "1/1 [==============================] - 0s 22ms/step - loss: 4499.6582\n",
      "1/1 [==============================] - 0s 19ms/step - loss: 4776.5830\n",
      "1/1 [==============================] - 0s 17ms/step - loss: 4578.6421\n",
      "1/1 [==============================] - 0s 20ms/step - loss: 4831.6885\n",
      "1/1 [==============================] - 0s 22ms/step - loss: 5008.5361\n",
      "1/1 [==============================] - 0s 22ms/step - loss: 4858.7007\n",
      "1/1 [==============================] - 0s 30ms/step - loss: 4472.0288\n",
      "1/1 [==============================] - 0s 21ms/step - loss: 4667.8071\n",
      "1/1 [==============================] - 0s 21ms/step - loss: 4626.7573\n",
      "1/1 [==============================] - 0s 20ms/step - loss: 4498.2363\n",
      "1/1 [==============================] - 0s 22ms/step - loss: 4600.8574\n",
      "1/1 [==============================] - 0s 20ms/step - loss: 4653.4521\n",
      "1/1 [==============================] - 0s 36ms/step - loss: 4281.5938\n",
      "1/1 [==============================] - 0s 22ms/step - loss: 3958.9827\n",
      "1/1 [==============================] - 0s 27ms/step - loss: 4535.5029\n",
      "1/1 [==============================] - 0s 21ms/step - loss: 4120.4551\n",
      "1/1 [==============================] - 0s 24ms/step - loss: 4366.2598\n",
      "1/1 [==============================] - 0s 21ms/step - loss: 4571.0000\n",
      "1/1 [==============================] - 0s 19ms/step - loss: 4564.5303\n",
      "1/1 [==============================] - 0s 21ms/step - loss: 4127.8486\n",
      "1/1 [==============================] - 0s 29ms/step - loss: 4427.2207\n",
      "1/1 [==============================] - 0s 22ms/step - loss: 4633.0034\n",
      "1/1 [==============================] - 0s 20ms/step - loss: 5471.0117\n",
      "1/1 [==============================] - 0s 23ms/step - loss: 5400.3169\n",
      "1/1 [==============================] - 0s 23ms/step - loss: 5437.0571\n",
      "1/1 [==============================] - 0s 23ms/step - loss: 5400.9478\n",
      "1/1 [==============================] - 0s 23ms/step - loss: 5361.6792\n",
      "1/1 [==============================] - 0s 20ms/step - loss: 5273.5083\n",
      "1/1 [==============================] - 0s 37ms/step - loss: 5171.6621\n",
      "1/1 [==============================] - 0s 22ms/step - loss: 5484.3608\n",
      "1/1 [==============================] - 0s 18ms/step - loss: 5246.7446\n",
      "1/1 [==============================] - 0s 23ms/step - loss: 5750.2051\n",
      "1/1 [==============================] - 0s 21ms/step - loss: 5313.0869\n",
      "1/1 [==============================] - 0s 24ms/step - loss: 5324.0547\n",
      "1/1 [==============================] - 0s 24ms/step - loss: 5448.9839\n",
      "1/1 [==============================] - 0s 19ms/step - loss: 5303.9570\n",
      "1/1 [==============================] - 0s 21ms/step - loss: 5146.0498\n",
      "1/1 [==============================] - 0s 28ms/step - loss: 5316.5410\n",
      "1/1 [==============================] - 0s 22ms/step - loss: 4334.3125\n",
      "1/1 [==============================] - 0s 22ms/step - loss: 5123.2554\n",
      "1/1 [==============================] - 0s 20ms/step - loss: 4817.4321\n",
      "1/1 [==============================] - 0s 27ms/step - loss: 4272.6606\n",
      "1/1 [==============================] - 0s 24ms/step - loss: 4390.5566\n",
      "1/1 [==============================] - 0s 25ms/step - loss: 4108.4673\n",
      "1/1 [==============================] - 0s 22ms/step - loss: 4283.2100\n",
      "1/1 [==============================] - 0s 23ms/step - loss: 5408.5376\n",
      "1/1 [==============================] - 0s 21ms/step - loss: 4090.0217\n"
     ]
    }
   ],
   "execution_count": 85
  },
  {
   "metadata": {
    "ExecuteTime": {
     "end_time": "2024-08-14T07:36:47.680100Z",
     "start_time": "2024-08-14T07:36:47.612788Z"
    }
   },
   "cell_type": "code",
   "source": [
    "plt.plot(l)\n",
    "plt.plot(l0)\n",
    "plt.show()"
   ],
   "id": "c8ec153d414107ba",
   "outputs": [
    {
     "data": {
      "text/plain": [
       "<Figure size 640x480 with 1 Axes>"
      ],
      "image/png": "[encoded data removed]"
     },
     "metadata": {},
     "output_type": "display_data"
    }
   ],
   "execution_count": 86
  },
  {
   "metadata": {
    "ExecuteTime": {
     "end_time": "2024-08-14T07:36:47.750087Z",
     "start_time": "2024-08-14T07:36:47.681508Z"
    }
   },
   "cell_type": "code",
   "source": "plt.plot(l0)",
   "id": "384bd6e228563e24",
   "outputs": [
    {
     "data": {
      "text/plain": [
       "[<matplotlib.lines.Line2D at 0x7f76b949fe50>]"
      ]
     },
     "execution_count": 87,
     "metadata": {},
     "output_type": "execute_result"
    },
    {
     "data": {
      "text/plain": [
       "<Figure size 640x480 with 1 Axes>"
      ],
      "image/png": "[encoded data removed]"
     },
     "metadata": {},
     "output_type": "display_data"
    }
   ],
   "execution_count": 87
  },
  {
   "metadata": {
    "ExecuteTime": {
     "end_time": "2024-08-14T07:36:47.754601Z",
     "start_time": "2024-08-14T07:36:47.751261Z"
    }
   },
   "cell_type": "code",
   "source": "print(f'best epoch: {min(l0)}',f'best batch: {min(l)}')",
   "id": "fca41b35f19cd3e4",
   "outputs": [
    {
     "name": "stdout",
     "output_type": "stream",
     "text": [
      "best epoch: 3483.961669921875 best batch: 1410.79150390625\n"
     ]
    }
   ],
   "execution_count": 88
  },
  {
   "metadata": {
    "ExecuteTime": {
     "end_time": "2024-08-14T07:36:47.765310Z",
     "start_time": "2024-08-14T07:36:47.755619Z"
    }
   },
   "cell_type": "code",
   "source": "l0[-1]",
   "id": "8e4fa70e4e58353a",
   "outputs": [
    {
     "data": {
      "text/plain": [
       "4090.021728515625"
      ]
     },
     "execution_count": 89,
     "metadata": {},
     "output_type": "execute_result"
    }
   ],
   "execution_count": 89
  },
  {
   "metadata": {
    "ExecuteTime": {
     "end_time": "2024-08-14T07:36:47.792673Z",
     "start_time": "2024-08-14T07:36:47.766288Z"
    }
   },
   "cell_type": "code",
   "source": "model.save('last.h5')",
   "id": "c668eb7fb71a0de",
   "outputs": [],
   "execution_count": 90
  },
  {
   "metadata": {
    "ExecuteTime": {
     "end_time": "2024-08-14T07:36:47.797642Z",
     "start_time": "2024-08-14T07:36:47.793646Z"
    }
   },
   "cell_type": "code",
   "source": "data[0]",
   "id": "5895a488c2f24299",
   "outputs": [
    {
     "data": {
      "text/plain": [
       "array([[[  66., -410.],\n",
       "        [ 141., -490.],\n",
       "        [ 167., -530.]],\n",
       "\n",
       "       [[  -1., -413.],\n",
       "        [  45., -472.],\n",
       "        [ 145., -526.]],\n",
       "\n",
       "       [[ -31., -199.],\n",
       "        [-219., -183.],\n",
       "        [  30., -317.]],\n",
       "\n",
       "       [[   3., -124.],\n",
       "        [   2.,  -99.],\n",
       "        [   7., -254.]],\n",
       "\n",
       "       [[  27., -261.],\n",
       "        [   5., -230.],\n",
       "        [   5., -399.]],\n",
       "\n",
       "       [[ -30., -383.],\n",
       "        [ -83., -409.],\n",
       "        [  83., -502.]],\n",
       "\n",
       "       [[  59., -415.],\n",
       "        [ 123., -508.],\n",
       "        [ 131., -534.]]])"
      ]
     },
     "execution_count": 91,
     "metadata": {},
     "output_type": "execute_result"
    }
   ],
   "execution_count": 91
  },
  {
   "metadata": {
    "ExecuteTime": {
     "end_time": "2024-08-14T07:36:47.819115Z",
     "start_time": "2024-08-14T07:36:47.798602Z"
    }
   },
   "cell_type": "code",
   "source": "restore_changes(data[0],0,None)",
   "id": "e0597680252fdb29",
   "outputs": [
    {
     "data": {
      "text/plain": [
       "[[[274.0, 523.0], [349.0, 443.0], [375.0, 403.0]],\n",
       " [[209.0, 517.0], [255.0, 458.0], [355.0, 404.0]],\n",
       " [[188.0, 581.0], [0.0, 597.0], [249.0, 463.0]],\n",
       " [[210.0, 653.0], [209.0, 678.0], [214.0, 523.0]],\n",
       " [[261.0, 670.0], [239.0, 701.0], [239.0, 532.0]],\n",
       " [[209.0, 560.0], [156.0, 534.0], [322.0, 441.0]],\n",
       " [[296.0, 527.0], [360.0, 434.0], [368.0, 408.0]]]"
      ]
     },
     "execution_count": 92,
     "metadata": {},
     "output_type": "execute_result"
    }
   ],
   "execution_count": 92
  },
  {
   "metadata": {
    "ExecuteTime": {
     "end_time": "2024-08-14T07:36:47.823199Z",
     "start_time": "2024-08-14T07:36:47.820237Z"
    }
   },
   "cell_type": "code",
   "source": [
    "# import cv2\n",
    "# img=cv2.imread('CutFrame_Output/output0/frame_0.png')\n",
    "# from utils import process_data\n",
    "# import re\n",
    "# from utils import list_change\n",
    "# \n",
    "# data = process_data(r'CutFrame_Output/output0/use0.txt')\n",
    "# data1 = list_change(r'CutFrame_Output/output0/use0.txt')\n",
    "# print(data)\n",
    "# print(data1)\n",
    "# for p in data:\n",
    "#     # print((p[0], p[1]))\n",
    "#     cv2.circle(img, (int(p[0]), int(p[1])), 3, (0, 255, 0), -1)\n",
    "# \n",
    "# for p in data1:\n",
    "#     # print((p[0], p[1]))\n",
    "#     cv2.circle(img, (int(p[0]), int(p[1])), 3, (0, 0, 255), -1)\n",
    "# \n",
    "# cv2.imwrite('output.png', img)"
   ],
   "id": "e1403453b1ac7ffd",
   "outputs": [],
   "execution_count": 93
  },
  {
   "metadata": {
    "ExecuteTime": {
     "end_time": "2024-08-14T07:39:05.232774Z",
     "start_time": "2024-08-14T07:39:05.229863Z"
    }
   },
   "cell_type": "code",
   "source": "# restore_changes(data[0],0)",
   "id": "71a96b6705140f20",
   "outputs": [],
   "execution_count": 104
  },
  {
   "metadata": {
    "ExecuteTime": {
     "end_time": "2024-08-14T07:39:05.520748Z",
     "start_time": "2024-08-14T07:39:05.234081Z"
    }
   },
   "cell_type": "code",
   "source": [
    "model = tf.keras.models.load_model('best.h5')\n",
    "a= model.predict(data[0]).tolist()"
   ],
   "id": "35ed8c3b2c6808a1",
   "outputs": [
    {
     "name": "stdout",
     "output_type": "stream",
     "text": [
      "WARNING:tensorflow:Layer lstm_3 will not use cuDNN kernels since it doesn't meet the criteria. It will use a generic GPU kernel as fallback when running on GPU.\n",
      "1/1 [==============================] - 0s 108ms/step\n"
     ]
    }
   ],
   "execution_count": 105
  },
  {
   "metadata": {
    "ExecuteTime": {
     "end_time": "2024-08-14T07:39:05.525378Z",
     "start_time": "2024-08-14T07:39:05.522308Z"
    }
   },
   "cell_type": "code",
   "source": "a[0]",
   "id": "2e06408174cead2",
   "outputs": [
    {
     "data": {
      "text/plain": [
       "[[32.714881896972656, -389.96307373046875],\n",
       " [61.10493087768555, -438.6085205078125],\n",
       " [113.53036499023438, -511.25054931640625]]"
      ]
     },
     "execution_count": 106,
     "metadata": {},
     "output_type": "execute_result"
    }
   ],
   "execution_count": 106
  },
  {
   "metadata": {
    "ExecuteTime": {
     "end_time": "2024-08-14T07:39:05.537100Z",
     "start_time": "2024-08-14T07:39:05.526247Z"
    }
   },
   "cell_type": "code",
   "source": "data[0]",
   "id": "d771a8a086a8af73",
   "outputs": [
    {
     "data": {
      "text/plain": [
       "array([[[  66., -410.],\n",
       "        [ 141., -490.],\n",
       "        [ 167., -530.]],\n",
       "\n",
       "       [[  -1., -413.],\n",
       "        [  45., -472.],\n",
       "        [ 145., -526.]],\n",
       "\n",
       "       [[ -31., -199.],\n",
       "        [-219., -183.],\n",
       "        [  30., -317.]],\n",
       "\n",
       "       [[   3., -124.],\n",
       "        [   2.,  -99.],\n",
       "        [   7., -254.]],\n",
       "\n",
       "       [[  27., -261.],\n",
       "        [   5., -230.],\n",
       "        [   5., -399.]],\n",
       "\n",
       "       [[ -30., -383.],\n",
       "        [ -83., -409.],\n",
       "        [  83., -502.]],\n",
       "\n",
       "       [[  59., -415.],\n",
       "        [ 123., -508.],\n",
       "        [ 131., -534.]]])"
      ]
     },
     "execution_count": 107,
     "metadata": {},
     "output_type": "execute_result"
    }
   ],
   "execution_count": 107
  },
  {
   "metadata": {
    "ExecuteTime": {
     "end_time": "2024-08-14T07:39:05.922883Z",
     "start_time": "2024-08-14T07:39:05.538595Z"
    }
   },
   "cell_type": "code",
   "source": [
    "points = restore_changes(a,0,None)\n",
    "# points = ['pass']+points\n",
    "# del(points[-1])\n",
    "for n,f in enumerate(points):\n",
    "    # if n==0:\n",
    "    #     continue\n",
    "    img = cv2.imread(f'./CutFrame_Output/output0/frame_{n}.png')\n",
    "    for p in f:\n",
    "        # print((p[0], p[1]))\n",
    "        cv2.circle(img, (int(p[0]), int(p[1])), 3, (0, 255, 0), -1)\n",
    "    cv2.imwrite(f'outputs/output{n}.png', img)"
   ],
   "id": "f28e0383904f9cf0",
   "outputs": [],
   "execution_count": 108
  }
 ],
 "metadata": {
  "kernelspec": {
   "display_name": "Python 3",
   "language": "python",
   "name": "python3"
  },
  "language_info": {
   "codemirror_mode": {
    "name": "ipython",
    "version": 2
   },
   "file_extension": ".py",
   "mimetype": "text/x-python",
   "name": "python",
   "nbconvert_exporter": "python",
   "pygments_lexer": "ipython2",
   "version": "2.7.6"
  }
 },
 "nbformat": 4,
 "nbformat_minor": 5
}
