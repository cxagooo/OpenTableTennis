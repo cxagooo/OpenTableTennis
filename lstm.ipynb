{
 "cells": [
  {
   "cell_type": "code",
   "execution_count": 46,
   "id": "initial_id",
   "metadata": {
    "ExecuteTime": {
     "end_time": "2024-08-06T12:17:41.694964Z",
     "start_time": "2024-08-06T12:17:41.396961Z"
    }
   },
   "outputs": [],
   "source": [
    "from list_change import list_change\n",
    "import pandas as pd\n",
    "import numpy as np\n",
    "import glob\n",
    "from keras import Sequential\n",
    "from keras.layers import LSTM, Dense\n",
    "import copy\n",
    "import matplotlib.pyplot as plt"
   ]
  },
  {
   "cell_type": "code",
   "execution_count": null,
   "id": "6c8250dc0da61856",
   "metadata": {
    "ExecuteTime": {
     "end_time": "2024-08-06T07:50:19.887171Z",
     "start_time": "2024-08-06T07:50:19.873171Z"
    }
   },
   "outputs": [],
   "source": [
    "files = glob.glob('CutFrame_Output/output*/use2.txt')\n",
    "data = [list_change(f) for f in files]"
   ]
  },
  {
   "cell_type": "code",
   "execution_count": 24,
   "id": "7a4461165a4aeb7e",
   "metadata": {
    "ExecuteTime": {
     "end_time": "2024-08-06T08:52:30.496465Z",
     "start_time": "2024-08-06T08:52:30.467488Z"
    }
   },
   "outputs": [],
   "source": [
    "data=[]\n",
    "for _dir in glob.glob('CutFrame_Output/output*/'):\n",
    "    data.append([list_change(f) for f in glob.glob(_dir+'use*.txt')])\n",
    "data = np.array(data)"
   ]
  },
  {
   "cell_type": "code",
   "execution_count": 26,
   "id": "4cc58cc8d4db5d91",
   "metadata": {
    "ExecuteTime": {
     "end_time": "2024-08-06T08:52:41.335267Z",
     "start_time": "2024-08-06T08:52:41.319270Z"
    }
   },
   "outputs": [
    {
     "data": {
      "text/plain": [
       "24"
      ]
     },
     "execution_count": 26,
     "metadata": {},
     "output_type": "execute_result"
    }
   ],
   "source": [
    "len(data)"
   ]
  },
  {
   "cell_type": "code",
   "execution_count": 23,
   "id": "8fa4297456a5a0a1",
   "metadata": {
    "ExecuteTime": {
     "end_time": "2024-08-06T08:51:53.714155Z",
     "start_time": "2024-08-06T08:51:53.696155Z"
    }
   },
   "outputs": [
    {
     "data": {
      "text/plain": [
       "array([[[  24., -351.],\n",
       "        [  82., -386.],\n",
       "        [ 162., -462.]],\n",
       "\n",
       "       [[  18., -330.],\n",
       "        [ -27., -297.],\n",
       "        [  69., -407.]],\n",
       "\n",
       "       [[  78., -350.],\n",
       "        [ 139., -427.],\n",
       "        [ 172., -458.]]])"
      ]
     },
     "execution_count": 23,
     "metadata": {},
     "output_type": "execute_result"
    }
   ],
   "source": [
    "data[0]"
   ]
  },
  {
   "cell_type": "code",
   "execution_count": 5,
   "id": "2686e00ad07fbed5",
   "metadata": {
    "ExecuteTime": {
     "end_time": "2024-08-06T07:53:55.583436Z",
     "start_time": "2024-08-06T07:53:55.553438Z"
    }
   },
   "outputs": [
    {
     "data": {
      "text/html": [
       "<div>\n",
       "<style scoped>\n",
       "    .dataframe tbody tr th:only-of-type {\n",
       "        vertical-align: middle;\n",
       "    }\n",
       "\n",
       "    .dataframe tbody tr th {\n",
       "        vertical-align: top;\n",
       "    }\n",
       "\n",
       "    .dataframe thead th {\n",
       "        text-align: right;\n",
       "    }\n",
       "</style>\n",
       "<table border=\"1\" class=\"dataframe\">\n",
       "  <thead>\n",
       "    <tr style=\"text-align: right;\">\n",
       "      <th></th>\n",
       "      <th>0</th>\n",
       "      <th>1</th>\n",
       "      <th>2</th>\n",
       "    </tr>\n",
       "  </thead>\n",
       "  <tbody>\n",
       "    <tr>\n",
       "      <th>0</th>\n",
       "      <td>[78.0, -350.0]</td>\n",
       "      <td>[139.0, -427.0]</td>\n",
       "      <td>[172.0, -458.0]</td>\n",
       "    </tr>\n",
       "    <tr>\n",
       "      <th>1</th>\n",
       "      <td>[63.0, -341.0]</td>\n",
       "      <td>[118.0, -383.0]</td>\n",
       "      <td>[178.0, -450.0]</td>\n",
       "    </tr>\n",
       "    <tr>\n",
       "      <th>2</th>\n",
       "      <td>[27.0, -369.0]</td>\n",
       "      <td>[78.0, -424.0]</td>\n",
       "      <td>[144.0, -471.0]</td>\n",
       "    </tr>\n",
       "    <tr>\n",
       "      <th>3</th>\n",
       "      <td>[48.0, -354.0]</td>\n",
       "      <td>[99.0, -390.0]</td>\n",
       "      <td>[167.0, -470.0]</td>\n",
       "    </tr>\n",
       "    <tr>\n",
       "      <th>4</th>\n",
       "      <td>[9.0, -356.0]</td>\n",
       "      <td>[-37.0, -332.0]</td>\n",
       "      <td>[117.0, -445.0]</td>\n",
       "    </tr>\n",
       "    <tr>\n",
       "      <th>5</th>\n",
       "      <td>[72.0, -364.0]</td>\n",
       "      <td>[126.0, -390.0]</td>\n",
       "      <td>[173.0, -475.0]</td>\n",
       "    </tr>\n",
       "    <tr>\n",
       "      <th>6</th>\n",
       "      <td>[62.0, -347.0]</td>\n",
       "      <td>[109.0, -371.0]</td>\n",
       "      <td>[167.0, -470.0]</td>\n",
       "    </tr>\n",
       "    <tr>\n",
       "      <th>7</th>\n",
       "      <td>[51.0, -366.0]</td>\n",
       "      <td>[103.0, -397.0]</td>\n",
       "      <td>[160.0, -475.0]</td>\n",
       "    </tr>\n",
       "    <tr>\n",
       "      <th>8</th>\n",
       "      <td>[46.0, -360.0]</td>\n",
       "      <td>[101.0, -369.0]</td>\n",
       "      <td>[164.0, -473.0]</td>\n",
       "    </tr>\n",
       "    <tr>\n",
       "      <th>9</th>\n",
       "      <td>[59.0, -349.0]</td>\n",
       "      <td>[124.0, -392.0]</td>\n",
       "      <td>[168.0, -457.0]</td>\n",
       "    </tr>\n",
       "    <tr>\n",
       "      <th>10</th>\n",
       "      <td>[64.0, -346.0]</td>\n",
       "      <td>[107.0, -334.0]</td>\n",
       "      <td>[172.0, -455.0]</td>\n",
       "    </tr>\n",
       "    <tr>\n",
       "      <th>11</th>\n",
       "      <td>[49.0, -349.0]</td>\n",
       "      <td>[99.0, -389.0]</td>\n",
       "      <td>[156.0, -464.0]</td>\n",
       "    </tr>\n",
       "    <tr>\n",
       "      <th>12</th>\n",
       "      <td>[26.0, -351.0]</td>\n",
       "      <td>[71.0, -401.0]</td>\n",
       "      <td>[152.0, -448.0]</td>\n",
       "    </tr>\n",
       "    <tr>\n",
       "      <th>13</th>\n",
       "      <td>[74.0, -353.0]</td>\n",
       "      <td>[118.0, -398.0]</td>\n",
       "      <td>[167.0, -477.0]</td>\n",
       "    </tr>\n",
       "    <tr>\n",
       "      <th>14</th>\n",
       "      <td>[84.0, -367.0]</td>\n",
       "      <td>[120.0, -445.0]</td>\n",
       "      <td>[173.0, -488.0]</td>\n",
       "    </tr>\n",
       "    <tr>\n",
       "      <th>15</th>\n",
       "      <td>[91.0, -387.0]</td>\n",
       "      <td>[88.0, -500.0]</td>\n",
       "      <td>[161.0, -483.0]</td>\n",
       "    </tr>\n",
       "    <tr>\n",
       "      <th>16</th>\n",
       "      <td>[40.0, -355.0]</td>\n",
       "      <td>[104.0, -395.0]</td>\n",
       "      <td>[171.0, -462.0]</td>\n",
       "    </tr>\n",
       "    <tr>\n",
       "      <th>17</th>\n",
       "      <td>[36.0, -353.0]</td>\n",
       "      <td>[94.0, -402.0]</td>\n",
       "      <td>[168.0, -458.0]</td>\n",
       "    </tr>\n",
       "    <tr>\n",
       "      <th>18</th>\n",
       "      <td>[55.0, -389.0]</td>\n",
       "      <td>[36.0, -364.0]</td>\n",
       "      <td>[173.0, -466.0]</td>\n",
       "    </tr>\n",
       "    <tr>\n",
       "      <th>19</th>\n",
       "      <td>[24.0, -367.0]</td>\n",
       "      <td>[62.0, -374.0]</td>\n",
       "      <td>[147.0, -470.0]</td>\n",
       "    </tr>\n",
       "    <tr>\n",
       "      <th>20</th>\n",
       "      <td>[-9.0, -231.0]</td>\n",
       "      <td>[-10.0, -230.0]</td>\n",
       "      <td>[114.0, -334.0]</td>\n",
       "    </tr>\n",
       "    <tr>\n",
       "      <th>21</th>\n",
       "      <td>[48.0, -350.0]</td>\n",
       "      <td>[111.0, -385.0]</td>\n",
       "      <td>[170.0, -465.0]</td>\n",
       "    </tr>\n",
       "    <tr>\n",
       "      <th>22</th>\n",
       "      <td>[30.0, -232.0]</td>\n",
       "      <td>[99.0, -285.0]</td>\n",
       "      <td>[147.0, -340.0]</td>\n",
       "    </tr>\n",
       "    <tr>\n",
       "      <th>23</th>\n",
       "      <td>[66.0, -367.0]</td>\n",
       "      <td>[138.0, -432.0]</td>\n",
       "      <td>[168.0, -474.0]</td>\n",
       "    </tr>\n",
       "  </tbody>\n",
       "</table>\n",
       "</div>"
      ],
      "text/plain": [
       "                 0                1                2\n",
       "0   [78.0, -350.0]  [139.0, -427.0]  [172.0, -458.0]\n",
       "1   [63.0, -341.0]  [118.0, -383.0]  [178.0, -450.0]\n",
       "2   [27.0, -369.0]   [78.0, -424.0]  [144.0, -471.0]\n",
       "3   [48.0, -354.0]   [99.0, -390.0]  [167.0, -470.0]\n",
       "4    [9.0, -356.0]  [-37.0, -332.0]  [117.0, -445.0]\n",
       "5   [72.0, -364.0]  [126.0, -390.0]  [173.0, -475.0]\n",
       "6   [62.0, -347.0]  [109.0, -371.0]  [167.0, -470.0]\n",
       "7   [51.0, -366.0]  [103.0, -397.0]  [160.0, -475.0]\n",
       "8   [46.0, -360.0]  [101.0, -369.0]  [164.0, -473.0]\n",
       "9   [59.0, -349.0]  [124.0, -392.0]  [168.0, -457.0]\n",
       "10  [64.0, -346.0]  [107.0, -334.0]  [172.0, -455.0]\n",
       "11  [49.0, -349.0]   [99.0, -389.0]  [156.0, -464.0]\n",
       "12  [26.0, -351.0]   [71.0, -401.0]  [152.0, -448.0]\n",
       "13  [74.0, -353.0]  [118.0, -398.0]  [167.0, -477.0]\n",
       "14  [84.0, -367.0]  [120.0, -445.0]  [173.0, -488.0]\n",
       "15  [91.0, -387.0]   [88.0, -500.0]  [161.0, -483.0]\n",
       "16  [40.0, -355.0]  [104.0, -395.0]  [171.0, -462.0]\n",
       "17  [36.0, -353.0]   [94.0, -402.0]  [168.0, -458.0]\n",
       "18  [55.0, -389.0]   [36.0, -364.0]  [173.0, -466.0]\n",
       "19  [24.0, -367.0]   [62.0, -374.0]  [147.0, -470.0]\n",
       "20  [-9.0, -231.0]  [-10.0, -230.0]  [114.0, -334.0]\n",
       "21  [48.0, -350.0]  [111.0, -385.0]  [170.0, -465.0]\n",
       "22  [30.0, -232.0]   [99.0, -285.0]  [147.0, -340.0]\n",
       "23  [66.0, -367.0]  [138.0, -432.0]  [168.0, -474.0]"
      ]
     },
     "execution_count": 5,
     "metadata": {},
     "output_type": "execute_result"
    }
   ],
   "source": [
    "# dataf = [pd.DataFrame(i,copy=True) for i in data]\n",
    "# dataf"
   ]
  },
  {
   "cell_type": "code",
   "execution_count": 32,
   "id": "48a14b34f0bcce4e",
   "metadata": {
    "ExecuteTime": {
     "end_time": "2024-08-06T10:58:46.214427Z",
     "start_time": "2024-08-06T10:58:46.206475Z"
    }
   },
   "outputs": [],
   "source": [
    "X = copy.deepcopy(data)\n",
    "Y = copy.deepcopy(data)\n",
    "X = [np.delete(X, -1, axis=1)]\n",
    "Y = np.delete(Y, 0, axis=1)"
   ]
  },
  {
   "cell_type": "code",
   "execution_count": 34,
   "id": "e3797aa57d0a0ce4",
   "metadata": {
    "ExecuteTime": {
     "end_time": "2024-08-06T11:02:47.371428Z",
     "start_time": "2024-08-06T11:02:47.358429Z"
    }
   },
   "outputs": [
    {
     "data": {
      "text/plain": [
       "(24, 2, 3, 2)"
      ]
     },
     "execution_count": 34,
     "metadata": {},
     "output_type": "execute_result"
    }
   ],
   "source": [
    "X.shape"
   ]
  },
  {
   "cell_type": "code",
   "execution_count": 43,
   "id": "ebf95cc71b8aa522",
   "metadata": {
    "ExecuteTime": {
     "end_time": "2024-08-06T12:16:25.973963Z",
     "start_time": "2024-08-06T12:16:22.957971Z"
    }
   },
   "outputs": [],
   "source": [
    "l=[]\n",
    "model = Sequential()\n",
    "model.add(LSTM(50, activation='relu', return_sequences=True, input_shape=(X.shape[2], X.shape[3])))\n",
    "model.add(Dense(2))\n",
    "model.compile(optimizer='adam', loss='mse')\n",
    "# history = model.fit(X, Y, epochs=100, batch_size=72, validation_data=(X, Y), verbose=1, shuffle=False)\n",
    "for epoch in range(20):\n",
    "    for x, y in zip(X, Y):\n",
    "        loss = model.train_on_batch(x, y)\n",
    "        l.append(loss)"
   ]
  },
  {
   "cell_type": "code",
   "execution_count": 47,
   "id": "c8ec153d414107ba",
   "metadata": {
    "ExecuteTime": {
     "end_time": "2024-08-06T12:17:45.974962Z",
     "start_time": "2024-08-06T12:17:45.839962Z"
    }
   },
   "outputs": [
    {
     "data": {
      "text/plain": [
       "[<matplotlib.lines.Line2D at 0x13ee7634dc0>]"
      ]
     },
     "execution_count": 47,
     "metadata": {},
     "output_type": "execute_result"
    },
    {
     "data": {
      "image/png": "[encoded data removed]",
      "text/plain": [
       "<Figure size 640x480 with 1 Axes>"
      ]
     },
     "metadata": {},
     "output_type": "display_data"
    }
   ],
   "source": [
    "plt.plot(l)"
   ]
  },
  {
   "cell_type": "code",
   "execution_count": null,
   "id": "52896010a14aa12f",
   "metadata": {},
   "outputs": [],
   "source": [
    "# model = Sequential()\n",
    "# model.add(LSTM(50, activation='relu', return_sequences=True, input_shape=(data.shape()[1], data.shape[2])))"
   ]
  }
 ],
 "metadata": {
  "kernelspec": {
   "display_name": "Python 3 (ipykernel)",
   "language": "python",
   "name": "python3"
  },
  "language_info": {
   "codemirror_mode": {
    "name": "ipython",
    "version": 3
   },
   "file_extension": ".py",
   "mimetype": "text/x-python",
   "name": "python",
   "nbconvert_exporter": "python",
   "pygments_lexer": "ipython3",
   "version": "3.12.4"
  }
 },
 "nbformat": 4,
 "nbformat_minor": 5
}
